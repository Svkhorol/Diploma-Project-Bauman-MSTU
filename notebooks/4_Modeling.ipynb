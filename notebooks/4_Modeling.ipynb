{
 "cells": [
  {
   "cell_type": "markdown",
   "id": "f064f3fa",
   "metadata": {},
   "source": [
    "## Создание ML-моделей "
   ]
  },
  {
   "cell_type": "markdown",
   "id": "8b158088",
   "metadata": {},
   "source": [
    "### Библиотеки и пользовательские функции"
   ]
  },
  {
   "cell_type": "code",
   "execution_count": 1,
   "id": "3f1beca4",
   "metadata": {},
   "outputs": [],
   "source": [
    "\n",
    "import matplotlib.pyplot as plt\n",
    "import numpy as np\n",
    "import pandas as pd\n",
    "import pickle\n",
    "import seaborn as sns\n",
    "\n",
    "from sklearn.ensemble import RandomForestRegressor\n",
    "from sklearn.linear_model import Ridge\n",
    "from sklearn.metrics import mean_squared_error, r2_score\n",
    "from sklearn.model_selection import cross_validate, train_test_split\n",
    "from sklearn.model_selection import GridSearchCV, RepeatedKFold\n",
    "from sklearn.pipeline import make_pipeline\n",
    "from sklearn.preprocessing import PolynomialFeatures\n",
    "\n",
    "from catboost import CatBoostRegressor\n",
    "from xgboost import XGBRegressor\n",
    "\n",
    "from tensorflow import keras\n",
    "from tensorflow.keras import layers\n",
    "from keras.callbacks import EarlyStopping\n",
    "from keras.callbacks import ModelCheckpoint\n"
   ]
  },
  {
   "cell_type": "markdown",
   "id": "8cb072d7",
   "metadata": {},
   "source": [
    "  "
   ]
  },
  {
   "cell_type": "code",
   "execution_count": 14,
   "id": "decd89a3",
   "metadata": {},
   "outputs": [],
   "source": [
    "def create_df():\n",
    "    '''\n",
    "    Функция для создания датафрейма для сохранения метрик\n",
    "    \n",
    "    '''\n",
    "    df = pd.DataFrame(columns=['Модель',\n",
    "                               'Прогнозируемая переменная',\n",
    "                               'Лучшие параметры',\n",
    "                               'Среднеквадратическая ошибка (MSE)',\n",
    "                               'Коэффициент детерминации (R^2)']\n",
    "                      ).set_index(['Модель'])\n",
    "    return df"
   ]
  },
  {
   "cell_type": "code",
   "execution_count": 4,
   "id": "9c7bc62e",
   "metadata": {},
   "outputs": [],
   "source": [
    "def tune_model(model, param_grid):\n",
    "    '''\n",
    "    Функция подбора гиперпараметров\n",
    "    Выводит и возвращает словарь с параметрами\n",
    "    \n",
    "    '''\n",
    "    \n",
    "    # Поиск по сетке\n",
    "    grid_search = GridSearchCV(\n",
    "                               model,\n",
    "                               param_grid=param_grid, \n",
    "                               scoring='neg_mean_squared_error',\n",
    "                               cv=cv,\n",
    "                               verbose=True, n_jobs=-1\n",
    "                               )\n",
    "    grid_search.fit(X_train, y_module_train)\n",
    "    \n",
    "    # Лучшие параметры\n",
    "    print()\n",
    "    print(\n",
    "          pd.DataFrame(grid_search.best_params_,\n",
    "          index=[f'Параметры лучшей модели {type(model).__name__}']).T\n",
    "          )\n",
    "    \n",
    "    return grid_search.best_params_\n"
   ]
  },
  {
   "cell_type": "code",
   "execution_count": 5,
   "id": "1a6b2290",
   "metadata": {},
   "outputs": [],
   "source": [
    "def save_model(model, best_param, models_dict):\n",
    "    '''\n",
    "    Функция сохраняет модель и выбранные параметры  в словарь models_dict...\n",
    "    \n",
    "    '''\n",
    "    \n",
    "    model_name = type(model).__name__\n",
    "    models_dict[model_name] = {\n",
    "          'model': model,\n",
    "          'params': best_param\n",
    "                              }"
   ]
  },
  {
   "cell_type": "markdown",
   "id": "f87242f3",
   "metadata": {},
   "source": [
    "Функции для оценивания моделей кросс-валидацией"
   ]
  },
  {
   "cell_type": "code",
   "execution_count": 6,
   "id": "2b56759d",
   "metadata": {},
   "outputs": [],
   "source": [
    "# для модуля упругости при растяжении\n",
    "\n",
    "def score_module(model, best_param):\n",
    "    '''\n",
    "    Функция, рассчитывающая метрики MSE и R2\n",
    "    Печатает метрики\n",
    "    Вносит метрики в итоговую таблицу\n",
    "    Сохраняет модель в словарь\n",
    "    \n",
    "    '''\n",
    "    \n",
    "    # метрики для оценок\n",
    "    scoring = [\"neg_mean_squared_error\", \"r2\"]\n",
    "    \n",
    "    # расчет на кросс-валидации\n",
    "    scores = cross_validate(model, X_train, y_module_train, cv=cv, scoring=scoring, n_jobs=-1)\n",
    "    # scores  возвращает словарь\n",
    "    \n",
    "    # вывод оценок\n",
    "    print(f'Оценка {type(model).__name__} на обучающей выборке')\n",
    "    print(\"Mean MSE:\", -scores[\"test_neg_mean_squared_error\"].mean().round(4), \"±\", scores[\"test_neg_mean_squared_error\"].std().round(4))\n",
    "    print(\"Mean R^2:\", scores[\"test_r2\"].mean().round(4), \"±\", scores[\"test_r2\"].std().round(4))\n",
    "    \n",
    "    # заполнение датафрейма оценками\n",
    "    df_module.loc[type(model).__name__] = ['Модуль упругости при растяжении',\n",
    "                                            best_param,\n",
    "    f\"{-scores['test_neg_mean_squared_error'].mean():.3f} ± {scores['test_neg_mean_squared_error'].std():.3f}\",\n",
    "    f\"{scores['test_r2'].mean():.3f} ± {scores['test_r2'].std():.3f}\"]\n",
    "    \n",
    "    # пользовательская функция сохранения модели в словарь\n",
    "    save_model(model, best_param, models_dict_module)\n"
   ]
  },
  {
   "cell_type": "code",
   "execution_count": 7,
   "id": "2053585d",
   "metadata": {},
   "outputs": [],
   "source": [
    "# для прочности при растяжении\n",
    "\n",
    "def score_strength(model, best_param):\n",
    "    '''\n",
    "    Функция, рассчитывающая метрики MSE и R2\n",
    "    Печатает метрики\n",
    "    Вносит метрики в итоговую таблицу\n",
    "    Сохраняет модель в словарь\n",
    "    \n",
    "    '''\n",
    "    \n",
    "    # метрики для оценок\n",
    "    scoring = [\"neg_mean_squared_error\", \"r2\"]\n",
    "    \n",
    "    # расчет на кросс-валидации\n",
    "    scores = cross_validate(model, X_train, y_strength_train, cv=cv, scoring=scoring, n_jobs=-1)\n",
    "    # scores  возвращает словарь\n",
    "    \n",
    "    # вывод оценок\n",
    "    print(f'Оценка {type(model).__name__} на обучающей выборке')\n",
    "    print(\"Mean MSE:\", -scores[\"test_neg_mean_squared_error\"].mean().round(4), \"±\", scores[\"test_neg_mean_squared_error\"].std().round(4))\n",
    "    print(\"Mean R^2:\", scores[\"test_r2\"].mean().round(4), \"±\", scores[\"test_r2\"].std().round(4))\n",
    "    \n",
    "    # заполнение датафрейма оценками\n",
    "    df_strength.loc[type(model).__name__] = ['Прочность при растяжении',\n",
    "                                              best_param,\n",
    "    f\"{-scores['test_neg_mean_squared_error'].mean():.3f} ± {scores['test_neg_mean_squared_error'].std():.3f}\",\n",
    "    f\"{scores['test_r2'].mean():.3f} ± {scores['test_r2'].std():.3f}\"]\n",
    "    \n",
    "    # пользовательская функция сохранения модели в словарь\n",
    "    save_model(model, best_param, models_dict_strength)\n"
   ]
  },
  {
   "cell_type": "markdown",
   "id": "2a1b0a7a",
   "metadata": {},
   "source": [
    "Функция для оценивания моделей на тестовой выборке"
   ]
  },
  {
   "cell_type": "code",
   "execution_count": 8,
   "id": "0cf6e4b1",
   "metadata": {},
   "outputs": [],
   "source": [
    "def test(models_dict, y_train, y_test):\n",
    "    '''\n",
    "    Функция оценки модели на тестовой выборке\n",
    "    \n",
    "    '''\n",
    "    \n",
    "    # пустой датафрейм\n",
    "    df = create_df()\n",
    "    \n",
    "    # для каждой модели в словаре моделей\n",
    "    for name, model_dict in models_dict.items():\n",
    "        # извлекаем модель\n",
    "        model = model_dict['model']\n",
    "        # извлекаем параметры\n",
    "        best_param = model_dict['params']\n",
    "        \n",
    "        # обучение модели на train-выборке и прогноз на test-выборке\n",
    "        model.fit(X_train, y_train)\n",
    "        y_pred = model.predict(X_test)\n",
    "        \n",
    "        # оценка качества прогнозов на тестовой выборке\n",
    "        mse = mean_squared_error(y_test, y_pred)\n",
    "        r2 = r2_score(y_test, y_pred)\n",
    "    \n",
    "        # заполнение датафрейма оценками\n",
    "        df.loc[type(model).__name__] = [y_train.name[:-5],\n",
    "                                        best_param,\n",
    "                                        f\"{mse:.3f}\",\n",
    "                                        f\"{r2:.3f} \"]\n",
    "    \n",
    "    return df"
   ]
  },
  {
   "cell_type": "code",
   "execution_count": 9,
   "id": "d820f945",
   "metadata": {},
   "outputs": [],
   "source": [
    "\n",
    "# Стратегия перекрестной проверки\n",
    "cv = RepeatedKFold(n_splits=10, n_repeats=2, random_state=0)\n"
   ]
  },
  {
   "cell_type": "markdown",
   "id": "f3d45c34",
   "metadata": {},
   "source": [
    "  "
   ]
  },
  {
   "cell_type": "markdown",
   "id": "46538338",
   "metadata": {},
   "source": [
    "### Подготовка данных"
   ]
  },
  {
   "cell_type": "code",
   "execution_count": 2,
   "id": "2b0a793f",
   "metadata": {},
   "outputs": [
    {
     "data": {
      "text/plain": [
       "Index(['Количество отвердителя, м.%', 'Содержание эпоксидных групп, %',\n",
       "       'Температура вспышки, С', 'Потребление смолы, г/м2',\n",
       "       'Угол нашивки, град', 'Шаг нашивки', 'Плотность нашивки',\n",
       "       'Плотность, кг/м3', 'Поверхностная плотность, г/м2',\n",
       "       'Модуль упругости, ГПа', 'Соотношение матрица-наполнитель',\n",
       "       'Модуль упругости при растяжении, ГПа',\n",
       "       'Прочность при растяжении, МПа'],\n",
       "      dtype='object')"
      ]
     },
     "execution_count": 2,
     "metadata": {},
     "output_type": "execute_result"
    }
   ],
   "source": [
    "data = pd.read_csv('../data/processed.csv')\n",
    "data.columns"
   ]
  },
  {
   "cell_type": "code",
   "execution_count": 11,
   "id": "2694b356",
   "metadata": {},
   "outputs": [
    {
     "data": {
      "text/plain": [
       "11"
      ]
     },
     "execution_count": 11,
     "metadata": {},
     "output_type": "execute_result"
    }
   ],
   "source": [
    "module = data['Модуль упругости при растяжении, ГПа']   # целевая переменная\n",
    "strength = data['Прочность при растяжении, МПа']        # целевая переменная\n",
    "\n",
    "X = data.drop(columns=\n",
    "              ['Модуль упругости при растяжении, ГПа',  # признаки\n",
    "               'Прочность при растяжении, МПа'])\n",
    "len(X.columns)"
   ]
  },
  {
   "cell_type": "code",
   "execution_count": 12,
   "id": "1972bbde",
   "metadata": {},
   "outputs": [
    {
     "name": "stdout",
     "output_type": "stream",
     "text": [
      "(655, 11) (655,) (655,)\n",
      "(281, 11) (281,) (281,)\n"
     ]
    }
   ],
   "source": [
    "# Разбиваем на train и test\n",
    "\n",
    "X_train, X_test,                    \\\n",
    "y_module_train, y_module_test,      \\\n",
    "y_strength_train, y_strength_test = \\\n",
    "train_test_split(\n",
    "                 X, module, strength, test_size=0.3, random_state=0\n",
    "                )\n",
    "\n",
    "print(X_train.shape, y_module_train.shape, y_strength_train.shape)\n",
    "print(X_test.shape, y_module_test.shape, y_strength_test.shape)"
   ]
  },
  {
   "cell_type": "markdown",
   "id": "a3f0feab",
   "metadata": {},
   "source": [
    "  "
   ]
  },
  {
   "cell_type": "markdown",
   "id": "2b2e743c",
   "metadata": {},
   "source": [
    "<font color=blue size=4>**Прогноз модуля упругости при растяжении**</font>  \n",
    "переменная `module`"
   ]
  },
  {
   "cell_type": "markdown",
   "id": "f4242b2c",
   "metadata": {},
   "source": [
    "Метрики оценивания:\n",
    "- MSE - mean squared error - среднеквадратическая ошибка  \n",
    "- R<sup>2</sup> - коэффициент детерминации"
   ]
  },
  {
   "cell_type": "code",
   "execution_count": 13,
   "id": "80708128",
   "metadata": {},
   "outputs": [],
   "source": [
    "\n",
    "# Датафрейм для записи MSE и R2\n",
    "df_module = create_df()\n",
    "\n",
    "# Пустой словарь для перечня моделей и их параметров\n",
    "models_dict_module = {}\n"
   ]
  },
  {
   "cell_type": "markdown",
   "id": "a9dd65b5",
   "metadata": {},
   "source": [
    "#### Градиентный бустинг  XGBoost"
   ]
  },
  {
   "cell_type": "code",
   "execution_count": 14,
   "id": "4b933c99",
   "metadata": {},
   "outputs": [],
   "source": [
    "param_xgb = {\n",
    "              'booster': ['gbtree', 'dart'],            # dart - c прорежеванием\n",
    "              'n_estimators': [10, 50, 100, 500],       # число деревьев\n",
    "              'max_depth': [3, 5, 7, 10],               # максимальная глубина дерева\n",
    "              'learning_rate': [0.01, 0.02, 0.1, 0.3],\n",
    "              'subsample': [0.5, 0.7, 1.0],             # доля обучающих образцов\n",
    "              'colsample_bytree': [0.5, 0.7, 1.0],      # доля обучающих признаков\n",
    "              'n_jobs': [-1]\n",
    "             }"
   ]
  },
  {
   "cell_type": "markdown",
   "id": "fbbf145e",
   "metadata": {},
   "source": [
    "Используем среднеквадратическую ошибку MSE в качестве функции потерь, в xgboost - squarederror задана по умолчанию. Оптимизация модели заключается в нахождении такого набора параметров модели, при котором среднее значение квадратов разностей между фактическими и прогнозируемыми значениями будет минимальным."
   ]
  },
  {
   "cell_type": "code",
   "execution_count": 15,
   "id": "6478bcff",
   "metadata": {},
   "outputs": [
    {
     "name": "stdout",
     "output_type": "stream",
     "text": [
      "Fitting 20 folds for each of 1152 candidates, totalling 23040 fits\n",
      "\n",
      "                 Параметры лучшей модели XGBRegressor\n",
      "booster                                          dart\n",
      "colsample_bytree                                  0.5\n",
      "learning_rate                                    0.02\n",
      "max_depth                                          10\n",
      "n_estimators                                       10\n",
      "n_jobs                                             -1\n",
      "subsample                                         0.7\n"
     ]
    }
   ],
   "source": [
    "\n",
    "xgb = XGBRegressor(random_state=0)   # tree_method=\"gpu_hist\"\n",
    "\n",
    "# Функция подбора гиперпараметров\n",
    "best_param_xgb = tune_model(xgb, param_xgb)\n"
   ]
  },
  {
   "cell_type": "code",
   "execution_count": 16,
   "id": "159229e4",
   "metadata": {},
   "outputs": [
    {
     "name": "stdout",
     "output_type": "stream",
     "text": [
      "Оценка XGBRegressor на обучающей выборке\n",
      "Mean MSE: 0.0391 ± 0.0065\n",
      "Mean R^2: -0.0111 ± 0.021\n"
     ]
    }
   ],
   "source": [
    "\n",
    "# Создание модели с лучшими параметрами\n",
    "best_xgb = XGBRegressor(random_state=0, **best_param_xgb)\n",
    "\n",
    "# Функция, рассчитывающая метрики MSE и R2 \n",
    "score_module(best_xgb, best_param_xgb)\n"
   ]
  },
  {
   "cell_type": "markdown",
   "id": "0323772e",
   "metadata": {},
   "source": [
    "#### Градиентный бустинг CatBoost"
   ]
  },
  {
   "cell_type": "code",
   "execution_count": 17,
   "id": "53ce7d06",
   "metadata": {},
   "outputs": [],
   "source": [
    "param_catboost = {\n",
    "                 'learning_rate': [0.01, 0.1],\n",
    "                 'depth': [4, 6, 7, 10],         # глубина дерева решений\n",
    "                 'l2_leaf_reg': [0.1, 1, 10],    # коэффициент регуляризации L2\n",
    "                 'iterations': [10, 50, 100]     # количество итераций обучения\n",
    "                  }"
   ]
  },
  {
   "cell_type": "code",
   "execution_count": 18,
   "id": "be9f4040",
   "metadata": {},
   "outputs": [
    {
     "name": "stdout",
     "output_type": "stream",
     "text": [
      "Fitting 20 folds for each of 72 candidates, totalling 1440 fits\n",
      "\n",
      "               Параметры лучшей модели CatBoostRegressor\n",
      "depth                                              10.00\n",
      "iterations                                         10.00\n",
      "l2_leaf_reg                                        10.00\n",
      "learning_rate                                       0.01\n"
     ]
    }
   ],
   "source": [
    "\n",
    "# по умолчанию все ядра процессора\n",
    "# task_type=\"GPU\"\n",
    "\n",
    "catboost = CatBoostRegressor(random_state=0, logging_level='Silent')\n",
    "\n",
    "# Функция подбора гиперпараметров\n",
    "best_param_catboost = tune_model(catboost, param_catboost)\n"
   ]
  },
  {
   "cell_type": "code",
   "execution_count": 19,
   "id": "0fcc550f",
   "metadata": {},
   "outputs": [
    {
     "name": "stdout",
     "output_type": "stream",
     "text": [
      "Оценка CatBoostRegressor на обучающей выборке\n",
      "Mean MSE: 0.039 ± 0.0065\n",
      "Mean R^2: -0.0101 ± 0.0143\n"
     ]
    }
   ],
   "source": [
    "\n",
    "# Создание модели с лучшими параметрами\n",
    "best_catboost = CatBoostRegressor(random_state=0, **best_param_catboost)\n",
    "\n",
    "# Функция, рассчитывающая метрики MSE и R2 \n",
    "score_module(best_catboost, best_param_catboost)\n"
   ]
  },
  {
   "cell_type": "markdown",
   "id": "7463759e",
   "metadata": {},
   "source": [
    "#### Случайный лес"
   ]
  },
  {
   "cell_type": "code",
   "execution_count": 20,
   "id": "7b1fcf50",
   "metadata": {},
   "outputs": [],
   "source": [
    "param_forest = {\n",
    "                'n_estimators': [50, 100, 200],\n",
    "                'max_depth': [2, 3, 5, 7],\n",
    "                'min_samples_split': [2, 4, 8],\n",
    "                'min_samples_leaf': [1, 2, 4],\n",
    "               }"
   ]
  },
  {
   "cell_type": "code",
   "execution_count": 21,
   "id": "0b5d94d8",
   "metadata": {},
   "outputs": [
    {
     "name": "stdout",
     "output_type": "stream",
     "text": [
      "Fitting 20 folds for each of 108 candidates, totalling 2160 fits\n",
      "\n",
      "                   Параметры лучшей модели RandomForestRegressor\n",
      "max_depth                                                      2\n",
      "min_samples_leaf                                               1\n",
      "min_samples_split                                              2\n",
      "n_estimators                                                 200\n"
     ]
    }
   ],
   "source": [
    "\n",
    "forest = RandomForestRegressor(random_state=0)\n",
    "\n",
    "# Функция подбора гиперпараметров\n",
    "best_param_forest = tune_model(forest, param_forest)\n"
   ]
  },
  {
   "cell_type": "code",
   "execution_count": 22,
   "id": "9088ce33",
   "metadata": {},
   "outputs": [
    {
     "name": "stdout",
     "output_type": "stream",
     "text": [
      "Оценка RandomForestRegressor на обучающей выборке\n",
      "Mean MSE: 0.0396 ± 0.0065\n",
      "Mean R^2: -0.0251 ± 0.0256\n"
     ]
    }
   ],
   "source": [
    "\n",
    "# Создание модели с лучшими параметрами\n",
    "best_forest = RandomForestRegressor(random_state=0, **best_param_forest)\n",
    "\n",
    "# Функция, рассчитывающая метрики MSE и R2 \n",
    "score_module(best_forest, best_param_forest)\n"
   ]
  },
  {
   "cell_type": "markdown",
   "id": "994ac12a",
   "metadata": {},
   "source": [
    "#### Полиномиальная регрессия  \n",
    "Полиномиальная интерполяция с Ridge регрессией  \n",
    "https://scikit-learn.org/stable/auto_examples/linear_model/plot_polynomial_interpolation.html"
   ]
  },
  {
   "cell_type": "code",
   "execution_count": 23,
   "id": "efaba636",
   "metadata": {},
   "outputs": [],
   "source": [
    "param_poly = {\n",
    "              'polynomialfeatures__degree': range(1, 5),\n",
    "              'ridge__alpha': [0.001, 0.01, 0.1, 1, 10, 100]\n",
    "             }"
   ]
  },
  {
   "cell_type": "code",
   "execution_count": 24,
   "id": "96b06279",
   "metadata": {},
   "outputs": [
    {
     "name": "stdout",
     "output_type": "stream",
     "text": [
      "Fitting 20 folds for each of 24 candidates, totalling 480 fits\n",
      "\n",
      "                            Параметры лучшей модели Pipeline\n",
      "polynomialfeatures__degree                                 1\n",
      "ridge__alpha                                             100\n"
     ]
    }
   ],
   "source": [
    "\n",
    "poly = make_pipeline(PolynomialFeatures(), Ridge())\n",
    "\n",
    "# Функция подбора гиперпараметров\n",
    "best_param_poly = tune_model(poly, param_poly)\n"
   ]
  },
  {
   "cell_type": "code",
   "execution_count": 25,
   "id": "fdaf5bb0",
   "metadata": {},
   "outputs": [
    {
     "name": "stdout",
     "output_type": "stream",
     "text": [
      "Оценка Pipeline на обучающей выборке\n",
      "Mean MSE: 0.0391 ± 0.0065\n",
      "Mean R^2: -0.012 ± 0.0166\n"
     ]
    }
   ],
   "source": [
    "\n",
    "# Создание модели с лучшими параметрами\n",
    "best_poly = make_pipeline(\n",
    "            PolynomialFeatures(degree=best_param_poly['polynomialfeatures__degree']),\n",
    "            Ridge(alpha=best_param_poly['ridge__alpha']))\n",
    "\n",
    "# Функция, рассчитывающая метрики MSE и R2\n",
    "score_module(best_poly, best_param_poly)\n"
   ]
  },
  {
   "cell_type": "code",
   "execution_count": 26,
   "id": "bd572d29",
   "metadata": {
    "scrolled": false
   },
   "outputs": [
    {
     "data": {
      "text/plain": [
       "{'XGBRegressor': {'model': XGBRegressor(base_score=None, booster='dart', callbacks=None,\n",
       "               colsample_bylevel=None, colsample_bynode=None,\n",
       "               colsample_bytree=0.5, early_stopping_rounds=None,\n",
       "               enable_categorical=False, eval_metric=None, feature_types=None,\n",
       "               gamma=None, gpu_id=None, grow_policy=None, importance_type=None,\n",
       "               interaction_constraints=None, learning_rate=0.02, max_bin=None,\n",
       "               max_cat_threshold=None, max_cat_to_onehot=None,\n",
       "               max_delta_step=None, max_depth=10, max_leaves=None,\n",
       "               min_child_weight=None, missing=nan, monotone_constraints=None,\n",
       "               n_estimators=10, n_jobs=-1, num_parallel_tree=None, predictor=None,\n",
       "               random_state=0, ...),\n",
       "  'params': {'booster': 'dart',\n",
       "   'colsample_bytree': 0.5,\n",
       "   'learning_rate': 0.02,\n",
       "   'max_depth': 10,\n",
       "   'n_estimators': 10,\n",
       "   'n_jobs': -1,\n",
       "   'subsample': 0.7}},\n",
       " 'CatBoostRegressor': {'model': <catboost.core.CatBoostRegressor at 0x2b7a1ddc3a0>,\n",
       "  'params': {'depth': 10,\n",
       "   'iterations': 10,\n",
       "   'l2_leaf_reg': 10,\n",
       "   'learning_rate': 0.01}},\n",
       " 'RandomForestRegressor': {'model': RandomForestRegressor(max_depth=2, n_estimators=200, random_state=0),\n",
       "  'params': {'max_depth': 2,\n",
       "   'min_samples_leaf': 1,\n",
       "   'min_samples_split': 2,\n",
       "   'n_estimators': 200}},\n",
       " 'Pipeline': {'model': Pipeline(steps=[('polynomialfeatures', PolynomialFeatures(degree=1)),\n",
       "                  ('ridge', Ridge(alpha=100))]),\n",
       "  'params': {'polynomialfeatures__degree': 1, 'ridge__alpha': 100}}}"
      ]
     },
     "execution_count": 26,
     "metadata": {},
     "output_type": "execute_result"
    }
   ],
   "source": [
    "# Проверим словарь с моделями\n",
    "models_dict_module"
   ]
  },
  {
   "cell_type": "markdown",
   "id": "10678225",
   "metadata": {},
   "source": [
    "  "
   ]
  },
  {
   "cell_type": "markdown",
   "id": "f4e054e9",
   "metadata": {},
   "source": [
    "<font color=blue size=4>**Прогноз прочности при растяжении**</font>  \n",
    "переменная `strength`"
   ]
  },
  {
   "cell_type": "code",
   "execution_count": 27,
   "id": "6aeb7b20",
   "metadata": {},
   "outputs": [],
   "source": [
    "\n",
    "# Датафрейм для записи MSE и R2\n",
    "df_strength = create_df()\n",
    "\n",
    "# Пустой словарь для перечня моделей и их параметров\n",
    "models_dict_strength = {}\n"
   ]
  },
  {
   "cell_type": "markdown",
   "id": "7ed38b09",
   "metadata": {},
   "source": [
    "Воспользуемся теми же словарями с гиперпараметрами, что и для моделей для модуля упругости при растяжении  \n",
    "#### Градиентный бустинг  XGBoost"
   ]
  },
  {
   "cell_type": "code",
   "execution_count": 28,
   "id": "e6104d76",
   "metadata": {},
   "outputs": [
    {
     "name": "stdout",
     "output_type": "stream",
     "text": [
      "Fitting 20 folds for each of 1152 candidates, totalling 23040 fits\n",
      "\n",
      "                 Параметры лучшей модели XGBRegressor\n",
      "booster                                          dart\n",
      "colsample_bytree                                  0.5\n",
      "learning_rate                                    0.02\n",
      "max_depth                                          10\n",
      "n_estimators                                       10\n",
      "n_jobs                                             -1\n",
      "subsample                                         0.7\n"
     ]
    }
   ],
   "source": [
    "\n",
    "xgb_strength = XGBRegressor(random_state=0)   # tree_method=\"gpu_hist\"\n",
    "\n",
    "# Функция подбора гиперпараметров\n",
    "best_param_xgb_strength = tune_model(xgb_strength, param_xgb)\n"
   ]
  },
  {
   "cell_type": "code",
   "execution_count": 29,
   "id": "7cb5d2f6",
   "metadata": {},
   "outputs": [
    {
     "name": "stdout",
     "output_type": "stream",
     "text": [
      "Оценка XGBRegressor на обучающей выборке\n",
      "Mean MSE: 0.0351 ± 0.0047\n",
      "Mean R^2: -0.0248 ± 0.0337\n"
     ]
    }
   ],
   "source": [
    "\n",
    "# Создание модели с лучшими параметрами\n",
    "best_xgb_strength = XGBRegressor(random_state=0, **best_param_xgb_strength)\n",
    "\n",
    "# Функция, рассчитывающая метрики MSE и R2 \n",
    "score_strength(best_xgb_strength, best_param_xgb_strength)\n"
   ]
  },
  {
   "cell_type": "markdown",
   "id": "de1daea6",
   "metadata": {},
   "source": [
    "#### Градиентный бустинг CatBoost"
   ]
  },
  {
   "cell_type": "code",
   "execution_count": 30,
   "id": "07774004",
   "metadata": {},
   "outputs": [
    {
     "name": "stdout",
     "output_type": "stream",
     "text": [
      "Fitting 20 folds for each of 72 candidates, totalling 1440 fits\n",
      "\n",
      "               Параметры лучшей модели CatBoostRegressor\n",
      "depth                                              10.00\n",
      "iterations                                         10.00\n",
      "l2_leaf_reg                                        10.00\n",
      "learning_rate                                       0.01\n"
     ]
    }
   ],
   "source": [
    "\n",
    "catboost_strength = CatBoostRegressor(random_state=0, logging_level='Silent')\n",
    "\n",
    "# Функция подбора гиперпараметров\n",
    "best_param_catboost_strength = tune_model(catboost_strength, param_catboost)\n"
   ]
  },
  {
   "cell_type": "code",
   "execution_count": 31,
   "id": "c9120640",
   "metadata": {},
   "outputs": [
    {
     "name": "stdout",
     "output_type": "stream",
     "text": [
      "Оценка CatBoostRegressor на обучающей выборке\n",
      "Mean MSE: 0.0349 ± 0.0048\n",
      "Mean R^2: -0.0187 ± 0.0184\n"
     ]
    }
   ],
   "source": [
    "\n",
    "# Создание модели с лучшими параметрами\n",
    "best_catboost_strength = CatBoostRegressor(random_state=0, **best_param_catboost_strength)\n",
    "\n",
    "# Функция, рассчитывающая метрики MSE и R2 \n",
    "score_strength(best_catboost_strength, best_param_catboost_strength)\n"
   ]
  },
  {
   "cell_type": "markdown",
   "id": "2f39dc69",
   "metadata": {},
   "source": [
    "#### Случайный лес"
   ]
  },
  {
   "cell_type": "code",
   "execution_count": 32,
   "id": "72040a30",
   "metadata": {},
   "outputs": [
    {
     "name": "stdout",
     "output_type": "stream",
     "text": [
      "Fitting 20 folds for each of 108 candidates, totalling 2160 fits\n",
      "\n",
      "                   Параметры лучшей модели RandomForestRegressor\n",
      "max_depth                                                      2\n",
      "min_samples_leaf                                               1\n",
      "min_samples_split                                              2\n",
      "n_estimators                                                 200\n"
     ]
    }
   ],
   "source": [
    "\n",
    "forest_strength = RandomForestRegressor(random_state=0)\n",
    "\n",
    "# Функция подбора гиперпараметров\n",
    "best_param_forest_strength = tune_model(forest_strength, param_forest)\n"
   ]
  },
  {
   "cell_type": "code",
   "execution_count": 33,
   "id": "aacb4457",
   "metadata": {},
   "outputs": [
    {
     "name": "stdout",
     "output_type": "stream",
     "text": [
      "Оценка RandomForestRegressor на обучающей выборке\n",
      "Mean MSE: 0.0354 ± 0.0046\n",
      "Mean R^2: -0.0347 ± 0.0299\n"
     ]
    }
   ],
   "source": [
    "\n",
    "# Создание модели с лучшими параметрами\n",
    "best_forest_strength = RandomForestRegressor(random_state=0, **best_param_forest_strength)\n",
    "\n",
    "# Функция, рассчитывающая метрики MSE и R2 \n",
    "score_strength(best_forest_strength, best_param_forest_strength)\n"
   ]
  },
  {
   "cell_type": "markdown",
   "id": "d047b446",
   "metadata": {},
   "source": [
    "#### Полиномиальная регрессия  "
   ]
  },
  {
   "cell_type": "code",
   "execution_count": 34,
   "id": "7d7a716f",
   "metadata": {},
   "outputs": [
    {
     "name": "stdout",
     "output_type": "stream",
     "text": [
      "Fitting 20 folds for each of 24 candidates, totalling 480 fits\n",
      "\n",
      "                            Параметры лучшей модели Pipeline\n",
      "polynomialfeatures__degree                                 1\n",
      "ridge__alpha                                             100\n"
     ]
    }
   ],
   "source": [
    "\n",
    "poly_strength = make_pipeline(PolynomialFeatures(), Ridge())\n",
    "\n",
    "# Функция подбора гиперпараметров\n",
    "best_param_poly_strength = tune_model(poly_strength, param_poly)\n"
   ]
  },
  {
   "cell_type": "code",
   "execution_count": 35,
   "id": "1e3960bb",
   "metadata": {},
   "outputs": [
    {
     "name": "stdout",
     "output_type": "stream",
     "text": [
      "Оценка Pipeline на обучающей выборке\n",
      "Mean MSE: 0.035 ± 0.0048\n",
      "Mean R^2: -0.0196 ± 0.0202\n"
     ]
    }
   ],
   "source": [
    "\n",
    "# Создание модели с лучшими параметрами\n",
    "best_poly_strength = make_pipeline(\n",
    "                     PolynomialFeatures(\n",
    "                         degree=best_param_poly_strength['polynomialfeatures__degree']),\n",
    "                     Ridge(\n",
    "                         alpha=best_param_poly_strength['ridge__alpha']))\n",
    "\n",
    "# Функция, рассчитывающая метрики MSE и R2 \n",
    "score_strength(best_poly_strength, best_param_poly_strength)\n"
   ]
  },
  {
   "cell_type": "code",
   "execution_count": 36,
   "id": "610f6719",
   "metadata": {},
   "outputs": [
    {
     "data": {
      "text/plain": [
       "{'XGBRegressor': {'model': XGBRegressor(base_score=None, booster='dart', callbacks=None,\n",
       "               colsample_bylevel=None, colsample_bynode=None,\n",
       "               colsample_bytree=0.5, early_stopping_rounds=None,\n",
       "               enable_categorical=False, eval_metric=None, feature_types=None,\n",
       "               gamma=None, gpu_id=None, grow_policy=None, importance_type=None,\n",
       "               interaction_constraints=None, learning_rate=0.02, max_bin=None,\n",
       "               max_cat_threshold=None, max_cat_to_onehot=None,\n",
       "               max_delta_step=None, max_depth=10, max_leaves=None,\n",
       "               min_child_weight=None, missing=nan, monotone_constraints=None,\n",
       "               n_estimators=10, n_jobs=-1, num_parallel_tree=None, predictor=None,\n",
       "               random_state=0, ...),\n",
       "  'params': {'booster': 'dart',\n",
       "   'colsample_bytree': 0.5,\n",
       "   'learning_rate': 0.02,\n",
       "   'max_depth': 10,\n",
       "   'n_estimators': 10,\n",
       "   'n_jobs': -1,\n",
       "   'subsample': 0.7}},\n",
       " 'CatBoostRegressor': {'model': <catboost.core.CatBoostRegressor at 0x2b7a1d824a0>,\n",
       "  'params': {'depth': 10,\n",
       "   'iterations': 10,\n",
       "   'l2_leaf_reg': 10,\n",
       "   'learning_rate': 0.01}},\n",
       " 'RandomForestRegressor': {'model': RandomForestRegressor(max_depth=2, n_estimators=200, random_state=0),\n",
       "  'params': {'max_depth': 2,\n",
       "   'min_samples_leaf': 1,\n",
       "   'min_samples_split': 2,\n",
       "   'n_estimators': 200}},\n",
       " 'Pipeline': {'model': Pipeline(steps=[('polynomialfeatures', PolynomialFeatures(degree=1)),\n",
       "                  ('ridge', Ridge(alpha=100))]),\n",
       "  'params': {'polynomialfeatures__degree': 1, 'ridge__alpha': 100}}}"
      ]
     },
     "execution_count": 36,
     "metadata": {},
     "output_type": "execute_result"
    }
   ],
   "source": [
    "# Проверим словарь с моделями\n",
    "models_dict_strength"
   ]
  },
  {
   "cell_type": "markdown",
   "id": "aa335671",
   "metadata": {},
   "source": [
    "  "
   ]
  },
  {
   "cell_type": "markdown",
   "id": "439a6d1b",
   "metadata": {},
   "source": [
    "Сравнив точность моделей для двух прогнозируемых переменных (модуля упругости при растяжении и прочности при растяжении) на обучающей выборке, можно сделать предварительный вывод, что лучшей моделью является градиентный бустинг CatBoost для модуля упругости при растяжении. Рассчитанный коэффициент детерминации для CatBoost имеет максимальную величину -0.01.  \n",
    "При этом для всех моделей характерен отрицательный коэфиициент детерминации, а их среднеквадратическая ошибка близка. Отрицательный коэффициент детерминации говорит об отсутствии взаимосвязи в данных. Вследствие чего, ни одна модель не обладает высокой прогнозирующей способностью."
   ]
  },
  {
   "cell_type": "markdown",
   "id": "0f08e88d",
   "metadata": {},
   "source": [
    "**<p style=\"text-align: center;\">Сравнительные таблицы ошибок и коэффицентов детерминации</p>**  \n",
    "**<p style=\"text-align: center;\">различных моделей на обучающей выборке</p>**"
   ]
  },
  {
   "cell_type": "code",
   "execution_count": 37,
   "id": "048bc4b7",
   "metadata": {},
   "outputs": [
    {
     "data": {
      "text/html": [
       "<div>\n",
       "<style scoped>\n",
       "    .dataframe tbody tr th:only-of-type {\n",
       "        vertical-align: middle;\n",
       "    }\n",
       "\n",
       "    .dataframe tbody tr th {\n",
       "        vertical-align: top;\n",
       "    }\n",
       "\n",
       "    .dataframe thead th {\n",
       "        text-align: right;\n",
       "    }\n",
       "</style>\n",
       "<table border=\"1\" class=\"dataframe\">\n",
       "  <thead>\n",
       "    <tr style=\"text-align: right;\">\n",
       "      <th></th>\n",
       "      <th>Прогнозируемая переменная</th>\n",
       "      <th>Лучшие параметры</th>\n",
       "      <th>Среднеквадратическая ошибка (MSE)</th>\n",
       "      <th>Коэффициент детерминации (R^2)</th>\n",
       "    </tr>\n",
       "    <tr>\n",
       "      <th>Модель</th>\n",
       "      <th></th>\n",
       "      <th></th>\n",
       "      <th></th>\n",
       "      <th></th>\n",
       "    </tr>\n",
       "  </thead>\n",
       "  <tbody>\n",
       "    <tr>\n",
       "      <th>XGBRegressor</th>\n",
       "      <td>Модуль упругости при растяжении</td>\n",
       "      <td>{'booster': 'dart', 'colsample_bytree': 0.5, '...</td>\n",
       "      <td>0.039 ± 0.007</td>\n",
       "      <td>-0.011 ± 0.021</td>\n",
       "    </tr>\n",
       "    <tr>\n",
       "      <th>CatBoostRegressor</th>\n",
       "      <td>Модуль упругости при растяжении</td>\n",
       "      <td>{'depth': 10, 'iterations': 10, 'l2_leaf_reg':...</td>\n",
       "      <td>0.039 ± 0.006</td>\n",
       "      <td>-0.010 ± 0.014</td>\n",
       "    </tr>\n",
       "    <tr>\n",
       "      <th>RandomForestRegressor</th>\n",
       "      <td>Модуль упругости при растяжении</td>\n",
       "      <td>{'max_depth': 2, 'min_samples_leaf': 1, 'min_s...</td>\n",
       "      <td>0.040 ± 0.006</td>\n",
       "      <td>-0.025 ± 0.026</td>\n",
       "    </tr>\n",
       "    <tr>\n",
       "      <th>Pipeline</th>\n",
       "      <td>Модуль упругости при растяжении</td>\n",
       "      <td>{'polynomialfeatures__degree': 1, 'ridge__alph...</td>\n",
       "      <td>0.039 ± 0.006</td>\n",
       "      <td>-0.012 ± 0.017</td>\n",
       "    </tr>\n",
       "  </tbody>\n",
       "</table>\n",
       "</div>"
      ],
      "text/plain": [
       "                             Прогнозируемая переменная   \n",
       "Модель                                                   \n",
       "XGBRegressor           Модуль упругости при растяжении  \\\n",
       "CatBoostRegressor      Модуль упругости при растяжении   \n",
       "RandomForestRegressor  Модуль упругости при растяжении   \n",
       "Pipeline               Модуль упругости при растяжении   \n",
       "\n",
       "                                                        Лучшие параметры   \n",
       "Модель                                                                     \n",
       "XGBRegressor           {'booster': 'dart', 'colsample_bytree': 0.5, '...  \\\n",
       "CatBoostRegressor      {'depth': 10, 'iterations': 10, 'l2_leaf_reg':...   \n",
       "RandomForestRegressor  {'max_depth': 2, 'min_samples_leaf': 1, 'min_s...   \n",
       "Pipeline               {'polynomialfeatures__degree': 1, 'ridge__alph...   \n",
       "\n",
       "                      Среднеквадратическая ошибка (MSE)   \n",
       "Модель                                                    \n",
       "XGBRegressor                              0.039 ± 0.007  \\\n",
       "CatBoostRegressor                         0.039 ± 0.006   \n",
       "RandomForestRegressor                     0.040 ± 0.006   \n",
       "Pipeline                                  0.039 ± 0.006   \n",
       "\n",
       "                      Коэффициент детерминации (R^2)  \n",
       "Модель                                                \n",
       "XGBRegressor                          -0.011 ± 0.021  \n",
       "CatBoostRegressor                     -0.010 ± 0.014  \n",
       "RandomForestRegressor                 -0.025 ± 0.026  \n",
       "Pipeline                              -0.012 ± 0.017  "
      ]
     },
     "execution_count": 37,
     "metadata": {},
     "output_type": "execute_result"
    }
   ],
   "source": [
    "df_module"
   ]
  },
  {
   "cell_type": "code",
   "execution_count": 38,
   "id": "1d6f8b41",
   "metadata": {},
   "outputs": [
    {
     "data": {
      "text/html": [
       "<div>\n",
       "<style scoped>\n",
       "    .dataframe tbody tr th:only-of-type {\n",
       "        vertical-align: middle;\n",
       "    }\n",
       "\n",
       "    .dataframe tbody tr th {\n",
       "        vertical-align: top;\n",
       "    }\n",
       "\n",
       "    .dataframe thead th {\n",
       "        text-align: right;\n",
       "    }\n",
       "</style>\n",
       "<table border=\"1\" class=\"dataframe\">\n",
       "  <thead>\n",
       "    <tr style=\"text-align: right;\">\n",
       "      <th></th>\n",
       "      <th>Прогнозируемая переменная</th>\n",
       "      <th>Лучшие параметры</th>\n",
       "      <th>Среднеквадратическая ошибка (MSE)</th>\n",
       "      <th>Коэффициент детерминации (R^2)</th>\n",
       "    </tr>\n",
       "    <tr>\n",
       "      <th>Модель</th>\n",
       "      <th></th>\n",
       "      <th></th>\n",
       "      <th></th>\n",
       "      <th></th>\n",
       "    </tr>\n",
       "  </thead>\n",
       "  <tbody>\n",
       "    <tr>\n",
       "      <th>XGBRegressor</th>\n",
       "      <td>Прочность при растяжении</td>\n",
       "      <td>{'booster': 'dart', 'colsample_bytree': 0.5, '...</td>\n",
       "      <td>0.035 ± 0.005</td>\n",
       "      <td>-0.025 ± 0.034</td>\n",
       "    </tr>\n",
       "    <tr>\n",
       "      <th>CatBoostRegressor</th>\n",
       "      <td>Прочность при растяжении</td>\n",
       "      <td>{'depth': 10, 'iterations': 10, 'l2_leaf_reg':...</td>\n",
       "      <td>0.035 ± 0.005</td>\n",
       "      <td>-0.019 ± 0.018</td>\n",
       "    </tr>\n",
       "    <tr>\n",
       "      <th>RandomForestRegressor</th>\n",
       "      <td>Прочность при растяжении</td>\n",
       "      <td>{'max_depth': 2, 'min_samples_leaf': 1, 'min_s...</td>\n",
       "      <td>0.035 ± 0.005</td>\n",
       "      <td>-0.035 ± 0.030</td>\n",
       "    </tr>\n",
       "    <tr>\n",
       "      <th>Pipeline</th>\n",
       "      <td>Прочность при растяжении</td>\n",
       "      <td>{'polynomialfeatures__degree': 1, 'ridge__alph...</td>\n",
       "      <td>0.035 ± 0.005</td>\n",
       "      <td>-0.020 ± 0.020</td>\n",
       "    </tr>\n",
       "  </tbody>\n",
       "</table>\n",
       "</div>"
      ],
      "text/plain": [
       "                      Прогнозируемая переменная   \n",
       "Модель                                            \n",
       "XGBRegressor           Прочность при растяжении  \\\n",
       "CatBoostRegressor      Прочность при растяжении   \n",
       "RandomForestRegressor  Прочность при растяжении   \n",
       "Pipeline               Прочность при растяжении   \n",
       "\n",
       "                                                        Лучшие параметры   \n",
       "Модель                                                                     \n",
       "XGBRegressor           {'booster': 'dart', 'colsample_bytree': 0.5, '...  \\\n",
       "CatBoostRegressor      {'depth': 10, 'iterations': 10, 'l2_leaf_reg':...   \n",
       "RandomForestRegressor  {'max_depth': 2, 'min_samples_leaf': 1, 'min_s...   \n",
       "Pipeline               {'polynomialfeatures__degree': 1, 'ridge__alph...   \n",
       "\n",
       "                      Среднеквадратическая ошибка (MSE)   \n",
       "Модель                                                    \n",
       "XGBRegressor                              0.035 ± 0.005  \\\n",
       "CatBoostRegressor                         0.035 ± 0.005   \n",
       "RandomForestRegressor                     0.035 ± 0.005   \n",
       "Pipeline                                  0.035 ± 0.005   \n",
       "\n",
       "                      Коэффициент детерминации (R^2)  \n",
       "Модель                                                \n",
       "XGBRegressor                          -0.025 ± 0.034  \n",
       "CatBoostRegressor                     -0.019 ± 0.018  \n",
       "RandomForestRegressor                 -0.035 ± 0.030  \n",
       "Pipeline                              -0.020 ± 0.020  "
      ]
     },
     "execution_count": 38,
     "metadata": {},
     "output_type": "execute_result"
    }
   ],
   "source": [
    "df_strength"
   ]
  },
  {
   "cell_type": "markdown",
   "id": "635424a8",
   "metadata": {},
   "source": [
    "<font size=2>*Примечание*. Pipeline - комбинация полиномиальной интерполяции и Ridge-регрессии</font>"
   ]
  },
  {
   "cell_type": "markdown",
   "id": "57bf9501",
   "metadata": {},
   "source": [
    "  "
   ]
  },
  {
   "cell_type": "markdown",
   "id": "d66fc002",
   "metadata": {},
   "source": [
    "## Итоговое тестирование моделей"
   ]
  },
  {
   "cell_type": "markdown",
   "id": "29f9e91d",
   "metadata": {},
   "source": [
    "Модели будут извлекаться из двух словарей:  \n",
    "-`models_dict_module` - для модуля упругости при растяжении  \n",
    "-`models_dict_strength` - для прочности при растяжении"
   ]
  },
  {
   "cell_type": "code",
   "execution_count": 39,
   "id": "dfc0905e",
   "metadata": {},
   "outputs": [
    {
     "name": "stdout",
     "output_type": "stream",
     "text": [
      "XGBRegressor :\n",
      "     model\n",
      "     params\n",
      "CatBoostRegressor :\n",
      "     model\n",
      "     params\n",
      "RandomForestRegressor :\n",
      "     model\n",
      "     params\n",
      "Pipeline :\n",
      "     model\n",
      "     params\n"
     ]
    }
   ],
   "source": [
    "# Структура вложенных ключей словаря с моделями\n",
    "\n",
    "for key,value in models_dict_module.items():\n",
    "    print(key, ':')\n",
    "\n",
    "    for key_in in value.keys():\n",
    "        print('    ', key_in)\n"
   ]
  },
  {
   "cell_type": "markdown",
   "id": "085fcd0d",
   "metadata": {},
   "source": [
    "Для удобства продублируем содержание функции test()"
   ]
  },
  {
   "cell_type": "code",
   "execution_count": 40,
   "id": "6d738918",
   "metadata": {},
   "outputs": [],
   "source": [
    "def test(models_dict, y_train, y_test):\n",
    "    '''\n",
    "    Функция оценки модели на тестовой выборке\n",
    "    \n",
    "    '''\n",
    "    \n",
    "    # пустой датафрейм\n",
    "    df = create_df()\n",
    "    \n",
    "    # для каждой модели в словаре моделей\n",
    "    for name, model_dict in models_dict.items():\n",
    "        # извлекаем модель\n",
    "        model = model_dict['model']\n",
    "        # извлекаем параметры\n",
    "        best_param = model_dict['params']\n",
    "        \n",
    "        # обучение модели на train-выборке и прогноз на test-выборке\n",
    "        model.fit(X_train, y_train)\n",
    "        y_pred = model.predict(X_test)\n",
    "        \n",
    "        # оценка качества прогнозов на тестовой выборке\n",
    "        mse = mean_squared_error(y_test, y_pred)\n",
    "        r2 = r2_score(y_test, y_pred)\n",
    "    \n",
    "        # заполнение датафрейма оценками\n",
    "        df.loc[type(model).__name__] = [y_train.name[:-5],\n",
    "                                        best_param,\n",
    "                                        f\"{mse:.3f}\",\n",
    "                                        f\"{r2:.3f} \"]\n",
    "    \n",
    "    return df"
   ]
  },
  {
   "cell_type": "code",
   "execution_count": 41,
   "id": "b9d7ed5d",
   "metadata": {},
   "outputs": [
    {
     "name": "stdout",
     "output_type": "stream",
     "text": [
      "0:\tlearn: 0.1971927\ttotal: 38.8ms\tremaining: 349ms\n",
      "1:\tlearn: 0.1970200\ttotal: 74.2ms\tremaining: 297ms\n",
      "2:\tlearn: 0.1968502\ttotal: 109ms\tremaining: 255ms\n",
      "3:\tlearn: 0.1967549\ttotal: 145ms\tremaining: 218ms\n",
      "4:\tlearn: 0.1966087\ttotal: 181ms\tremaining: 181ms\n",
      "5:\tlearn: 0.1964463\ttotal: 217ms\tremaining: 145ms\n",
      "6:\tlearn: 0.1963010\ttotal: 252ms\tremaining: 108ms\n",
      "7:\tlearn: 0.1961681\ttotal: 291ms\tremaining: 72.7ms\n",
      "8:\tlearn: 0.1960122\ttotal: 328ms\tremaining: 36.4ms\n",
      "9:\tlearn: 0.1958682\ttotal: 363ms\tremaining: 0us\n",
      "0:\tlearn: 0.1864378\ttotal: 37.9ms\tremaining: 341ms\n",
      "1:\tlearn: 0.1862749\ttotal: 74.6ms\tremaining: 298ms\n",
      "2:\tlearn: 0.1861556\ttotal: 110ms\tremaining: 258ms\n",
      "3:\tlearn: 0.1859938\ttotal: 145ms\tremaining: 218ms\n",
      "4:\tlearn: 0.1858553\ttotal: 181ms\tremaining: 181ms\n",
      "5:\tlearn: 0.1857000\ttotal: 216ms\tremaining: 144ms\n",
      "6:\tlearn: 0.1855278\ttotal: 251ms\tremaining: 108ms\n",
      "7:\tlearn: 0.1853734\ttotal: 288ms\tremaining: 72.1ms\n",
      "8:\tlearn: 0.1852179\ttotal: 326ms\tremaining: 36.2ms\n",
      "9:\tlearn: 0.1850763\ttotal: 361ms\tremaining: 0us\n"
     ]
    }
   ],
   "source": [
    "\n",
    "# Вызов функции оценивания test()\n",
    "\n",
    "result_module = test(models_dict_module, y_module_train, y_module_test)\n",
    "result_strength = test(models_dict_strength, y_strength_train, y_strength_test)\n"
   ]
  },
  {
   "cell_type": "markdown",
   "id": "42971d49",
   "metadata": {},
   "source": [
    "**<p style=\"text-align: center;\">Сравнительные таблицы ошибок и коэффицентов детерминации</p>**  \n",
    "**<p style=\"text-align: center;\">различных моделей на тестовой выборке</p>**"
   ]
  },
  {
   "cell_type": "code",
   "execution_count": 4,
   "id": "b2fdd82e",
   "metadata": {},
   "outputs": [
    {
     "data": {
      "text/html": [
       "<div>\n",
       "<style scoped>\n",
       "    .dataframe tbody tr th:only-of-type {\n",
       "        vertical-align: middle;\n",
       "    }\n",
       "\n",
       "    .dataframe tbody tr th {\n",
       "        vertical-align: top;\n",
       "    }\n",
       "\n",
       "    .dataframe thead th {\n",
       "        text-align: right;\n",
       "    }\n",
       "</style>\n",
       "<table border=\"1\" class=\"dataframe\">\n",
       "  <thead>\n",
       "    <tr style=\"text-align: right;\">\n",
       "      <th></th>\n",
       "      <th>Прогнозируемая переменная</th>\n",
       "      <th>Лучшие параметры</th>\n",
       "      <th>Среднеквадратическая ошибка (MSE)</th>\n",
       "      <th>Коэффициент детерминации (R^2)</th>\n",
       "    </tr>\n",
       "    <tr>\n",
       "      <th>Модель</th>\n",
       "      <th></th>\n",
       "      <th></th>\n",
       "      <th></th>\n",
       "      <th></th>\n",
       "    </tr>\n",
       "  </thead>\n",
       "  <tbody>\n",
       "    <tr>\n",
       "      <th>XGBRegressor</th>\n",
       "      <td>Модуль упругости при растяжении</td>\n",
       "      <td>{'booster': 'dart', 'colsample_bytree': 0.5, '...</td>\n",
       "      <td>0.030</td>\n",
       "      <td>0.006</td>\n",
       "    </tr>\n",
       "    <tr>\n",
       "      <th>CatBoostRegressor</th>\n",
       "      <td>Модуль упругости при растяжении</td>\n",
       "      <td>{'depth': 10, 'iterations': 10, 'l2_leaf_reg':...</td>\n",
       "      <td>0.031</td>\n",
       "      <td>0.000</td>\n",
       "    </tr>\n",
       "    <tr>\n",
       "      <th>RandomForestRegressor</th>\n",
       "      <td>Модуль упругости при растяжении</td>\n",
       "      <td>{'max_depth': 2, 'min_samples_leaf': 1, 'min_s...</td>\n",
       "      <td>0.031</td>\n",
       "      <td>-0.010</td>\n",
       "    </tr>\n",
       "    <tr>\n",
       "      <th>Pipeline</th>\n",
       "      <td>Модуль упругости при растяжении</td>\n",
       "      <td>{'polynomialfeatures__degree': 1, 'ridge__alph...</td>\n",
       "      <td>0.031</td>\n",
       "      <td>-0.001</td>\n",
       "    </tr>\n",
       "  </tbody>\n",
       "</table>\n",
       "</div>"
      ],
      "text/plain": [
       "                             Прогнозируемая переменная   \n",
       "Модель                                                   \n",
       "XGBRegressor           Модуль упругости при растяжении  \\\n",
       "CatBoostRegressor      Модуль упругости при растяжении   \n",
       "RandomForestRegressor  Модуль упругости при растяжении   \n",
       "Pipeline               Модуль упругости при растяжении   \n",
       "\n",
       "                                                        Лучшие параметры   \n",
       "Модель                                                                     \n",
       "XGBRegressor           {'booster': 'dart', 'colsample_bytree': 0.5, '...  \\\n",
       "CatBoostRegressor      {'depth': 10, 'iterations': 10, 'l2_leaf_reg':...   \n",
       "RandomForestRegressor  {'max_depth': 2, 'min_samples_leaf': 1, 'min_s...   \n",
       "Pipeline               {'polynomialfeatures__degree': 1, 'ridge__alph...   \n",
       "\n",
       "                       Среднеквадратическая ошибка (MSE)   \n",
       "Модель                                                     \n",
       "XGBRegressor                                       0.030  \\\n",
       "CatBoostRegressor                                  0.031   \n",
       "RandomForestRegressor                              0.031   \n",
       "Pipeline                                           0.031   \n",
       "\n",
       "                       Коэффициент детерминации (R^2)  \n",
       "Модель                                                 \n",
       "XGBRegressor                                    0.006  \n",
       "CatBoostRegressor                               0.000  \n",
       "RandomForestRegressor                          -0.010  \n",
       "Pipeline                                       -0.001  "
      ]
     },
     "execution_count": 4,
     "metadata": {},
     "output_type": "execute_result"
    }
   ],
   "source": [
    "result_module"
   ]
  },
  {
   "cell_type": "code",
   "execution_count": 5,
   "id": "80039ebd",
   "metadata": {},
   "outputs": [
    {
     "data": {
      "text/html": [
       "<div>\n",
       "<style scoped>\n",
       "    .dataframe tbody tr th:only-of-type {\n",
       "        vertical-align: middle;\n",
       "    }\n",
       "\n",
       "    .dataframe tbody tr th {\n",
       "        vertical-align: top;\n",
       "    }\n",
       "\n",
       "    .dataframe thead th {\n",
       "        text-align: right;\n",
       "    }\n",
       "</style>\n",
       "<table border=\"1\" class=\"dataframe\">\n",
       "  <thead>\n",
       "    <tr style=\"text-align: right;\">\n",
       "      <th></th>\n",
       "      <th>Прогнозируемая переменная</th>\n",
       "      <th>Лучшие параметры</th>\n",
       "      <th>Среднеквадратическая ошибка (MSE)</th>\n",
       "      <th>Коэффициент детерминации (R^2)</th>\n",
       "    </tr>\n",
       "    <tr>\n",
       "      <th>Модель</th>\n",
       "      <th></th>\n",
       "      <th></th>\n",
       "      <th></th>\n",
       "      <th></th>\n",
       "    </tr>\n",
       "  </thead>\n",
       "  <tbody>\n",
       "    <tr>\n",
       "      <th>XGBRegressor</th>\n",
       "      <td>Прочность при растяжении</td>\n",
       "      <td>{'booster': 'dart', 'colsample_bytree': 0.5, '...</td>\n",
       "      <td>0.035</td>\n",
       "      <td>0.005</td>\n",
       "    </tr>\n",
       "    <tr>\n",
       "      <th>CatBoostRegressor</th>\n",
       "      <td>Прочность при растяжении</td>\n",
       "      <td>{'depth': 10, 'iterations': 10, 'l2_leaf_reg':...</td>\n",
       "      <td>0.036</td>\n",
       "      <td>-0.006</td>\n",
       "    </tr>\n",
       "    <tr>\n",
       "      <th>RandomForestRegressor</th>\n",
       "      <td>Прочность при растяжении</td>\n",
       "      <td>{'max_depth': 2, 'min_samples_leaf': 1, 'min_s...</td>\n",
       "      <td>0.036</td>\n",
       "      <td>-0.005</td>\n",
       "    </tr>\n",
       "    <tr>\n",
       "      <th>Pipeline</th>\n",
       "      <td>Прочность при растяжении</td>\n",
       "      <td>{'polynomialfeatures__degree': 1, 'ridge__alph...</td>\n",
       "      <td>0.036</td>\n",
       "      <td>-0.005</td>\n",
       "    </tr>\n",
       "  </tbody>\n",
       "</table>\n",
       "</div>"
      ],
      "text/plain": [
       "                      Прогнозируемая переменная   \n",
       "Модель                                            \n",
       "XGBRegressor           Прочность при растяжении  \\\n",
       "CatBoostRegressor      Прочность при растяжении   \n",
       "RandomForestRegressor  Прочность при растяжении   \n",
       "Pipeline               Прочность при растяжении   \n",
       "\n",
       "                                                        Лучшие параметры   \n",
       "Модель                                                                     \n",
       "XGBRegressor           {'booster': 'dart', 'colsample_bytree': 0.5, '...  \\\n",
       "CatBoostRegressor      {'depth': 10, 'iterations': 10, 'l2_leaf_reg':...   \n",
       "RandomForestRegressor  {'max_depth': 2, 'min_samples_leaf': 1, 'min_s...   \n",
       "Pipeline               {'polynomialfeatures__degree': 1, 'ridge__alph...   \n",
       "\n",
       "                       Среднеквадратическая ошибка (MSE)   \n",
       "Модель                                                     \n",
       "XGBRegressor                                       0.035  \\\n",
       "CatBoostRegressor                                  0.036   \n",
       "RandomForestRegressor                              0.036   \n",
       "Pipeline                                           0.036   \n",
       "\n",
       "                       Коэффициент детерминации (R^2)  \n",
       "Модель                                                 \n",
       "XGBRegressor                                    0.005  \n",
       "CatBoostRegressor                              -0.006  \n",
       "RandomForestRegressor                          -0.005  \n",
       "Pipeline                                       -0.005  "
      ]
     },
     "execution_count": 5,
     "metadata": {},
     "output_type": "execute_result"
    }
   ],
   "source": [
    "result_strength"
   ]
  },
  {
   "cell_type": "markdown",
   "id": "0d7caa53",
   "metadata": {},
   "source": [
    "<font size=2>*Примечание*. Pipeline - комбинация полиномиальной интерполяции и Ridge-регрессии</font>"
   ]
  },
  {
   "cell_type": "markdown",
   "id": "1dfe58ff",
   "metadata": {},
   "source": [
    "  "
   ]
  },
  {
   "cell_type": "markdown",
   "id": "bd48201b",
   "metadata": {},
   "source": [
    "**<p style=\"text-align: center;\">Выбор лучшей ML-модели</p>**  \n",
    "  \n",
    "| Тип выборки | Лучшая модель | Переменная | MSE | R<sup>2</sup> |  \n",
    "| --- | --- | --- | --- | --- |    \n",
    "| **train** | CatBoostRegressor | Модуль упругости при растяжении | 0.039 | -0.010 |  \n",
    "| **test** | XGBRegressor | Модуль упругости при растяжении | 0.030 | 0.006 |  \n",
    "  \n"
   ]
  },
  {
   "cell_type": "markdown",
   "id": "f28236b1",
   "metadata": {},
   "source": [
    "Таким образом лучшей моделью является градиентный бустинг XGBRegressor для прогноза Модуля упругости при растяжении c параметрами ниже."
   ]
  },
  {
   "cell_type": "code",
   "execution_count": 44,
   "id": "def963ff",
   "metadata": {},
   "outputs": [
    {
     "data": {
      "text/html": [
       "<div>\n",
       "<style scoped>\n",
       "    .dataframe tbody tr th:only-of-type {\n",
       "        vertical-align: middle;\n",
       "    }\n",
       "\n",
       "    .dataframe tbody tr th {\n",
       "        vertical-align: top;\n",
       "    }\n",
       "\n",
       "    .dataframe thead th {\n",
       "        text-align: right;\n",
       "    }\n",
       "</style>\n",
       "<table border=\"1\" class=\"dataframe\">\n",
       "  <thead>\n",
       "    <tr style=\"text-align: right;\">\n",
       "      <th></th>\n",
       "      <th>Параметры лучшей модели XGBRegressor</th>\n",
       "    </tr>\n",
       "  </thead>\n",
       "  <tbody>\n",
       "    <tr>\n",
       "      <th>booster</th>\n",
       "      <td>dart</td>\n",
       "    </tr>\n",
       "    <tr>\n",
       "      <th>colsample_bytree</th>\n",
       "      <td>0.5</td>\n",
       "    </tr>\n",
       "    <tr>\n",
       "      <th>learning_rate</th>\n",
       "      <td>0.02</td>\n",
       "    </tr>\n",
       "    <tr>\n",
       "      <th>max_depth</th>\n",
       "      <td>10</td>\n",
       "    </tr>\n",
       "    <tr>\n",
       "      <th>n_estimators</th>\n",
       "      <td>10</td>\n",
       "    </tr>\n",
       "    <tr>\n",
       "      <th>n_jobs</th>\n",
       "      <td>-1</td>\n",
       "    </tr>\n",
       "    <tr>\n",
       "      <th>subsample</th>\n",
       "      <td>0.7</td>\n",
       "    </tr>\n",
       "  </tbody>\n",
       "</table>\n",
       "</div>"
      ],
      "text/plain": [
       "                 Параметры лучшей модели XGBRegressor\n",
       "booster                                          dart\n",
       "colsample_bytree                                  0.5\n",
       "learning_rate                                    0.02\n",
       "max_depth                                          10\n",
       "n_estimators                                       10\n",
       "n_jobs                                             -1\n",
       "subsample                                         0.7"
      ]
     },
     "execution_count": 44,
     "metadata": {},
     "output_type": "execute_result"
    }
   ],
   "source": [
    "pd.DataFrame(best_param_xgb, index=['Параметры лучшей модели XGBRegressor']).T"
   ]
  },
  {
   "cell_type": "markdown",
   "id": "d5ec9749",
   "metadata": {},
   "source": [
    "  "
   ]
  },
  {
   "cell_type": "code",
   "execution_count": 46,
   "id": "fb7486fe",
   "metadata": {},
   "outputs": [],
   "source": [
    "\n",
    "# Запись результатов в файлы\n",
    "\n",
    "# Словари\n",
    "\n",
    "with open('evaluation/models_dict_module.pickle', 'wb') as f_module:\n",
    "    pickle.dump(models_dict_module, f_module)\n",
    "\n",
    "\n",
    "with open('evaluation/models_dict_strength.pickle', 'wb') as f_strength:\n",
    "    pickle.dump(models_dict_strength, f_strength)\n",
    "\n",
    "# параметры лучшей модели XGBRegressor\n",
    "with open('evaluation/best_param_xgb.pickle', 'wb') as f:\n",
    "    pickle.dump(best_param_xgb, f)\n",
    "\n",
    "\n",
    "# Таблицы\n",
    "\n",
    "df_module.to_excel('evaluation/оценки модуля на train.xlsx')\n",
    "df_strength.to_excel('evaluation/оценки прочности на train.xlsx')\n",
    "\n",
    "result_module.to_excel('evaluation/оценки модуля на test.xlsx')\n",
    "result_strength.to_excel('evaluation/оценки прочности на test.xlsx')\n"
   ]
  },
  {
   "cell_type": "markdown",
   "id": "333c5c8b",
   "metadata": {},
   "source": [
    "  "
   ]
  },
  {
   "cell_type": "markdown",
   "id": "12777384",
   "metadata": {},
   "source": [
    "## Создание нейронной сети"
   ]
  },
  {
   "cell_type": "markdown",
   "id": "d1374b37",
   "metadata": {},
   "source": [
    "Функции для работы с нейронными сетями"
   ]
  },
  {
   "cell_type": "code",
   "execution_count": 6,
   "id": "0da417d3",
   "metadata": {},
   "outputs": [],
   "source": [
    "\n",
    "def compile_model(model):\n",
    "    '''Функция, задающая метрики для компиляции'''\n",
    "    \n",
    "    model.compile(\n",
    "                  'adam',\n",
    "                  loss='mse',  #'mae'\n",
    "                  metrics=['mse']\n",
    "                 )\n",
    "    return model\n"
   ]
  },
  {
   "cell_type": "code",
   "execution_count": 7,
   "id": "ed38750f",
   "metadata": {},
   "outputs": [],
   "source": [
    "# training will stop early if the validation loss does not improve for 5 consecutive epochs\n",
    "early_stop = EarlyStopping(monitor='val_loss', patience=8)\n",
    "\n",
    "\n",
    "def callbacks(model_number):\n",
    "    '''Функция сохраняет веса в файл во время обучения'''\n",
    "    \n",
    "    # best model weights will be saved to this file based on training loss\n",
    "    checkpoint_path = '../model/checkpoint/model_{}.hdf5'.format(str(model_number))\n",
    "    \n",
    "    checkpoint = ModelCheckpoint(\n",
    "        checkpoint_path,\n",
    "        monitor='loss',\n",
    "        verbose=0,\n",
    "        save_best_only=True,  # каждый раз, когда loss улучшается\n",
    "        mode='min',           # в какую сторону должна быть улучшена ошибка\n",
    "        save_freq=1)          # после каждой эпохи\n",
    "\n",
    "    return [checkpoint, early_stop]\n"
   ]
  },
  {
   "cell_type": "code",
   "execution_count": 8,
   "id": "e28f61a2",
   "metadata": {},
   "outputs": [],
   "source": [
    "\n",
    "def plot_loss(history):\n",
    "    \n",
    "    plt.plot(history.history['loss'], label='loss')\n",
    "    plt.plot(history.history['val_loss'], label='val_loss')\n",
    "    plt.xlabel('Эпоха')\n",
    "    plt.ylabel('Потери')\n",
    "    plt.legend()\n",
    "    plt.grid(True)\n"
   ]
  },
  {
   "cell_type": "code",
   "execution_count": 9,
   "id": "4a0d8ebd",
   "metadata": {},
   "outputs": [],
   "source": [
    "\n",
    "def get_metrics(model_name, y_test, y_pred):\n",
    "    '''Функция записывает метрики в датафрейм'''\n",
    "           \n",
    "    # оценка качества прогнозов на тестовой выборке\n",
    "    mse = mean_squared_error(y_test, y_pred)\n",
    "    r2 = r2_score(y_test, y_pred)\n",
    "    \n",
    "    # заполнение датафрейма оценками\n",
    "    result_neural.loc[model_name] = ['Соотношение матрица-наполнитель',\n",
    "                                      np.NaN,\n",
    "                                      f\"{mse:.3f}\",\n",
    "                                      f\"{r2:.3f} \"]\n",
    "    # вывод оценок\n",
    "    print(\"MSE:\", mse)\n",
    "    print(\"R^2:\", r2)\n"
   ]
  },
  {
   "cell_type": "markdown",
   "id": "1754c1a8",
   "metadata": {},
   "source": [
    "  "
   ]
  },
  {
   "cell_type": "markdown",
   "id": "1ab5a9b0",
   "metadata": {},
   "source": [
    "### Подготовка данных"
   ]
  },
  {
   "cell_type": "code",
   "execution_count": 10,
   "id": "f6fe4b14",
   "metadata": {},
   "outputs": [
    {
     "name": "stdout",
     "output_type": "stream",
     "text": [
      "(655, 12) (655,)\n",
      "(281, 12) (281,)\n"
     ]
    }
   ],
   "source": [
    "\n",
    "# Разделение выборок\n",
    "\n",
    "features = data.copy()                                # признаки\n",
    "y = features.pop('Соотношение матрица-наполнитель')   # целевая переменная\n",
    "\n",
    "\n",
    "features_train, features_test, y_train, y_test, = train_test_split(\n",
    "    features,\n",
    "    y,\n",
    "    test_size=0.3,\n",
    "    random_state=0)\n",
    "\n",
    "print(features_train.shape, y_train.shape)\n",
    "print(features_test.shape, y_test.shape)\n"
   ]
  },
  {
   "cell_type": "code",
   "execution_count": 15,
   "id": "84f9079d",
   "metadata": {},
   "outputs": [],
   "source": [
    "\n",
    "# Датафрейм для сохранения метрик нейросетей\n",
    "result_neural = create_df()\n"
   ]
  },
  {
   "cell_type": "markdown",
   "id": "7b51322b",
   "metadata": {},
   "source": [
    "  "
   ]
  },
  {
   "cell_type": "markdown",
   "id": "869c6ca6",
   "metadata": {},
   "source": [
    "### Модель 1"
   ]
  },
  {
   "cell_type": "code",
   "execution_count": 11,
   "id": "eaeef387",
   "metadata": {},
   "outputs": [
    {
     "name": "stdout",
     "output_type": "stream",
     "text": [
      "Epoch 1/100\n",
      "15/15 [==============================] - 2s 45ms/step - loss: 0.0573 - mse: 0.0573 - val_loss: 0.0500 - val_mse: 0.0500\n",
      "Epoch 2/100\n",
      "15/15 [==============================] - 0s 9ms/step - loss: 0.0444 - mse: 0.0444 - val_loss: 0.0505 - val_mse: 0.0505\n",
      "Epoch 3/100\n",
      "15/15 [==============================] - 0s 5ms/step - loss: 0.0403 - mse: 0.0403 - val_loss: 0.0400 - val_mse: 0.0400\n",
      "Epoch 4/100\n",
      "15/15 [==============================] - 0s 5ms/step - loss: 0.0380 - mse: 0.0380 - val_loss: 0.0387 - val_mse: 0.0387\n",
      "Epoch 5/100\n",
      "15/15 [==============================] - 0s 5ms/step - loss: 0.0369 - mse: 0.0369 - val_loss: 0.0386 - val_mse: 0.0386\n",
      "Epoch 6/100\n",
      "15/15 [==============================] - 0s 5ms/step - loss: 0.0361 - mse: 0.0361 - val_loss: 0.0370 - val_mse: 0.0370\n",
      "Epoch 7/100\n",
      "15/15 [==============================] - 0s 5ms/step - loss: 0.0381 - mse: 0.0381 - val_loss: 0.0353 - val_mse: 0.0353\n",
      "Epoch 8/100\n",
      "15/15 [==============================] - 0s 4ms/step - loss: 0.0372 - mse: 0.0372 - val_loss: 0.0394 - val_mse: 0.0394\n",
      "Epoch 9/100\n",
      "15/15 [==============================] - 0s 5ms/step - loss: 0.0372 - mse: 0.0372 - val_loss: 0.0351 - val_mse: 0.0351\n",
      "Epoch 10/100\n",
      "15/15 [==============================] - 0s 4ms/step - loss: 0.0360 - mse: 0.0360 - val_loss: 0.0348 - val_mse: 0.0348\n",
      "Epoch 11/100\n",
      "15/15 [==============================] - 0s 4ms/step - loss: 0.0350 - mse: 0.0350 - val_loss: 0.0357 - val_mse: 0.0357\n",
      "Epoch 12/100\n",
      "15/15 [==============================] - 0s 4ms/step - loss: 0.0351 - mse: 0.0351 - val_loss: 0.0347 - val_mse: 0.0347\n",
      "Epoch 13/100\n",
      "15/15 [==============================] - 0s 5ms/step - loss: 0.0350 - mse: 0.0350 - val_loss: 0.0345 - val_mse: 0.0345\n",
      "Epoch 14/100\n",
      "15/15 [==============================] - 0s 4ms/step - loss: 0.0359 - mse: 0.0359 - val_loss: 0.0342 - val_mse: 0.0342\n",
      "Epoch 15/100\n",
      "15/15 [==============================] - 0s 5ms/step - loss: 0.0353 - mse: 0.0353 - val_loss: 0.0345 - val_mse: 0.0345\n",
      "Epoch 16/100\n",
      "15/15 [==============================] - 0s 5ms/step - loss: 0.0361 - mse: 0.0361 - val_loss: 0.0383 - val_mse: 0.0383\n",
      "Epoch 17/100\n",
      "15/15 [==============================] - 0s 4ms/step - loss: 0.0359 - mse: 0.0359 - val_loss: 0.0344 - val_mse: 0.0344\n",
      "Epoch 18/100\n",
      "15/15 [==============================] - 0s 4ms/step - loss: 0.0359 - mse: 0.0359 - val_loss: 0.0340 - val_mse: 0.0340\n",
      "Epoch 19/100\n",
      "15/15 [==============================] - 0s 4ms/step - loss: 0.0347 - mse: 0.0347 - val_loss: 0.0342 - val_mse: 0.0342\n",
      "Epoch 20/100\n",
      "15/15 [==============================] - 0s 4ms/step - loss: 0.0346 - mse: 0.0346 - val_loss: 0.0338 - val_mse: 0.0338\n",
      "Epoch 21/100\n",
      "15/15 [==============================] - 0s 4ms/step - loss: 0.0350 - mse: 0.0350 - val_loss: 0.0345 - val_mse: 0.0345\n",
      "Epoch 22/100\n",
      "15/15 [==============================] - 0s 4ms/step - loss: 0.0356 - mse: 0.0356 - val_loss: 0.0363 - val_mse: 0.0363\n",
      "Epoch 23/100\n",
      "15/15 [==============================] - 0s 4ms/step - loss: 0.0352 - mse: 0.0352 - val_loss: 0.0336 - val_mse: 0.0336\n",
      "Epoch 24/100\n",
      "15/15 [==============================] - 0s 5ms/step - loss: 0.0345 - mse: 0.0345 - val_loss: 0.0344 - val_mse: 0.0344\n",
      "Epoch 25/100\n",
      "15/15 [==============================] - 0s 6ms/step - loss: 0.0344 - mse: 0.0344 - val_loss: 0.0333 - val_mse: 0.0333\n",
      "Epoch 26/100\n",
      "15/15 [==============================] - 0s 6ms/step - loss: 0.0346 - mse: 0.0346 - val_loss: 0.0337 - val_mse: 0.0337\n",
      "Epoch 27/100\n",
      "15/15 [==============================] - 0s 6ms/step - loss: 0.0345 - mse: 0.0345 - val_loss: 0.0345 - val_mse: 0.0345\n",
      "Epoch 28/100\n",
      "15/15 [==============================] - 0s 5ms/step - loss: 0.0349 - mse: 0.0349 - val_loss: 0.0338 - val_mse: 0.0338\n",
      "Epoch 29/100\n",
      "15/15 [==============================] - 0s 4ms/step - loss: 0.0347 - mse: 0.0347 - val_loss: 0.0334 - val_mse: 0.0334\n",
      "Epoch 30/100\n",
      "15/15 [==============================] - 0s 4ms/step - loss: 0.0347 - mse: 0.0347 - val_loss: 0.0335 - val_mse: 0.0335\n",
      "Epoch 31/100\n",
      "15/15 [==============================] - 0s 4ms/step - loss: 0.0342 - mse: 0.0342 - val_loss: 0.0342 - val_mse: 0.0342\n",
      "Epoch 32/100\n",
      "15/15 [==============================] - 0s 6ms/step - loss: 0.0346 - mse: 0.0346 - val_loss: 0.0332 - val_mse: 0.0332\n",
      "Epoch 33/100\n",
      "15/15 [==============================] - 0s 6ms/step - loss: 0.0345 - mse: 0.0345 - val_loss: 0.0334 - val_mse: 0.0334\n",
      "Epoch 34/100\n",
      "15/15 [==============================] - 0s 5ms/step - loss: 0.0346 - mse: 0.0346 - val_loss: 0.0334 - val_mse: 0.0334\n",
      "Epoch 35/100\n",
      "15/15 [==============================] - 0s 4ms/step - loss: 0.0345 - mse: 0.0345 - val_loss: 0.0343 - val_mse: 0.0343\n",
      "Epoch 36/100\n",
      "15/15 [==============================] - 0s 5ms/step - loss: 0.0355 - mse: 0.0355 - val_loss: 0.0361 - val_mse: 0.0361\n",
      "Epoch 37/100\n",
      "15/15 [==============================] - 0s 6ms/step - loss: 0.0346 - mse: 0.0346 - val_loss: 0.0333 - val_mse: 0.0333\n",
      "Epoch 38/100\n",
      "15/15 [==============================] - 0s 7ms/step - loss: 0.0345 - mse: 0.0345 - val_loss: 0.0330 - val_mse: 0.0330\n",
      "Epoch 39/100\n",
      "15/15 [==============================] - 0s 5ms/step - loss: 0.0343 - mse: 0.0343 - val_loss: 0.0330 - val_mse: 0.0330\n",
      "Epoch 40/100\n",
      "15/15 [==============================] - 0s 5ms/step - loss: 0.0345 - mse: 0.0345 - val_loss: 0.0334 - val_mse: 0.0334\n",
      "Epoch 41/100\n",
      "15/15 [==============================] - 0s 6ms/step - loss: 0.0350 - mse: 0.0350 - val_loss: 0.0331 - val_mse: 0.0331\n",
      "Epoch 42/100\n",
      "15/15 [==============================] - 0s 6ms/step - loss: 0.0350 - mse: 0.0350 - val_loss: 0.0350 - val_mse: 0.0350\n",
      "Epoch 43/100\n",
      "15/15 [==============================] - 0s 4ms/step - loss: 0.0350 - mse: 0.0350 - val_loss: 0.0351 - val_mse: 0.0351\n",
      "Epoch 44/100\n",
      "15/15 [==============================] - 0s 4ms/step - loss: 0.0367 - mse: 0.0367 - val_loss: 0.0340 - val_mse: 0.0340\n",
      "Epoch 45/100\n",
      "15/15 [==============================] - 0s 4ms/step - loss: 0.0340 - mse: 0.0340 - val_loss: 0.0334 - val_mse: 0.0334\n",
      "Epoch 46/100\n",
      "15/15 [==============================] - 0s 4ms/step - loss: 0.0338 - mse: 0.0338 - val_loss: 0.0328 - val_mse: 0.0328\n",
      "Epoch 47/100\n",
      "15/15 [==============================] - 0s 5ms/step - loss: 0.0342 - mse: 0.0342 - val_loss: 0.0326 - val_mse: 0.0326\n",
      "Epoch 48/100\n",
      "15/15 [==============================] - 0s 5ms/step - loss: 0.0340 - mse: 0.0340 - val_loss: 0.0326 - val_mse: 0.0326\n",
      "Epoch 49/100\n",
      "15/15 [==============================] - 0s 4ms/step - loss: 0.0340 - mse: 0.0340 - val_loss: 0.0336 - val_mse: 0.0336\n",
      "Epoch 50/100\n",
      "15/15 [==============================] - 0s 5ms/step - loss: 0.0339 - mse: 0.0339 - val_loss: 0.0334 - val_mse: 0.0334\n",
      "Epoch 51/100\n",
      "15/15 [==============================] - 0s 4ms/step - loss: 0.0357 - mse: 0.0357 - val_loss: 0.0362 - val_mse: 0.0362\n",
      "Epoch 52/100\n",
      "15/15 [==============================] - 0s 5ms/step - loss: 0.0350 - mse: 0.0350 - val_loss: 0.0333 - val_mse: 0.0333\n",
      "Epoch 53/100\n",
      "15/15 [==============================] - 0s 4ms/step - loss: 0.0338 - mse: 0.0338 - val_loss: 0.0328 - val_mse: 0.0328\n",
      "Epoch 54/100\n",
      "15/15 [==============================] - 0s 5ms/step - loss: 0.0342 - mse: 0.0342 - val_loss: 0.0333 - val_mse: 0.0333\n",
      "Epoch 55/100\n",
      "15/15 [==============================] - 0s 6ms/step - loss: 0.0344 - mse: 0.0344 - val_loss: 0.0327 - val_mse: 0.0327\n",
      "Epoch 56/100\n",
      "15/15 [==============================] - 0s 6ms/step - loss: 0.0341 - mse: 0.0341 - val_loss: 0.0326 - val_mse: 0.0326\n",
      "Epoch 57/100\n",
      "15/15 [==============================] - 0s 5ms/step - loss: 0.0344 - mse: 0.0344 - val_loss: 0.0333 - val_mse: 0.0333\n",
      "Epoch 58/100\n",
      "15/15 [==============================] - 0s 4ms/step - loss: 0.0346 - mse: 0.0346 - val_loss: 0.0326 - val_mse: 0.0326\n",
      "Epoch 59/100\n",
      "15/15 [==============================] - 0s 5ms/step - loss: 0.0342 - mse: 0.0342 - val_loss: 0.0334 - val_mse: 0.0334\n",
      "Epoch 60/100\n",
      "15/15 [==============================] - 0s 4ms/step - loss: 0.0340 - mse: 0.0340 - val_loss: 0.0337 - val_mse: 0.0337\n",
      "Epoch 61/100\n",
      "15/15 [==============================] - 0s 4ms/step - loss: 0.0348 - mse: 0.0348 - val_loss: 0.0325 - val_mse: 0.0325\n",
      "Epoch 62/100\n",
      "15/15 [==============================] - 0s 4ms/step - loss: 0.0340 - mse: 0.0340 - val_loss: 0.0325 - val_mse: 0.0325\n",
      "Epoch 63/100\n"
     ]
    },
    {
     "name": "stdout",
     "output_type": "stream",
     "text": [
      "15/15 [==============================] - 0s 4ms/step - loss: 0.0337 - mse: 0.0337 - val_loss: 0.0334 - val_mse: 0.0334\n",
      "Epoch 64/100\n",
      "15/15 [==============================] - 0s 4ms/step - loss: 0.0338 - mse: 0.0338 - val_loss: 0.0332 - val_mse: 0.0332\n",
      "Epoch 65/100\n",
      "15/15 [==============================] - 0s 4ms/step - loss: 0.0341 - mse: 0.0341 - val_loss: 0.0333 - val_mse: 0.0333\n",
      "Epoch 66/100\n",
      "15/15 [==============================] - 0s 4ms/step - loss: 0.0347 - mse: 0.0347 - val_loss: 0.0328 - val_mse: 0.0328\n",
      "Epoch 67/100\n",
      "15/15 [==============================] - 0s 4ms/step - loss: 0.0349 - mse: 0.0349 - val_loss: 0.0342 - val_mse: 0.0342\n",
      "Epoch 68/100\n",
      "15/15 [==============================] - 0s 5ms/step - loss: 0.0337 - mse: 0.0337 - val_loss: 0.0329 - val_mse: 0.0329\n",
      "Epoch 69/100\n",
      "15/15 [==============================] - 0s 6ms/step - loss: 0.0338 - mse: 0.0338 - val_loss: 0.0331 - val_mse: 0.0331\n"
     ]
    }
   ],
   "source": [
    "# Создаем  и обучаем модель\n",
    "\n",
    "model_1 = keras.Sequential([\n",
    "          layers.Dense(24, activation='tanh'),\n",
    "          layers.Dense(12, activation='tanh'),\n",
    "          layers.Dense(1, activation='relu'),\n",
    "])\n",
    "\n",
    "compile_model(model_1)\n",
    "\n",
    "history_1 = model_1.fit(features_train,\n",
    "                        y_train,\n",
    "                        batch_size=32,\n",
    "                        epochs=100,\n",
    "                        validation_split=0.3,\n",
    "                        callbacks=callbacks(1))  # номер модели"
   ]
  },
  {
   "cell_type": "code",
   "execution_count": 12,
   "id": "eda49eb5",
   "metadata": {},
   "outputs": [
    {
     "name": "stdout",
     "output_type": "stream",
     "text": [
      "Model: \"sequential\"\n",
      "_________________________________________________________________\n",
      " Layer (type)                Output Shape              Param #   \n",
      "=================================================================\n",
      " dense (Dense)               (None, 24)                312       \n",
      "                                                                 \n",
      " dense_1 (Dense)             (None, 12)                300       \n",
      "                                                                 \n",
      " dense_2 (Dense)             (None, 1)                 13        \n",
      "                                                                 \n",
      "=================================================================\n",
      "Total params: 625\n",
      "Trainable params: 625\n",
      "Non-trainable params: 0\n",
      "_________________________________________________________________\n"
     ]
    },
    {
     "data": {
      "image/png": "[encoded data removed]",
      "text/plain": [
       "<Figure size 640x480 with 1 Axes>"
      ]
     },
     "metadata": {},
     "output_type": "display_data"
    }
   ],
   "source": [
    "\n",
    "model_1.summary()\n",
    "\n",
    "# функции потерь\n",
    "plot_loss(history_1)\n"
   ]
  },
  {
   "cell_type": "code",
   "execution_count": 16,
   "id": "b62254cc",
   "metadata": {},
   "outputs": [
    {
     "name": "stdout",
     "output_type": "stream",
     "text": [
      "9/9 [==============================] - 0s 1ms/step\n",
      "MSE: 0.03644430724128036\n",
      "R^2: -0.05358239550242749\n"
     ]
    }
   ],
   "source": [
    "# Прогноз и оценка\n",
    "\n",
    "y_pred_1 = model_1.predict(features_test)\n",
    "get_metrics('Нейросеть model_1', y_test, y_pred_1)\n"
   ]
  },
  {
   "cell_type": "markdown",
   "id": "4024c761",
   "metadata": {},
   "source": [
    "  "
   ]
  },
  {
   "cell_type": "markdown",
   "id": "5bebaa82",
   "metadata": {},
   "source": [
    "### Модель 2"
   ]
  },
  {
   "cell_type": "code",
   "execution_count": 17,
   "id": "ae56304c",
   "metadata": {},
   "outputs": [
    {
     "name": "stdout",
     "output_type": "stream",
     "text": [
      "Epoch 1/100\n",
      "15/15 [==============================] - 1s 28ms/step - loss: 0.0578 - mse: 0.0578 - val_loss: 0.0471 - val_mse: 0.0471\n",
      "Epoch 2/100\n",
      "15/15 [==============================] - 0s 5ms/step - loss: 0.0486 - mse: 0.0486 - val_loss: 0.0365 - val_mse: 0.0365\n",
      "Epoch 3/100\n",
      "15/15 [==============================] - 0s 10ms/step - loss: 0.0389 - mse: 0.0389 - val_loss: 0.0336 - val_mse: 0.0336\n",
      "Epoch 4/100\n",
      "15/15 [==============================] - 0s 4ms/step - loss: 0.0379 - mse: 0.0379 - val_loss: 0.0347 - val_mse: 0.0347\n",
      "Epoch 5/100\n",
      "15/15 [==============================] - 0s 4ms/step - loss: 0.0358 - mse: 0.0358 - val_loss: 0.0331 - val_mse: 0.0331\n",
      "Epoch 6/100\n",
      "15/15 [==============================] - 0s 6ms/step - loss: 0.0358 - mse: 0.0358 - val_loss: 0.0331 - val_mse: 0.0331\n",
      "Epoch 7/100\n",
      "15/15 [==============================] - 0s 6ms/step - loss: 0.0350 - mse: 0.0350 - val_loss: 0.0339 - val_mse: 0.0339\n",
      "Epoch 8/100\n",
      "15/15 [==============================] - 0s 6ms/step - loss: 0.0345 - mse: 0.0345 - val_loss: 0.0337 - val_mse: 0.0337\n",
      "Epoch 9/100\n",
      "15/15 [==============================] - 0s 4ms/step - loss: 0.0363 - mse: 0.0363 - val_loss: 0.0395 - val_mse: 0.0395\n",
      "Epoch 10/100\n",
      "15/15 [==============================] - 0s 4ms/step - loss: 0.0363 - mse: 0.0363 - val_loss: 0.0343 - val_mse: 0.0343\n",
      "Epoch 11/100\n",
      "15/15 [==============================] - 0s 4ms/step - loss: 0.0349 - mse: 0.0349 - val_loss: 0.0333 - val_mse: 0.0333\n",
      "Epoch 12/100\n",
      "15/15 [==============================] - 0s 4ms/step - loss: 0.0345 - mse: 0.0345 - val_loss: 0.0328 - val_mse: 0.0328\n",
      "Epoch 13/100\n",
      "15/15 [==============================] - 0s 5ms/step - loss: 0.0344 - mse: 0.0344 - val_loss: 0.0329 - val_mse: 0.0329\n",
      "Epoch 14/100\n",
      "15/15 [==============================] - 0s 4ms/step - loss: 0.0348 - mse: 0.0348 - val_loss: 0.0334 - val_mse: 0.0334\n",
      "Epoch 15/100\n",
      "15/15 [==============================] - 0s 5ms/step - loss: 0.0349 - mse: 0.0349 - val_loss: 0.0339 - val_mse: 0.0339\n",
      "Epoch 16/100\n",
      "15/15 [==============================] - 0s 5ms/step - loss: 0.0350 - mse: 0.0350 - val_loss: 0.0330 - val_mse: 0.0330\n",
      "Epoch 17/100\n",
      "15/15 [==============================] - 0s 6ms/step - loss: 0.0348 - mse: 0.0348 - val_loss: 0.0345 - val_mse: 0.0345\n",
      "Epoch 18/100\n",
      "15/15 [==============================] - 0s 5ms/step - loss: 0.0341 - mse: 0.0341 - val_loss: 0.0330 - val_mse: 0.0330\n",
      "Epoch 19/100\n",
      "15/15 [==============================] - 0s 4ms/step - loss: 0.0355 - mse: 0.0355 - val_loss: 0.0330 - val_mse: 0.0330\n",
      "Epoch 20/100\n",
      "15/15 [==============================] - 0s 5ms/step - loss: 0.0344 - mse: 0.0344 - val_loss: 0.0326 - val_mse: 0.0326\n",
      "Epoch 21/100\n",
      "15/15 [==============================] - 0s 5ms/step - loss: 0.0350 - mse: 0.0350 - val_loss: 0.0330 - val_mse: 0.0330\n",
      "Epoch 22/100\n",
      "15/15 [==============================] - 0s 4ms/step - loss: 0.0346 - mse: 0.0346 - val_loss: 0.0352 - val_mse: 0.0352\n",
      "Epoch 23/100\n",
      "15/15 [==============================] - 0s 4ms/step - loss: 0.0347 - mse: 0.0347 - val_loss: 0.0331 - val_mse: 0.0331\n",
      "Epoch 24/100\n",
      "15/15 [==============================] - 0s 4ms/step - loss: 0.0344 - mse: 0.0344 - val_loss: 0.0337 - val_mse: 0.0337\n",
      "Epoch 25/100\n",
      "15/15 [==============================] - 0s 4ms/step - loss: 0.0345 - mse: 0.0345 - val_loss: 0.0324 - val_mse: 0.0324\n",
      "Epoch 26/100\n",
      "15/15 [==============================] - 0s 5ms/step - loss: 0.0340 - mse: 0.0340 - val_loss: 0.0327 - val_mse: 0.0327\n",
      "Epoch 27/100\n",
      "15/15 [==============================] - 0s 4ms/step - loss: 0.0356 - mse: 0.0356 - val_loss: 0.0334 - val_mse: 0.0334\n",
      "Epoch 28/100\n",
      "15/15 [==============================] - 0s 4ms/step - loss: 0.0361 - mse: 0.0361 - val_loss: 0.0330 - val_mse: 0.0330\n",
      "Epoch 29/100\n",
      "15/15 [==============================] - 0s 5ms/step - loss: 0.0349 - mse: 0.0349 - val_loss: 0.0330 - val_mse: 0.0330\n",
      "Epoch 30/100\n",
      "15/15 [==============================] - 0s 6ms/step - loss: 0.0339 - mse: 0.0339 - val_loss: 0.0336 - val_mse: 0.0336\n",
      "Epoch 31/100\n",
      "15/15 [==============================] - 0s 6ms/step - loss: 0.0344 - mse: 0.0344 - val_loss: 0.0325 - val_mse: 0.0325\n",
      "Epoch 32/100\n",
      "15/15 [==============================] - 0s 6ms/step - loss: 0.0339 - mse: 0.0339 - val_loss: 0.0326 - val_mse: 0.0326\n",
      "Epoch 33/100\n",
      "15/15 [==============================] - 0s 4ms/step - loss: 0.0345 - mse: 0.0345 - val_loss: 0.0327 - val_mse: 0.0327\n"
     ]
    }
   ],
   "source": [
    "# Создаем  и обучаем модель\n",
    "\n",
    "model_2 = keras.Sequential([\n",
    "          layers.Dense(50, activation='tanh'),\n",
    "          layers.Dense(12, activation='tanh'),\n",
    "          layers.Dense(1, activation='relu'),\n",
    "])\n",
    "\n",
    "compile_model(model_2)\n",
    "\n",
    "history_2 = model_2.fit(features_train,\n",
    "                        y_train,\n",
    "                        batch_size=32,\n",
    "                        epochs=100,\n",
    "                        validation_split=0.3,\n",
    "                        callbacks=callbacks(2))  # номер модели"
   ]
  },
  {
   "cell_type": "code",
   "execution_count": 18,
   "id": "79581985",
   "metadata": {},
   "outputs": [
    {
     "name": "stdout",
     "output_type": "stream",
     "text": [
      "Model: \"sequential_1\"\n",
      "_________________________________________________________________\n",
      " Layer (type)                Output Shape              Param #   \n",
      "=================================================================\n",
      " dense_3 (Dense)             (None, 50)                650       \n",
      "                                                                 \n",
      " dense_4 (Dense)             (None, 12)                612       \n",
      "                                                                 \n",
      " dense_5 (Dense)             (None, 1)                 13        \n",
      "                                                                 \n",
      "=================================================================\n",
      "Total params: 1,275\n",
      "Trainable params: 1,275\n",
      "Non-trainable params: 0\n",
      "_________________________________________________________________\n"
     ]
    },
    {
     "data": {
      "image/png": "[encoded data removed]",
      "text/plain": [
       "<Figure size 640x480 with 1 Axes>"
      ]
     },
     "metadata": {},
     "output_type": "display_data"
    }
   ],
   "source": [
    "\n",
    "model_2.summary()\n",
    "plot_loss(history_2)\n"
   ]
  },
  {
   "cell_type": "code",
   "execution_count": 19,
   "id": "65cfd973",
   "metadata": {},
   "outputs": [
    {
     "name": "stdout",
     "output_type": "stream",
     "text": [
      "9/9 [==============================] - 0s 1ms/step\n",
      "MSE: 0.03602848218505884\n",
      "R^2: -0.04156115015556683\n"
     ]
    }
   ],
   "source": [
    "# Прогноз и оценка\n",
    "\n",
    "y_pred_2 = model_2.predict(features_test)\n",
    "get_metrics('Нейросеть model_2', y_test, y_pred_2)\n"
   ]
  },
  {
   "cell_type": "markdown",
   "id": "0bc2b7c1",
   "metadata": {},
   "source": [
    "  "
   ]
  },
  {
   "cell_type": "markdown",
   "id": "b90ce07a",
   "metadata": {},
   "source": [
    "### Модель 3"
   ]
  },
  {
   "cell_type": "code",
   "execution_count": 20,
   "id": "9460432a",
   "metadata": {},
   "outputs": [
    {
     "name": "stdout",
     "output_type": "stream",
     "text": [
      "Epoch 1/100\n",
      "15/15 [==============================] - 1s 27ms/step - loss: 2.4819 - mse: 2.4819 - val_loss: 1.9448 - val_mse: 1.9448\n",
      "Epoch 2/100\n",
      "15/15 [==============================] - 0s 28ms/step - loss: 1.6431 - mse: 1.6431 - val_loss: 1.2416 - val_mse: 1.2416\n",
      "Epoch 3/100\n",
      "15/15 [==============================] - 0s 21ms/step - loss: 1.0317 - mse: 1.0317 - val_loss: 0.7522 - val_mse: 0.7522\n",
      "Epoch 4/100\n",
      "15/15 [==============================] - 0s 20ms/step - loss: 0.6163 - mse: 0.6163 - val_loss: 0.4318 - val_mse: 0.4318\n",
      "Epoch 5/100\n",
      "15/15 [==============================] - 0s 17ms/step - loss: 0.3514 - mse: 0.3514 - val_loss: 0.2375 - val_mse: 0.2375\n",
      "Epoch 6/100\n",
      "15/15 [==============================] - 0s 20ms/step - loss: 0.1949 - mse: 0.1949 - val_loss: 0.1282 - val_mse: 0.1282\n",
      "Epoch 7/100\n",
      "15/15 [==============================] - 0s 22ms/step - loss: 0.1087 - mse: 0.1087 - val_loss: 0.0723 - val_mse: 0.0723\n",
      "Epoch 8/100\n",
      "15/15 [==============================] - 0s 12ms/step - loss: 0.0656 - mse: 0.0656 - val_loss: 0.0466 - val_mse: 0.0466\n",
      "Epoch 9/100\n",
      "15/15 [==============================] - 0s 18ms/step - loss: 0.0462 - mse: 0.0462 - val_loss: 0.0363 - val_mse: 0.0363\n",
      "Epoch 10/100\n",
      "15/15 [==============================] - 0s 7ms/step - loss: 0.0385 - mse: 0.0385 - val_loss: 0.0329 - val_mse: 0.0329\n",
      "Epoch 11/100\n",
      "15/15 [==============================] - 0s 5ms/step - loss: 0.0359 - mse: 0.0359 - val_loss: 0.0322 - val_mse: 0.0322\n",
      "Epoch 12/100\n",
      "15/15 [==============================] - 0s 4ms/step - loss: 0.0354 - mse: 0.0354 - val_loss: 0.0322 - val_mse: 0.0322\n",
      "Epoch 13/100\n",
      "15/15 [==============================] - 0s 4ms/step - loss: 0.0353 - mse: 0.0353 - val_loss: 0.0322 - val_mse: 0.0322\n",
      "Epoch 14/100\n",
      "15/15 [==============================] - 0s 4ms/step - loss: 0.0352 - mse: 0.0352 - val_loss: 0.0323 - val_mse: 0.0323\n",
      "Epoch 15/100\n",
      "15/15 [==============================] - 0s 5ms/step - loss: 0.0352 - mse: 0.0352 - val_loss: 0.0324 - val_mse: 0.0324\n",
      "Epoch 16/100\n",
      "15/15 [==============================] - 0s 4ms/step - loss: 0.0352 - mse: 0.0352 - val_loss: 0.0324 - val_mse: 0.0324\n",
      "Epoch 17/100\n",
      "15/15 [==============================] - 0s 5ms/step - loss: 0.0352 - mse: 0.0352 - val_loss: 0.0323 - val_mse: 0.0323\n",
      "Epoch 18/100\n",
      "15/15 [==============================] - 0s 4ms/step - loss: 0.0352 - mse: 0.0352 - val_loss: 0.0323 - val_mse: 0.0323\n",
      "Epoch 19/100\n",
      "15/15 [==============================] - 0s 4ms/step - loss: 0.0352 - mse: 0.0352 - val_loss: 0.0323 - val_mse: 0.0323\n",
      "Epoch 20/100\n",
      "15/15 [==============================] - 0s 4ms/step - loss: 0.0352 - mse: 0.0352 - val_loss: 0.0323 - val_mse: 0.0323\n"
     ]
    }
   ],
   "source": [
    "# Создаем  и обучаем модель\n",
    "\n",
    "model_3 = keras.Sequential([\n",
    "          layers.Dense(24, activation='sigmoid'),\n",
    "          layers.Dense(12, activation='sigmoid'),\n",
    "          layers.Dense(1, activation='linear'),\n",
    "])\n",
    "\n",
    "compile_model(model_3)\n",
    "\n",
    "history_3 = model_3.fit(features_train,\n",
    "                        y_train,\n",
    "                        batch_size=32,\n",
    "                        epochs=100,\n",
    "                        validation_split=0.3,\n",
    "                        callbacks=callbacks(3))  # номер модели"
   ]
  },
  {
   "cell_type": "code",
   "execution_count": 21,
   "id": "84659c1c",
   "metadata": {},
   "outputs": [
    {
     "name": "stdout",
     "output_type": "stream",
     "text": [
      "Model: \"sequential_2\"\n",
      "_________________________________________________________________\n",
      " Layer (type)                Output Shape              Param #   \n",
      "=================================================================\n",
      " dense_6 (Dense)             (None, 24)                312       \n",
      "                                                                 \n",
      " dense_7 (Dense)             (None, 12)                300       \n",
      "                                                                 \n",
      " dense_8 (Dense)             (None, 1)                 13        \n",
      "                                                                 \n",
      "=================================================================\n",
      "Total params: 625\n",
      "Trainable params: 625\n",
      "Non-trainable params: 0\n",
      "_________________________________________________________________\n"
     ]
    },
    {
     "data": {
      "image/png": "[encoded data removed]",
      "text/plain": [
       "<Figure size 640x480 with 1 Axes>"
      ]
     },
     "metadata": {},
     "output_type": "display_data"
    }
   ],
   "source": [
    "model_3.summary()\n",
    "plot_loss(history_3)"
   ]
  },
  {
   "cell_type": "code",
   "execution_count": 22,
   "id": "b61606a8",
   "metadata": {},
   "outputs": [
    {
     "name": "stdout",
     "output_type": "stream",
     "text": [
      "9/9 [==============================] - 0s 1ms/step\n",
      "MSE: 0.0349805902650709\n",
      "R^2: -0.011267242468443017\n"
     ]
    }
   ],
   "source": [
    "# Прогноз и оценка\n",
    "\n",
    "y_pred_3 = model_3.predict(features_test)\n",
    "get_metrics('Нейросеть model_3', y_test, y_pred_3)"
   ]
  },
  {
   "cell_type": "markdown",
   "id": "8724b57b",
   "metadata": {},
   "source": [
    "  "
   ]
  },
  {
   "cell_type": "markdown",
   "id": "36c15906",
   "metadata": {},
   "source": [
    "### Модель 4"
   ]
  },
  {
   "cell_type": "code",
   "execution_count": 23,
   "id": "6c740172",
   "metadata": {},
   "outputs": [
    {
     "name": "stdout",
     "output_type": "stream",
     "text": [
      "Epoch 1/100\n",
      "15/15 [==============================] - 1s 30ms/step - loss: 0.0540 - mse: 0.0540 - val_loss: 0.0377 - val_mse: 0.0377\n",
      "Epoch 2/100\n",
      "15/15 [==============================] - 0s 17ms/step - loss: 0.0385 - mse: 0.0385 - val_loss: 0.0319 - val_mse: 0.0319\n",
      "Epoch 3/100\n",
      "15/15 [==============================] - 0s 5ms/step - loss: 0.0352 - mse: 0.0352 - val_loss: 0.0319 - val_mse: 0.0319\n",
      "Epoch 4/100\n",
      "15/15 [==============================] - 0s 5ms/step - loss: 0.0351 - mse: 0.0351 - val_loss: 0.0320 - val_mse: 0.0320\n",
      "Epoch 5/100\n",
      "15/15 [==============================] - 0s 4ms/step - loss: 0.0352 - mse: 0.0352 - val_loss: 0.0318 - val_mse: 0.0318\n",
      "Epoch 6/100\n",
      "15/15 [==============================] - 0s 5ms/step - loss: 0.0351 - mse: 0.0351 - val_loss: 0.0319 - val_mse: 0.0319\n",
      "Epoch 7/100\n",
      "15/15 [==============================] - 0s 4ms/step - loss: 0.0352 - mse: 0.0352 - val_loss: 0.0321 - val_mse: 0.0321\n",
      "Epoch 8/100\n",
      "15/15 [==============================] - 0s 4ms/step - loss: 0.0351 - mse: 0.0351 - val_loss: 0.0320 - val_mse: 0.0320\n",
      "Epoch 9/100\n",
      "15/15 [==============================] - 0s 8ms/step - loss: 0.0354 - mse: 0.0354 - val_loss: 0.0322 - val_mse: 0.0322\n",
      "Epoch 10/100\n",
      "15/15 [==============================] - 0s 6ms/step - loss: 0.0354 - mse: 0.0354 - val_loss: 0.0319 - val_mse: 0.0319\n",
      "Epoch 11/100\n",
      "15/15 [==============================] - 0s 5ms/step - loss: 0.0351 - mse: 0.0351 - val_loss: 0.0321 - val_mse: 0.0321\n",
      "Epoch 12/100\n",
      "15/15 [==============================] - 0s 5ms/step - loss: 0.0351 - mse: 0.0351 - val_loss: 0.0319 - val_mse: 0.0319\n",
      "Epoch 13/100\n",
      "15/15 [==============================] - 0s 5ms/step - loss: 0.0350 - mse: 0.0350 - val_loss: 0.0323 - val_mse: 0.0323\n"
     ]
    }
   ],
   "source": [
    "# Создаем  и обучаем модель\n",
    "\n",
    "model_4 = keras.Sequential([\n",
    "          layers.Dense(24, activation='sigmoid'),\n",
    "          layers.Dense(24, activation='sigmoid'),\n",
    "          layers.Dense(1, activation='linear'),\n",
    "])\n",
    "\n",
    "compile_model(model_4)\n",
    "\n",
    "history_4 = model_4.fit(features_train,\n",
    "                        y_train,\n",
    "                        batch_size=32,\n",
    "                        epochs=100,\n",
    "                        validation_split=0.3,\n",
    "                        callbacks=callbacks(4))  # номер модели"
   ]
  },
  {
   "cell_type": "code",
   "execution_count": 24,
   "id": "a9abf6fb",
   "metadata": {},
   "outputs": [
    {
     "name": "stdout",
     "output_type": "stream",
     "text": [
      "Model: \"sequential_3\"\n",
      "_________________________________________________________________\n",
      " Layer (type)                Output Shape              Param #   \n",
      "=================================================================\n",
      " dense_9 (Dense)             (None, 24)                312       \n",
      "                                                                 \n",
      " dense_10 (Dense)            (None, 24)                600       \n",
      "                                                                 \n",
      " dense_11 (Dense)            (None, 1)                 25        \n",
      "                                                                 \n",
      "=================================================================\n",
      "Total params: 937\n",
      "Trainable params: 937\n",
      "Non-trainable params: 0\n",
      "_________________________________________________________________\n"
     ]
    },
    {
     "data": {
      "image/png": "[encoded data removed]",
      "text/plain": [
       "<Figure size 640x480 with 1 Axes>"
      ]
     },
     "metadata": {},
     "output_type": "display_data"
    }
   ],
   "source": [
    "model_4.summary()\n",
    "plot_loss(history_4)"
   ]
  },
  {
   "cell_type": "code",
   "execution_count": 25,
   "id": "7b478241",
   "metadata": {},
   "outputs": [
    {
     "name": "stdout",
     "output_type": "stream",
     "text": [
      "9/9 [==============================] - 0s 1ms/step\n",
      "MSE: 0.03481497556527895\n",
      "R^2: -0.006479423866705858\n"
     ]
    }
   ],
   "source": [
    "# Прогноз и оценка\n",
    "\n",
    "y_pred_4 = model_4.predict(features_test)\n",
    "get_metrics('Нейросеть model_4', y_test, y_pred_4)"
   ]
  },
  {
   "cell_type": "markdown",
   "id": "5252cb4f",
   "metadata": {},
   "source": [
    "  "
   ]
  },
  {
   "cell_type": "markdown",
   "id": "43825016",
   "metadata": {},
   "source": [
    "### Сравнение результатов тестирования"
   ]
  },
  {
   "cell_type": "code",
   "execution_count": null,
   "id": "ab9966d6",
   "metadata": {},
   "outputs": [],
   "source": [
    "# Визуализируем ошибки нейросетей"
   ]
  },
  {
   "cell_type": "code",
   "execution_count": 26,
   "id": "1297d1c4",
   "metadata": {},
   "outputs": [],
   "source": [
    "pred_list = [y_pred_1, y_pred_2, y_pred_3, y_pred_4]\n",
    "y_test = np.array(y_test).reshape(281,1)"
   ]
  },
  {
   "cell_type": "code",
   "execution_count": 27,
   "id": "4cdb038b",
   "metadata": {},
   "outputs": [
    {
     "data": {
      "image/png": "[encoded data removed]",
      "text/plain": [
       "<Figure size 1000x900 with 4 Axes>"
      ]
     },
     "metadata": {},
     "output_type": "display_data"
    }
   ],
   "source": [
    "fig, axs = plt.subplots(nrows=2, ncols=2, figsize=(10, 9))\n",
    "fig.suptitle('Распределение абсолютных ошибок моделей')\n",
    "\n",
    "for i, pred in enumerate(pred_list):\n",
    "    error = y_test - pred\n",
    "    row = i // 2\n",
    "    col = i % 2\n",
    "    sns.histplot(data=error, ax=axs[row, col], bins=25, kde=False)\n",
    "    axs[row, col].set_xlabel('Absolute Error')\n",
    "    axs[row, col].set_title(f'Модель {i+1}')\n",
    "    \n",
    "plt.show()"
   ]
  },
  {
   "cell_type": "markdown",
   "id": "e077f4dd",
   "metadata": {},
   "source": [
    "  "
   ]
  },
  {
   "cell_type": "markdown",
   "id": "17b9199e",
   "metadata": {},
   "source": [
    "**<p style=\"text-align: center;\">Ошибка и коэффицент детерминации нейросетей на тестовой выборке</p>**"
   ]
  },
  {
   "cell_type": "code",
   "execution_count": 28,
   "id": "52d18d70",
   "metadata": {},
   "outputs": [
    {
     "data": {
      "text/html": [
       "<div>\n",
       "<style scoped>\n",
       "    .dataframe tbody tr th:only-of-type {\n",
       "        vertical-align: middle;\n",
       "    }\n",
       "\n",
       "    .dataframe tbody tr th {\n",
       "        vertical-align: top;\n",
       "    }\n",
       "\n",
       "    .dataframe thead th {\n",
       "        text-align: right;\n",
       "    }\n",
       "</style>\n",
       "<table border=\"1\" class=\"dataframe\">\n",
       "  <thead>\n",
       "    <tr style=\"text-align: right;\">\n",
       "      <th></th>\n",
       "      <th>Прогнозируемая переменная</th>\n",
       "      <th>Лучшие параметры</th>\n",
       "      <th>Среднеквадратическая ошибка (MSE)</th>\n",
       "      <th>Коэффициент детерминации (R^2)</th>\n",
       "    </tr>\n",
       "    <tr>\n",
       "      <th>Модель</th>\n",
       "      <th></th>\n",
       "      <th></th>\n",
       "      <th></th>\n",
       "      <th></th>\n",
       "    </tr>\n",
       "  </thead>\n",
       "  <tbody>\n",
       "    <tr>\n",
       "      <th>Нейросеть model_1</th>\n",
       "      <td>Соотношение матрица-наполнитель</td>\n",
       "      <td>NaN</td>\n",
       "      <td>0.036</td>\n",
       "      <td>-0.054</td>\n",
       "    </tr>\n",
       "    <tr>\n",
       "      <th>Нейросеть model_2</th>\n",
       "      <td>Соотношение матрица-наполнитель</td>\n",
       "      <td>NaN</td>\n",
       "      <td>0.036</td>\n",
       "      <td>-0.042</td>\n",
       "    </tr>\n",
       "    <tr>\n",
       "      <th>Нейросеть model_3</th>\n",
       "      <td>Соотношение матрица-наполнитель</td>\n",
       "      <td>Dense(24, 'sigmoid'), Dense(12, 'sigmoid'), De...</td>\n",
       "      <td>0.035</td>\n",
       "      <td>-0.011</td>\n",
       "    </tr>\n",
       "    <tr>\n",
       "      <th>Нейросеть model_4</th>\n",
       "      <td>Соотношение матрица-наполнитель</td>\n",
       "      <td>NaN</td>\n",
       "      <td>0.035</td>\n",
       "      <td>-0.006</td>\n",
       "    </tr>\n",
       "  </tbody>\n",
       "</table>\n",
       "</div>"
      ],
      "text/plain": [
       "                         Прогнозируемая переменная   \n",
       "Модель                                               \n",
       "Нейросеть model_1  Соотношение матрица-наполнитель  \\\n",
       "Нейросеть model_2  Соотношение матрица-наполнитель   \n",
       "Нейросеть model_3  Соотношение матрица-наполнитель   \n",
       "Нейросеть model_4  Соотношение матрица-наполнитель   \n",
       "\n",
       "                                                    Лучшие параметры   \n",
       "Модель                                                                 \n",
       "Нейросеть model_1                                                NaN  \\\n",
       "Нейросеть model_2                                                NaN   \n",
       "Нейросеть model_3  Dense(24, 'sigmoid'), Dense(12, 'sigmoid'), De...   \n",
       "Нейросеть model_4                                                NaN   \n",
       "\n",
       "                  Среднеквадратическая ошибка (MSE)   \n",
       "Модель                                                \n",
       "Нейросеть model_1                             0.036  \\\n",
       "Нейросеть model_2                             0.036   \n",
       "Нейросеть model_3                             0.035   \n",
       "Нейросеть model_4                             0.035   \n",
       "\n",
       "                  Коэффициент детерминации (R^2)  \n",
       "Модель                                            \n",
       "Нейросеть model_1                        -0.054   \n",
       "Нейросеть model_2                        -0.042   \n",
       "Нейросеть model_3                        -0.011   \n",
       "Нейросеть model_4                        -0.006   "
      ]
     },
     "execution_count": 28,
     "metadata": {},
     "output_type": "execute_result"
    }
   ],
   "source": [
    "result_neural.loc['Нейросеть model_3', 'Лучшие параметры'] = \\\n",
    "\"Dense(24, 'sigmoid'), Dense(12, 'sigmoid'), Dense(1, 'linear')\"\n",
    "\n",
    "result_neural"
   ]
  },
  {
   "cell_type": "markdown",
   "id": "ce0de31a",
   "metadata": {},
   "source": [
    "  "
   ]
  },
  {
   "cell_type": "markdown",
   "id": "d71ace21",
   "metadata": {},
   "source": [
    "Лучшая модель нейронной сети для прогнозирования Соотношения матрица-наполнитель - это Модель 3 следующей архитектуры:\n",
    "- полносвязный Dense-слой, 24 нейрона, функция активации - sigmoid,  \n",
    "- полносвязный Dense-слой, 12 нейронов, функция активации - sigmoid, \n",
    "- полносвязный Dense-слой, 1 нейрон, функция активации - linear"
   ]
  },
  {
   "cell_type": "markdown",
   "id": "83bff730",
   "metadata": {},
   "source": [
    "  "
   ]
  },
  {
   "cell_type": "markdown",
   "id": "6de3be32",
   "metadata": {},
   "source": [
    "<font color=blue size=4>Сделать модель 3 лучшей</font>"
   ]
  },
  {
   "cell_type": "code",
   "execution_count": 63,
   "id": "9fd342e9",
   "metadata": {},
   "outputs": [],
   "source": [
    "# УДАЛИТЬ!\n",
    "result_module = pd.read_excel('evaluation/оценки модуля на test.xlsx', index_col=0)\n",
    "result_strength = pd.read_excel('evaluation/оценки прочности на test.xlsx', index_col=0)"
   ]
  },
  {
   "cell_type": "markdown",
   "id": "3c453efd",
   "metadata": {},
   "source": [
    "**<p style=\"text-align: center;\">Метрики всех моделей на тестовой выборке</p>**"
   ]
  },
  {
   "cell_type": "code",
   "execution_count": 64,
   "id": "a53d072e",
   "metadata": {},
   "outputs": [
    {
     "data": {
      "text/html": [
       "<div>\n",
       "<style scoped>\n",
       "    .dataframe tbody tr th:only-of-type {\n",
       "        vertical-align: middle;\n",
       "    }\n",
       "\n",
       "    .dataframe tbody tr th {\n",
       "        vertical-align: top;\n",
       "    }\n",
       "\n",
       "    .dataframe thead th {\n",
       "        text-align: right;\n",
       "    }\n",
       "</style>\n",
       "<table border=\"1\" class=\"dataframe\">\n",
       "  <thead>\n",
       "    <tr style=\"text-align: right;\">\n",
       "      <th></th>\n",
       "      <th>Прогнозируемая переменная</th>\n",
       "      <th>Лучшие параметры</th>\n",
       "      <th>Среднеквадратическая ошибка (MSE)</th>\n",
       "      <th>Коэффициент детерминации (R^2)</th>\n",
       "    </tr>\n",
       "    <tr>\n",
       "      <th>Модель</th>\n",
       "      <th></th>\n",
       "      <th></th>\n",
       "      <th></th>\n",
       "      <th></th>\n",
       "    </tr>\n",
       "  </thead>\n",
       "  <tbody>\n",
       "    <tr>\n",
       "      <th>XGBRegressor</th>\n",
       "      <td>Модуль упругости при растяжении</td>\n",
       "      <td>{'booster': 'dart', 'colsample_bytree': 0.5, '...</td>\n",
       "      <td>0.03</td>\n",
       "      <td>0.006</td>\n",
       "    </tr>\n",
       "    <tr>\n",
       "      <th>CatBoostRegressor</th>\n",
       "      <td>Модуль упругости при растяжении</td>\n",
       "      <td>{'depth': 10, 'iterations': 10, 'l2_leaf_reg':...</td>\n",
       "      <td>0.031</td>\n",
       "      <td>0.0</td>\n",
       "    </tr>\n",
       "    <tr>\n",
       "      <th>RandomForestRegressor</th>\n",
       "      <td>Модуль упругости при растяжении</td>\n",
       "      <td>{'max_depth': 2, 'min_samples_leaf': 1, 'min_s...</td>\n",
       "      <td>0.031</td>\n",
       "      <td>-0.01</td>\n",
       "    </tr>\n",
       "    <tr>\n",
       "      <th>Pipeline</th>\n",
       "      <td>Модуль упругости при растяжении</td>\n",
       "      <td>{'polynomialfeatures__degree': 1, 'ridge__alph...</td>\n",
       "      <td>0.031</td>\n",
       "      <td>-0.001</td>\n",
       "    </tr>\n",
       "    <tr>\n",
       "      <th>XGBRegressor</th>\n",
       "      <td>Прочность при растяжении</td>\n",
       "      <td>{'booster': 'dart', 'colsample_bytree': 0.5, '...</td>\n",
       "      <td>0.035</td>\n",
       "      <td>0.005</td>\n",
       "    </tr>\n",
       "    <tr>\n",
       "      <th>CatBoostRegressor</th>\n",
       "      <td>Прочность при растяжении</td>\n",
       "      <td>{'depth': 10, 'iterations': 10, 'l2_leaf_reg':...</td>\n",
       "      <td>0.036</td>\n",
       "      <td>-0.006</td>\n",
       "    </tr>\n",
       "    <tr>\n",
       "      <th>RandomForestRegressor</th>\n",
       "      <td>Прочность при растяжении</td>\n",
       "      <td>{'max_depth': 2, 'min_samples_leaf': 1, 'min_s...</td>\n",
       "      <td>0.036</td>\n",
       "      <td>-0.005</td>\n",
       "    </tr>\n",
       "    <tr>\n",
       "      <th>Pipeline</th>\n",
       "      <td>Прочность при растяжении</td>\n",
       "      <td>{'polynomialfeatures__degree': 1, 'ridge__alph...</td>\n",
       "      <td>0.036</td>\n",
       "      <td>-0.005</td>\n",
       "    </tr>\n",
       "    <tr>\n",
       "      <th>Нейросеть model_1</th>\n",
       "      <td>Соотношение матрица-наполнитель</td>\n",
       "      <td>NaN</td>\n",
       "      <td>0.036</td>\n",
       "      <td>-0.031</td>\n",
       "    </tr>\n",
       "    <tr>\n",
       "      <th>Нейросеть model_2</th>\n",
       "      <td>Соотношение матрица-наполнитель</td>\n",
       "      <td>NaN</td>\n",
       "      <td>0.036</td>\n",
       "      <td>-0.050</td>\n",
       "    </tr>\n",
       "    <tr>\n",
       "      <th>Нейросеть model_3</th>\n",
       "      <td>Соотношение матрица-наполнитель</td>\n",
       "      <td>Dense(24, 'sigmoid'), Dense(12, 'sigmoid'), De...</td>\n",
       "      <td>0.035</td>\n",
       "      <td>-0.001</td>\n",
       "    </tr>\n",
       "    <tr>\n",
       "      <th>Нейросеть model_4</th>\n",
       "      <td>Соотношение матрица-наполнитель</td>\n",
       "      <td>NaN</td>\n",
       "      <td>0.037</td>\n",
       "      <td>-0.057</td>\n",
       "    </tr>\n",
       "  </tbody>\n",
       "</table>\n",
       "</div>"
      ],
      "text/plain": [
       "                             Прогнозируемая переменная   \n",
       "Модель                                                   \n",
       "XGBRegressor           Модуль упругости при растяжении  \\\n",
       "CatBoostRegressor      Модуль упругости при растяжении   \n",
       "RandomForestRegressor  Модуль упругости при растяжении   \n",
       "Pipeline               Модуль упругости при растяжении   \n",
       "XGBRegressor                  Прочность при растяжении   \n",
       "CatBoostRegressor             Прочность при растяжении   \n",
       "RandomForestRegressor         Прочность при растяжении   \n",
       "Pipeline                      Прочность при растяжении   \n",
       "Нейросеть model_1      Соотношение матрица-наполнитель   \n",
       "Нейросеть model_2      Соотношение матрица-наполнитель   \n",
       "Нейросеть model_3      Соотношение матрица-наполнитель   \n",
       "Нейросеть model_4      Соотношение матрица-наполнитель   \n",
       "\n",
       "                                                        Лучшие параметры   \n",
       "Модель                                                                     \n",
       "XGBRegressor           {'booster': 'dart', 'colsample_bytree': 0.5, '...  \\\n",
       "CatBoostRegressor      {'depth': 10, 'iterations': 10, 'l2_leaf_reg':...   \n",
       "RandomForestRegressor  {'max_depth': 2, 'min_samples_leaf': 1, 'min_s...   \n",
       "Pipeline               {'polynomialfeatures__degree': 1, 'ridge__alph...   \n",
       "XGBRegressor           {'booster': 'dart', 'colsample_bytree': 0.5, '...   \n",
       "CatBoostRegressor      {'depth': 10, 'iterations': 10, 'l2_leaf_reg':...   \n",
       "RandomForestRegressor  {'max_depth': 2, 'min_samples_leaf': 1, 'min_s...   \n",
       "Pipeline               {'polynomialfeatures__degree': 1, 'ridge__alph...   \n",
       "Нейросеть model_1                                                    NaN   \n",
       "Нейросеть model_2                                                    NaN   \n",
       "Нейросеть model_3      Dense(24, 'sigmoid'), Dense(12, 'sigmoid'), De...   \n",
       "Нейросеть model_4                                                    NaN   \n",
       "\n",
       "                      Среднеквадратическая ошибка (MSE)   \n",
       "Модель                                                    \n",
       "XGBRegressor                                       0.03  \\\n",
       "CatBoostRegressor                                 0.031   \n",
       "RandomForestRegressor                             0.031   \n",
       "Pipeline                                          0.031   \n",
       "XGBRegressor                                      0.035   \n",
       "CatBoostRegressor                                 0.036   \n",
       "RandomForestRegressor                             0.036   \n",
       "Pipeline                                          0.036   \n",
       "Нейросеть model_1                                 0.036   \n",
       "Нейросеть model_2                                 0.036   \n",
       "Нейросеть model_3                                 0.035   \n",
       "Нейросеть model_4                                 0.037   \n",
       "\n",
       "                      Коэффициент детерминации (R^2)  \n",
       "Модель                                                \n",
       "XGBRegressor                                   0.006  \n",
       "CatBoostRegressor                                0.0  \n",
       "RandomForestRegressor                          -0.01  \n",
       "Pipeline                                      -0.001  \n",
       "XGBRegressor                                   0.005  \n",
       "CatBoostRegressor                             -0.006  \n",
       "RandomForestRegressor                         -0.005  \n",
       "Pipeline                                      -0.005  \n",
       "Нейросеть model_1                            -0.031   \n",
       "Нейросеть model_2                            -0.050   \n",
       "Нейросеть model_3                            -0.001   \n",
       "Нейросеть model_4                            -0.057   "
      ]
     },
     "execution_count": 64,
     "metadata": {},
     "output_type": "execute_result"
    }
   ],
   "source": [
    "best_models_df = pd.concat([result_module, result_strength, result_neural], axis=0)\n",
    "best_models_df"
   ]
  },
  {
   "cell_type": "markdown",
   "id": "71bf849a",
   "metadata": {},
   "source": [
    "<font size=2>*Примечание*. Pipeline - комбинация полиномиальной интерполяции и Ridge-регрессии</font>"
   ]
  },
  {
   "cell_type": "markdown",
   "id": "88504561",
   "metadata": {},
   "source": [
    "  "
   ]
  },
  {
   "cell_type": "markdown",
   "id": "20514cb5",
   "metadata": {},
   "source": [
    "<font size=4>По результатам сравнения всех созданных моделей для разработки приложения выберем модель градиентного бустинга XGBRegressor для прогноза Модуля упругости при растяжении.</font>"
   ]
  },
  {
   "cell_type": "code",
   "execution_count": null,
   "id": "a2f330be",
   "metadata": {},
   "outputs": [],
   "source": []
  }
 ],
 "metadata": {
  "kernelspec": {
   "display_name": "Python 3 (ipykernel)",
   "language": "python",
   "name": "python3"
  },
  "language_info": {
   "codemirror_mode": {
    "name": "ipython",
    "version": 3
   },
   "file_extension": ".py",
   "mimetype": "text/x-python",
   "name": "python",
   "nbconvert_exporter": "python",
   "pygments_lexer": "ipython3",
   "version": "3.10.5"
  }
 },
 "nbformat": 4,
 "nbformat_minor": 5
}
