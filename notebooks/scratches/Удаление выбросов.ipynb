{
 "cells": [
  {
   "cell_type": "markdown",
   "id": "fbf434df",
   "metadata": {},
   "source": [
    "### Удаление выбросов  \n",
    "### Пошаговое объснение  \n",
    "Метод межквартильного диапазона"
   ]
  },
  {
   "cell_type": "code",
   "execution_count": 1,
   "id": "1bc02221",
   "metadata": {},
   "outputs": [],
   "source": [
    "import pandas as pd"
   ]
  },
  {
   "cell_type": "code",
   "execution_count": 7,
   "id": "1f1639d0",
   "metadata": {},
   "outputs": [
    {
     "data": {
      "text/html": [
       "<div>\n",
       "<style scoped>\n",
       "    .dataframe tbody tr th:only-of-type {\n",
       "        vertical-align: middle;\n",
       "    }\n",
       "\n",
       "    .dataframe tbody tr th {\n",
       "        vertical-align: top;\n",
       "    }\n",
       "\n",
       "    .dataframe thead th {\n",
       "        text-align: right;\n",
       "    }\n",
       "</style>\n",
       "<table border=\"1\" class=\"dataframe\">\n",
       "  <thead>\n",
       "    <tr style=\"text-align: right;\">\n",
       "      <th></th>\n",
       "      <th>Количество отвердителя, м.%</th>\n",
       "      <th>Содержание эпоксидных групп, %</th>\n",
       "      <th>Температура вспышки, С</th>\n",
       "      <th>Потребление смолы, г/м2</th>\n",
       "      <th>Угол нашивки, град</th>\n",
       "      <th>Шаг нашивки</th>\n",
       "      <th>Плотность нашивки</th>\n",
       "      <th>Плотность, кг/м3</th>\n",
       "      <th>Поверхностная плотность, г/м2</th>\n",
       "      <th>Модуль упругости, ГПа</th>\n",
       "      <th>Соотношение матрица-наполнитель</th>\n",
       "      <th>Модуль упругости при растяжении, ГПа</th>\n",
       "      <th>Прочность при растяжении, МПа</th>\n",
       "    </tr>\n",
       "  </thead>\n",
       "  <tbody>\n",
       "    <tr>\n",
       "      <th>0</th>\n",
       "      <td>30.00</td>\n",
       "      <td>22.267857</td>\n",
       "      <td>100.000000</td>\n",
       "      <td>220.0</td>\n",
       "      <td>0</td>\n",
       "      <td>4.0</td>\n",
       "      <td>57.0</td>\n",
       "      <td>2030.0</td>\n",
       "      <td>210.0</td>\n",
       "      <td>738.736842</td>\n",
       "      <td>1.857143</td>\n",
       "      <td>70.0</td>\n",
       "      <td>3000.0</td>\n",
       "    </tr>\n",
       "    <tr>\n",
       "      <th>1</th>\n",
       "      <td>50.00</td>\n",
       "      <td>23.750000</td>\n",
       "      <td>284.615385</td>\n",
       "      <td>220.0</td>\n",
       "      <td>0</td>\n",
       "      <td>4.0</td>\n",
       "      <td>60.0</td>\n",
       "      <td>2030.0</td>\n",
       "      <td>210.0</td>\n",
       "      <td>738.736842</td>\n",
       "      <td>1.857143</td>\n",
       "      <td>70.0</td>\n",
       "      <td>3000.0</td>\n",
       "    </tr>\n",
       "    <tr>\n",
       "      <th>2</th>\n",
       "      <td>49.90</td>\n",
       "      <td>33.000000</td>\n",
       "      <td>284.615385</td>\n",
       "      <td>220.0</td>\n",
       "      <td>0</td>\n",
       "      <td>4.0</td>\n",
       "      <td>70.0</td>\n",
       "      <td>2030.0</td>\n",
       "      <td>210.0</td>\n",
       "      <td>738.736842</td>\n",
       "      <td>1.857143</td>\n",
       "      <td>70.0</td>\n",
       "      <td>3000.0</td>\n",
       "    </tr>\n",
       "    <tr>\n",
       "      <th>3</th>\n",
       "      <td>129.00</td>\n",
       "      <td>21.250000</td>\n",
       "      <td>300.000000</td>\n",
       "      <td>220.0</td>\n",
       "      <td>0</td>\n",
       "      <td>5.0</td>\n",
       "      <td>47.0</td>\n",
       "      <td>2030.0</td>\n",
       "      <td>210.0</td>\n",
       "      <td>738.736842</td>\n",
       "      <td>1.857143</td>\n",
       "      <td>70.0</td>\n",
       "      <td>3000.0</td>\n",
       "    </tr>\n",
       "    <tr>\n",
       "      <th>4</th>\n",
       "      <td>111.86</td>\n",
       "      <td>22.267857</td>\n",
       "      <td>284.615385</td>\n",
       "      <td>220.0</td>\n",
       "      <td>0</td>\n",
       "      <td>5.0</td>\n",
       "      <td>57.0</td>\n",
       "      <td>2030.0</td>\n",
       "      <td>210.0</td>\n",
       "      <td>753.000000</td>\n",
       "      <td>2.771331</td>\n",
       "      <td>70.0</td>\n",
       "      <td>3000.0</td>\n",
       "    </tr>\n",
       "  </tbody>\n",
       "</table>\n",
       "</div>"
      ],
      "text/plain": [
       "   Количество отвердителя, м.%  Содержание эпоксидных групп, %   \n",
       "0                        30.00                       22.267857  \\\n",
       "1                        50.00                       23.750000   \n",
       "2                        49.90                       33.000000   \n",
       "3                       129.00                       21.250000   \n",
       "4                       111.86                       22.267857   \n",
       "\n",
       "   Температура вспышки, С  Потребление смолы, г/м2  Угол нашивки, град   \n",
       "0              100.000000                    220.0                   0  \\\n",
       "1              284.615385                    220.0                   0   \n",
       "2              284.615385                    220.0                   0   \n",
       "3              300.000000                    220.0                   0   \n",
       "4              284.615385                    220.0                   0   \n",
       "\n",
       "   Шаг нашивки  Плотность нашивки  Плотность, кг/м3   \n",
       "0          4.0               57.0            2030.0  \\\n",
       "1          4.0               60.0            2030.0   \n",
       "2          4.0               70.0            2030.0   \n",
       "3          5.0               47.0            2030.0   \n",
       "4          5.0               57.0            2030.0   \n",
       "\n",
       "   Поверхностная плотность, г/м2  Модуль упругости, ГПа   \n",
       "0                          210.0             738.736842  \\\n",
       "1                          210.0             738.736842   \n",
       "2                          210.0             738.736842   \n",
       "3                          210.0             738.736842   \n",
       "4                          210.0             753.000000   \n",
       "\n",
       "   Соотношение матрица-наполнитель  Модуль упругости при растяжении, ГПа   \n",
       "0                         1.857143                                  70.0  \\\n",
       "1                         1.857143                                  70.0   \n",
       "2                         1.857143                                  70.0   \n",
       "3                         1.857143                                  70.0   \n",
       "4                         2.771331                                  70.0   \n",
       "\n",
       "   Прочность при растяжении, МПа  \n",
       "0                         3000.0  \n",
       "1                         3000.0  \n",
       "2                         3000.0  \n",
       "3                         3000.0  \n",
       "4                         3000.0  "
      ]
     },
     "execution_count": 7,
     "metadata": {},
     "output_type": "execute_result"
    }
   ],
   "source": [
    "merged = pd.read_csv('../../data/merged.csv')\n",
    "merged.head()"
   ]
  },
  {
   "cell_type": "code",
   "execution_count": 8,
   "id": "70251d12",
   "metadata": {},
   "outputs": [
    {
     "name": "stdout",
     "output_type": "stream",
     "text": [
      "Количество строк в исходном датасете - 1023\n"
     ]
    }
   ],
   "source": [
    "print(\"Количество строк в исходном датасете -\", merged.shape[0])"
   ]
  },
  {
   "cell_type": "markdown",
   "id": "a2088734",
   "metadata": {},
   "source": [
    "#### Вычисление межквартильного диапазона"
   ]
  },
  {
   "cell_type": "code",
   "execution_count": 9,
   "id": "552205bc",
   "metadata": {},
   "outputs": [
    {
     "data": {
      "text/plain": [
       "Количество отвердителя, м.%               92.443497\n",
       "Содержание эпоксидных групп, %            20.608034\n",
       "Температура вспышки, С                   259.066528\n",
       "Потребление смолы, г/м2                  179.627520\n",
       "Угол нашивки, град                         0.000000\n",
       "Шаг нашивки                                5.080033\n",
       "Плотность нашивки                         49.799212\n",
       "Плотность, кг/м3                        1924.155467\n",
       "Поверхностная плотность, г/м2            266.816645\n",
       "Модуль упругости, ГПа                    500.047452\n",
       "Соотношение матрица-наполнитель            2.317887\n",
       "Модуль упругости при растяжении, ГПа      71.245018\n",
       "Прочность при растяжении, МПа           2135.850448\n",
       "Name: 0.25, dtype: float64"
      ]
     },
     "execution_count": 9,
     "metadata": {},
     "output_type": "execute_result"
    }
   ],
   "source": [
    "q1 = merged.quantile(0.25)\n",
    "q1"
   ]
  },
  {
   "cell_type": "code",
   "execution_count": 10,
   "id": "34cddb27",
   "metadata": {},
   "outputs": [
    {
     "data": {
      "text/plain": [
       "Количество отвердителя, м.%              129.730366\n",
       "Содержание эпоксидных групп, %            23.961934\n",
       "Температура вспышки, С                   313.002106\n",
       "Потребление смолы, г/м2                  257.481724\n",
       "Угол нашивки, град                        90.000000\n",
       "Шаг нашивки                                8.586293\n",
       "Плотность нашивки                         64.944961\n",
       "Плотность, кг/м3                        2021.374375\n",
       "Поверхностная плотность, г/м2            693.225017\n",
       "Модуль упругости, ГПа                    961.812526\n",
       "Соотношение матрица-наполнитель            3.552660\n",
       "Модуль упругости при растяжении, ГПа      75.356612\n",
       "Прочность при растяжении, МПа           2767.193119\n",
       "Name: 0.75, dtype: float64"
      ]
     },
     "execution_count": 10,
     "metadata": {},
     "output_type": "execute_result"
    }
   ],
   "source": [
    "q3 = merged.quantile(0.75)\n",
    "q3"
   ]
  },
  {
   "cell_type": "code",
   "execution_count": 11,
   "id": "270d2ae7",
   "metadata": {},
   "outputs": [
    {
     "data": {
      "text/plain": [
       "Количество отвердителя, м.%              37.286868\n",
       "Содержание эпоксидных групп, %            3.353899\n",
       "Температура вспышки, С                   53.935578\n",
       "Потребление смолы, г/м2                  77.854204\n",
       "Угол нашивки, град                       90.000000\n",
       "Шаг нашивки                               3.506260\n",
       "Плотность нашивки                        15.145749\n",
       "Плотность, кг/м3                         97.218908\n",
       "Поверхностная плотность, г/м2           426.408372\n",
       "Модуль упругости, ГПа                   461.765075\n",
       "Соотношение матрица-наполнитель           1.234773\n",
       "Модуль упругости при растяжении, ГПа      4.111594\n",
       "Прочность при растяжении, МПа           631.342671\n",
       "dtype: float64"
      ]
     },
     "execution_count": 11,
     "metadata": {},
     "output_type": "execute_result"
    }
   ],
   "source": [
    "iqr = q3 - q1\n",
    "iqr"
   ]
  },
  {
   "cell_type": "markdown",
   "id": "50987dd2",
   "metadata": {},
   "source": [
    "#### Определение границ выбросов"
   ]
  },
  {
   "cell_type": "code",
   "execution_count": 12,
   "id": "d111b5c0",
   "metadata": {},
   "outputs": [
    {
     "data": {
      "text/plain": [
       "Количество отвердителя, м.%               36.513195\n",
       "Содержание эпоксидных групп, %            15.577185\n",
       "Температура вспышки, С                   178.163161\n",
       "Потребление смолы, г/м2                   62.846214\n",
       "Угол нашивки, град                      -135.000000\n",
       "Шаг нашивки                               -0.179357\n",
       "Плотность нашивки                         27.080589\n",
       "Плотность, кг/м3                        1778.327105\n",
       "Поверхностная плотность, г/м2           -372.795912\n",
       "Модуль упругости, ГПа                   -192.600160\n",
       "Соотношение матрица-наполнитель            0.465727\n",
       "Модуль упругости при растяжении, ГПа      65.077628\n",
       "Прочность при растяжении, МПа           1188.836442\n",
       "dtype: float64"
      ]
     },
     "execution_count": 12,
     "metadata": {},
     "output_type": "execute_result"
    }
   ],
   "source": [
    "# определение нижней границы выбросов\n",
    "lower_bound = q1 - 1.5 * iqr\n",
    "lower_bound"
   ]
  },
  {
   "cell_type": "code",
   "execution_count": 13,
   "id": "264452ca",
   "metadata": {},
   "outputs": [
    {
     "data": {
      "text/plain": [
       "Количество отвердителя, м.%              185.660668\n",
       "Содержание эпоксидных групп, %            28.992783\n",
       "Температура вспышки, С                   393.905472\n",
       "Потребление смолы, г/м2                  374.263030\n",
       "Угол нашивки, град                       225.000000\n",
       "Шаг нашивки                               13.845683\n",
       "Плотность нашивки                         87.663585\n",
       "Плотность, кг/м3                        2167.202736\n",
       "Поверхностная плотность, г/м2           1332.837575\n",
       "Модуль упругости, ГПа                   1654.460139\n",
       "Соотношение матрица-наполнитель            5.404820\n",
       "Модуль упругости при растяжении, ГПа      81.524003\n",
       "Прочность при растяжении, МПа           3714.207126\n",
       "dtype: float64"
      ]
     },
     "execution_count": 13,
     "metadata": {},
     "output_type": "execute_result"
    }
   ],
   "source": [
    "# определение верхней границы выбросов\n",
    "upper_bound = q3 + 1.5 * iqr\n",
    "upper_bound"
   ]
  },
  {
   "cell_type": "markdown",
   "id": "97e5cf43",
   "metadata": {},
   "source": [
    "#### Удаление выбросов из датафрейма"
   ]
  },
  {
   "cell_type": "code",
   "execution_count": 15,
   "id": "01add97a",
   "metadata": {},
   "outputs": [
    {
     "data": {
      "text/html": [
       "<div>\n",
       "<style scoped>\n",
       "    .dataframe tbody tr th:only-of-type {\n",
       "        vertical-align: middle;\n",
       "    }\n",
       "\n",
       "    .dataframe tbody tr th {\n",
       "        vertical-align: top;\n",
       "    }\n",
       "\n",
       "    .dataframe thead th {\n",
       "        text-align: right;\n",
       "    }\n",
       "</style>\n",
       "<table border=\"1\" class=\"dataframe\">\n",
       "  <thead>\n",
       "    <tr style=\"text-align: right;\">\n",
       "      <th></th>\n",
       "      <th>Количество отвердителя, м.%</th>\n",
       "      <th>Содержание эпоксидных групп, %</th>\n",
       "      <th>Температура вспышки, С</th>\n",
       "      <th>Потребление смолы, г/м2</th>\n",
       "      <th>Угол нашивки, град</th>\n",
       "      <th>Шаг нашивки</th>\n",
       "      <th>Плотность нашивки</th>\n",
       "      <th>Плотность, кг/м3</th>\n",
       "      <th>Поверхностная плотность, г/м2</th>\n",
       "      <th>Модуль упругости, ГПа</th>\n",
       "      <th>Соотношение матрица-наполнитель</th>\n",
       "      <th>Модуль упругости при растяжении, ГПа</th>\n",
       "      <th>Прочность при растяжении, МПа</th>\n",
       "    </tr>\n",
       "  </thead>\n",
       "  <tbody>\n",
       "    <tr>\n",
       "      <th>0</th>\n",
       "      <td>True</td>\n",
       "      <td>False</td>\n",
       "      <td>True</td>\n",
       "      <td>False</td>\n",
       "      <td>False</td>\n",
       "      <td>False</td>\n",
       "      <td>False</td>\n",
       "      <td>False</td>\n",
       "      <td>False</td>\n",
       "      <td>False</td>\n",
       "      <td>False</td>\n",
       "      <td>False</td>\n",
       "      <td>False</td>\n",
       "    </tr>\n",
       "    <tr>\n",
       "      <th>1</th>\n",
       "      <td>False</td>\n",
       "      <td>False</td>\n",
       "      <td>False</td>\n",
       "      <td>False</td>\n",
       "      <td>False</td>\n",
       "      <td>False</td>\n",
       "      <td>False</td>\n",
       "      <td>False</td>\n",
       "      <td>False</td>\n",
       "      <td>False</td>\n",
       "      <td>False</td>\n",
       "      <td>False</td>\n",
       "      <td>False</td>\n",
       "    </tr>\n",
       "    <tr>\n",
       "      <th>2</th>\n",
       "      <td>False</td>\n",
       "      <td>False</td>\n",
       "      <td>False</td>\n",
       "      <td>False</td>\n",
       "      <td>False</td>\n",
       "      <td>False</td>\n",
       "      <td>False</td>\n",
       "      <td>False</td>\n",
       "      <td>False</td>\n",
       "      <td>False</td>\n",
       "      <td>False</td>\n",
       "      <td>False</td>\n",
       "      <td>False</td>\n",
       "    </tr>\n",
       "    <tr>\n",
       "      <th>3</th>\n",
       "      <td>False</td>\n",
       "      <td>False</td>\n",
       "      <td>False</td>\n",
       "      <td>False</td>\n",
       "      <td>False</td>\n",
       "      <td>False</td>\n",
       "      <td>False</td>\n",
       "      <td>False</td>\n",
       "      <td>False</td>\n",
       "      <td>False</td>\n",
       "      <td>False</td>\n",
       "      <td>False</td>\n",
       "      <td>False</td>\n",
       "    </tr>\n",
       "    <tr>\n",
       "      <th>4</th>\n",
       "      <td>False</td>\n",
       "      <td>False</td>\n",
       "      <td>False</td>\n",
       "      <td>False</td>\n",
       "      <td>False</td>\n",
       "      <td>False</td>\n",
       "      <td>False</td>\n",
       "      <td>False</td>\n",
       "      <td>False</td>\n",
       "      <td>False</td>\n",
       "      <td>False</td>\n",
       "      <td>False</td>\n",
       "      <td>False</td>\n",
       "    </tr>\n",
       "  </tbody>\n",
       "</table>\n",
       "</div>"
      ],
      "text/plain": [
       "   Количество отвердителя, м.%  Содержание эпоксидных групп, %   \n",
       "0                         True                           False  \\\n",
       "1                        False                           False   \n",
       "2                        False                           False   \n",
       "3                        False                           False   \n",
       "4                        False                           False   \n",
       "\n",
       "   Температура вспышки, С  Потребление смолы, г/м2  Угол нашивки, град   \n",
       "0                    True                    False               False  \\\n",
       "1                   False                    False               False   \n",
       "2                   False                    False               False   \n",
       "3                   False                    False               False   \n",
       "4                   False                    False               False   \n",
       "\n",
       "   Шаг нашивки  Плотность нашивки  Плотность, кг/м3   \n",
       "0        False              False             False  \\\n",
       "1        False              False             False   \n",
       "2        False              False             False   \n",
       "3        False              False             False   \n",
       "4        False              False             False   \n",
       "\n",
       "   Поверхностная плотность, г/м2  Модуль упругости, ГПа   \n",
       "0                          False                  False  \\\n",
       "1                          False                  False   \n",
       "2                          False                  False   \n",
       "3                          False                  False   \n",
       "4                          False                  False   \n",
       "\n",
       "   Соотношение матрица-наполнитель  Модуль упругости при растяжении, ГПа   \n",
       "0                            False                                 False  \\\n",
       "1                            False                                 False   \n",
       "2                            False                                 False   \n",
       "3                            False                                 False   \n",
       "4                            False                                 False   \n",
       "\n",
       "   Прочность при растяжении, МПа  \n",
       "0                          False  \n",
       "1                          False  \n",
       "2                          False  \n",
       "3                          False  \n",
       "4                          False  "
      ]
     },
     "execution_count": 15,
     "metadata": {},
     "output_type": "execute_result"
    }
   ],
   "source": [
    "(merged < lower_bound).head()\n",
    "# True - выбросы"
   ]
  },
  {
   "cell_type": "markdown",
   "id": "57b3d282",
   "metadata": {},
   "source": [
    "Знак `~` это оператор отрицания. Он инвертирует булевый массив  \n",
    "True заменяются на False"
   ]
  },
  {
   "cell_type": "code",
   "execution_count": 16,
   "id": "13658113",
   "metadata": {},
   "outputs": [
    {
     "data": {
      "text/html": [
       "<div>\n",
       "<style scoped>\n",
       "    .dataframe tbody tr th:only-of-type {\n",
       "        vertical-align: middle;\n",
       "    }\n",
       "\n",
       "    .dataframe tbody tr th {\n",
       "        vertical-align: top;\n",
       "    }\n",
       "\n",
       "    .dataframe thead th {\n",
       "        text-align: right;\n",
       "    }\n",
       "</style>\n",
       "<table border=\"1\" class=\"dataframe\">\n",
       "  <thead>\n",
       "    <tr style=\"text-align: right;\">\n",
       "      <th></th>\n",
       "      <th>Количество отвердителя, м.%</th>\n",
       "      <th>Содержание эпоксидных групп, %</th>\n",
       "      <th>Температура вспышки, С</th>\n",
       "      <th>Потребление смолы, г/м2</th>\n",
       "      <th>Угол нашивки, град</th>\n",
       "      <th>Шаг нашивки</th>\n",
       "      <th>Плотность нашивки</th>\n",
       "      <th>Плотность, кг/м3</th>\n",
       "      <th>Поверхностная плотность, г/м2</th>\n",
       "      <th>Модуль упругости, ГПа</th>\n",
       "      <th>Соотношение матрица-наполнитель</th>\n",
       "      <th>Модуль упругости при растяжении, ГПа</th>\n",
       "      <th>Прочность при растяжении, МПа</th>\n",
       "    </tr>\n",
       "  </thead>\n",
       "  <tbody>\n",
       "    <tr>\n",
       "      <th>0</th>\n",
       "      <td>False</td>\n",
       "      <td>True</td>\n",
       "      <td>False</td>\n",
       "      <td>True</td>\n",
       "      <td>True</td>\n",
       "      <td>True</td>\n",
       "      <td>True</td>\n",
       "      <td>True</td>\n",
       "      <td>True</td>\n",
       "      <td>True</td>\n",
       "      <td>True</td>\n",
       "      <td>True</td>\n",
       "      <td>True</td>\n",
       "    </tr>\n",
       "    <tr>\n",
       "      <th>1</th>\n",
       "      <td>True</td>\n",
       "      <td>True</td>\n",
       "      <td>True</td>\n",
       "      <td>True</td>\n",
       "      <td>True</td>\n",
       "      <td>True</td>\n",
       "      <td>True</td>\n",
       "      <td>True</td>\n",
       "      <td>True</td>\n",
       "      <td>True</td>\n",
       "      <td>True</td>\n",
       "      <td>True</td>\n",
       "      <td>True</td>\n",
       "    </tr>\n",
       "    <tr>\n",
       "      <th>2</th>\n",
       "      <td>True</td>\n",
       "      <td>True</td>\n",
       "      <td>True</td>\n",
       "      <td>True</td>\n",
       "      <td>True</td>\n",
       "      <td>True</td>\n",
       "      <td>True</td>\n",
       "      <td>True</td>\n",
       "      <td>True</td>\n",
       "      <td>True</td>\n",
       "      <td>True</td>\n",
       "      <td>True</td>\n",
       "      <td>True</td>\n",
       "    </tr>\n",
       "    <tr>\n",
       "      <th>3</th>\n",
       "      <td>True</td>\n",
       "      <td>True</td>\n",
       "      <td>True</td>\n",
       "      <td>True</td>\n",
       "      <td>True</td>\n",
       "      <td>True</td>\n",
       "      <td>True</td>\n",
       "      <td>True</td>\n",
       "      <td>True</td>\n",
       "      <td>True</td>\n",
       "      <td>True</td>\n",
       "      <td>True</td>\n",
       "      <td>True</td>\n",
       "    </tr>\n",
       "    <tr>\n",
       "      <th>4</th>\n",
       "      <td>True</td>\n",
       "      <td>True</td>\n",
       "      <td>True</td>\n",
       "      <td>True</td>\n",
       "      <td>True</td>\n",
       "      <td>True</td>\n",
       "      <td>True</td>\n",
       "      <td>True</td>\n",
       "      <td>True</td>\n",
       "      <td>True</td>\n",
       "      <td>True</td>\n",
       "      <td>True</td>\n",
       "      <td>True</td>\n",
       "    </tr>\n",
       "  </tbody>\n",
       "</table>\n",
       "</div>"
      ],
      "text/plain": [
       "   Количество отвердителя, м.%  Содержание эпоксидных групп, %   \n",
       "0                        False                            True  \\\n",
       "1                         True                            True   \n",
       "2                         True                            True   \n",
       "3                         True                            True   \n",
       "4                         True                            True   \n",
       "\n",
       "   Температура вспышки, С  Потребление смолы, г/м2  Угол нашивки, град   \n",
       "0                   False                     True                True  \\\n",
       "1                    True                     True                True   \n",
       "2                    True                     True                True   \n",
       "3                    True                     True                True   \n",
       "4                    True                     True                True   \n",
       "\n",
       "   Шаг нашивки  Плотность нашивки  Плотность, кг/м3   \n",
       "0         True               True              True  \\\n",
       "1         True               True              True   \n",
       "2         True               True              True   \n",
       "3         True               True              True   \n",
       "4         True               True              True   \n",
       "\n",
       "   Поверхностная плотность, г/м2  Модуль упругости, ГПа   \n",
       "0                           True                   True  \\\n",
       "1                           True                   True   \n",
       "2                           True                   True   \n",
       "3                           True                   True   \n",
       "4                           True                   True   \n",
       "\n",
       "   Соотношение матрица-наполнитель  Модуль упругости при растяжении, ГПа   \n",
       "0                             True                                  True  \\\n",
       "1                             True                                  True   \n",
       "2                             True                                  True   \n",
       "3                             True                                  True   \n",
       "4                             True                                  True   \n",
       "\n",
       "   Прочность при растяжении, МПа  \n",
       "0                           True  \n",
       "1                           True  \n",
       "2                           True  \n",
       "3                           True  \n",
       "4                           True  "
      ]
     },
     "execution_count": 16,
     "metadata": {},
     "output_type": "execute_result"
    }
   ],
   "source": [
    "~(merged < lower_bound).head()\n",
    "# False - выбросы"
   ]
  },
  {
   "cell_type": "markdown",
   "id": "7bb0b6b9",
   "metadata": {},
   "source": [
    "- Знак `|` используется в качестве оператора логического ИЛИ. Он объединяет два булевых массива, которые проверяют, превышает ли каждый элемент нижнюю границу или меньше ли он верхней границы.  \n",
    "- `any(axis=1)` проверяет каждую строку датафрейма data вдоль оси 1 (т.е. по столбцам) и возвращает True, если хотя бы один элемент в строке удовлетворяет условию в скобках"
   ]
  },
  {
   "cell_type": "code",
   "execution_count": 17,
   "id": "8b6ca83f",
   "metadata": {},
   "outputs": [
    {
     "data": {
      "text/plain": [
       "0       False\n",
       "1        True\n",
       "2       False\n",
       "3        True\n",
       "4        True\n",
       "        ...  \n",
       "1018     True\n",
       "1019     True\n",
       "1020     True\n",
       "1021     True\n",
       "1022     True\n",
       "Length: 1023, dtype: bool"
      ]
     },
     "execution_count": 17,
     "metadata": {},
     "output_type": "execute_result"
    }
   ],
   "source": [
    "~((merged < lower_bound) | (merged > upper_bound)).any(axis=1)"
   ]
  },
  {
   "cell_type": "code",
   "execution_count": 18,
   "id": "a4474ddb",
   "metadata": {},
   "outputs": [],
   "source": [
    "# loc\n",
    "merged = merged[~((merged < lower_bound) | (merged > upper_bound)).any(axis=1)]"
   ]
  },
  {
   "cell_type": "code",
   "execution_count": 19,
   "id": "dde34d3d",
   "metadata": {},
   "outputs": [
    {
     "name": "stdout",
     "output_type": "stream",
     "text": [
      "Количество строк в очищенном датасете - 936\n"
     ]
    }
   ],
   "source": [
    "print(\"Количество строк в очищенном датасете -\", merged.shape[0])"
   ]
  },
  {
   "cell_type": "code",
   "execution_count": null,
   "id": "7f5bdd12",
   "metadata": {},
   "outputs": [],
   "source": []
  }
 ],
 "metadata": {
  "kernelspec": {
   "display_name": "Python 3 (ipykernel)",
   "language": "python",
   "name": "python3"
  },
  "language_info": {
   "codemirror_mode": {
    "name": "ipython",
    "version": 3
   },
   "file_extension": ".py",
   "mimetype": "text/x-python",
   "name": "python",
   "nbconvert_exporter": "python",
   "pygments_lexer": "ipython3",
   "version": "3.10.5"
  }
 },
 "nbformat": 4,
 "nbformat_minor": 5
}
