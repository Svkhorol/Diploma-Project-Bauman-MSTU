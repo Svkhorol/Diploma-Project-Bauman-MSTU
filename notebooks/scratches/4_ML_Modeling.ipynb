{
 "cells": [
  {
   "cell_type": "markdown",
   "id": "f064f3fa",
   "metadata": {},
   "source": [
    "## Создание ML-моделей "
   ]
  },
  {
   "cell_type": "markdown",
   "id": "8b158088",
   "metadata": {},
   "source": [
    "### Библиотеки и пользовательские функции"
   ]
  },
  {
   "cell_type": "code",
   "execution_count": 1,
   "id": "3f1beca4",
   "metadata": {},
   "outputs": [],
   "source": [
    "\n",
    "import matplotlib.pyplot as plt\n",
    "import pandas as pd\n",
    "import pickle\n",
    "\n",
    "from sklearn.ensemble import RandomForestRegressor\n",
    "from sklearn.linear_model import Ridge\n",
    "from sklearn.metrics import mean_squared_error, r2_score\n",
    "from sklearn.model_selection import cross_validate, train_test_split\n",
    "from sklearn.model_selection import GridSearchCV, RepeatedKFold\n",
    "from sklearn.pipeline import make_pipeline\n",
    "from sklearn.preprocessing import PolynomialFeatures\n",
    "\n",
    "from catboost import CatBoostRegressor\n",
    "from xgboost import XGBRegressor\n"
   ]
  },
  {
   "cell_type": "markdown",
   "id": "8cb072d7",
   "metadata": {},
   "source": [
    "  "
   ]
  },
  {
   "cell_type": "code",
   "execution_count": 3,
   "id": "decd89a3",
   "metadata": {},
   "outputs": [],
   "source": [
    "def create_df():\n",
    "    '''\n",
    "    Функция для создания датафрейма для сохранения метрик\n",
    "    \n",
    "    '''\n",
    "    df = pd.DataFrame(columns=['Модель',\n",
    "                               'Прогнозируемая переменная',\n",
    "                               'Лучшие параметры',\n",
    "                               'Среднеквадратическая ошибка (MSE)',\n",
    "                               'Коэффициент детерминации (R^2)']\n",
    "                      ).set_index(['Модель'])\n",
    "    return df"
   ]
  },
  {
   "cell_type": "code",
   "execution_count": 4,
   "id": "9c7bc62e",
   "metadata": {},
   "outputs": [],
   "source": [
    "def tune_model(model, param_grid):\n",
    "    '''\n",
    "    Функция подбора гиперпараметров\n",
    "    Выводит и возвращает словарь с параметрами\n",
    "    \n",
    "    '''\n",
    "    \n",
    "    # Поиск по сетке\n",
    "    grid_search = GridSearchCV(\n",
    "                               model,\n",
    "                               param_grid=param_grid, \n",
    "                               scoring='neg_mean_squared_error',\n",
    "                               cv=cv,\n",
    "                               verbose=True, n_jobs=-1\n",
    "                               )\n",
    "    grid_search.fit(X_train, y_module_train)\n",
    "    \n",
    "    # Лучшие параметры\n",
    "    print()\n",
    "    print(\n",
    "          pd.DataFrame(grid_search.best_params_,\n",
    "          index=[f'Параметры лучшей модели {type(model).__name__}']).T\n",
    "          )\n",
    "    \n",
    "    return grid_search.best_params_\n"
   ]
  },
  {
   "cell_type": "code",
   "execution_count": 5,
   "id": "1a6b2290",
   "metadata": {},
   "outputs": [],
   "source": [
    "def save_model(model, best_param, models_dict):\n",
    "    '''\n",
    "    Функция сохраняет модель и выбранные параметры  в словарь models_dict...\n",
    "    \n",
    "    '''\n",
    "    \n",
    "    model_name = type(model).__name__\n",
    "    models_dict[model_name] = {\n",
    "          'model': model,\n",
    "          'params': best_param\n",
    "                              }"
   ]
  },
  {
   "cell_type": "markdown",
   "id": "f87242f3",
   "metadata": {},
   "source": [
    "Функции для оценивания моделей кросс-валидацией"
   ]
  },
  {
   "cell_type": "code",
   "execution_count": 6,
   "id": "2b56759d",
   "metadata": {},
   "outputs": [],
   "source": [
    "# для модуля упругости при растяжении\n",
    "\n",
    "def score_module(model, best_param):\n",
    "    '''\n",
    "    Функция, рассчитывающая метрики MSE и R2\n",
    "    Печатает метрики\n",
    "    Вносит метрики в итоговую таблицу\n",
    "    Сохраняет модель в словарь\n",
    "    \n",
    "    '''\n",
    "    \n",
    "    # метрики для оценок\n",
    "    scoring = [\"neg_mean_squared_error\", \"r2\"]\n",
    "    \n",
    "    # расчет на кросс-валидации\n",
    "    scores = cross_validate(model, X_train, y_module_train, cv=cv, scoring=scoring, n_jobs=-1)\n",
    "    # scores  возвращает словарь\n",
    "    \n",
    "    # вывод оценок\n",
    "    print(f'Оценка {type(model).__name__} на обучающей выборке')\n",
    "    print(\"Mean MSE:\", -scores[\"test_neg_mean_squared_error\"].mean().round(4), \"±\", scores[\"test_neg_mean_squared_error\"].std().round(4))\n",
    "    print(\"Mean R^2:\", scores[\"test_r2\"].mean().round(4), \"±\", scores[\"test_r2\"].std().round(4))\n",
    "    \n",
    "    # заполнение датафрейма оценками\n",
    "    df_module.loc[type(model).__name__] = ['Модуль упругости при растяжении',\n",
    "                                            best_param,\n",
    "    f\"{-scores['test_neg_mean_squared_error'].mean():.3f} ± {scores['test_neg_mean_squared_error'].std():.3f}\",\n",
    "    f\"{scores['test_r2'].mean():.3f} ± {scores['test_r2'].std():.3f}\"]\n",
    "    \n",
    "    # пользовательская функция сохранения модели в словарь\n",
    "    save_model(model, best_param, models_dict_module)\n"
   ]
  },
  {
   "cell_type": "code",
   "execution_count": 7,
   "id": "2053585d",
   "metadata": {},
   "outputs": [],
   "source": [
    "# для прочности при растяжении\n",
    "\n",
    "def score_strength(model, best_param):\n",
    "    '''\n",
    "    Функция, рассчитывающая метрики MSE и R2\n",
    "    Печатает метрики\n",
    "    Вносит метрики в итоговую таблицу\n",
    "    Сохраняет модель в словарь\n",
    "    \n",
    "    '''\n",
    "    \n",
    "    # метрики для оценок\n",
    "    scoring = [\"neg_mean_squared_error\", \"r2\"]\n",
    "    \n",
    "    # расчет на кросс-валидации\n",
    "    scores = cross_validate(model, X_train, y_strength_train, cv=cv, scoring=scoring, n_jobs=-1)\n",
    "    # scores  возвращает словарь\n",
    "    \n",
    "    # вывод оценок\n",
    "    print(f'Оценка {type(model).__name__} на обучающей выборке')\n",
    "    print(\"Mean MSE:\", -scores[\"test_neg_mean_squared_error\"].mean().round(4), \"±\", scores[\"test_neg_mean_squared_error\"].std().round(4))\n",
    "    print(\"Mean R^2:\", scores[\"test_r2\"].mean().round(4), \"±\", scores[\"test_r2\"].std().round(4))\n",
    "    \n",
    "    # заполнение датафрейма оценками\n",
    "    df_strength.loc[type(model).__name__] = ['Прочность при растяжении',\n",
    "                                              best_param,\n",
    "    f\"{-scores['test_neg_mean_squared_error'].mean():.3f} ± {scores['test_neg_mean_squared_error'].std():.3f}\",\n",
    "    f\"{scores['test_r2'].mean():.3f} ± {scores['test_r2'].std():.3f}\"]\n",
    "    \n",
    "    # пользовательская функция сохранения модели в словарь\n",
    "    save_model(model, best_param, models_dict_strength)\n"
   ]
  },
  {
   "cell_type": "markdown",
   "id": "2a1b0a7a",
   "metadata": {},
   "source": [
    "Функция для оценивания моделей на тестовой выборке"
   ]
  },
  {
   "cell_type": "code",
   "execution_count": 8,
   "id": "0cf6e4b1",
   "metadata": {},
   "outputs": [],
   "source": [
    "def test(models_dict, y_train, y_test):\n",
    "    '''\n",
    "    Функция оценки модели на тестовой выборке\n",
    "    \n",
    "    '''\n",
    "    \n",
    "    # пустой датафрейм\n",
    "    df = create_df()\n",
    "    \n",
    "    # для каждой модели в словаре моделей\n",
    "    for name, model_dict in models_dict.items():\n",
    "        # извлекаем модель\n",
    "        model = model_dict['model']\n",
    "        # извлекаем параметры\n",
    "        best_param = model_dict['params']\n",
    "        \n",
    "        # обучение модели на train-выборке и прогноз на test-выборке\n",
    "        model.fit(X_train, y_train)\n",
    "        y_pred = model.predict(X_test)\n",
    "        \n",
    "        # оценка качества прогнозов на тестовой выборке\n",
    "        mse = mean_squared_error(y_test, y_pred)\n",
    "        r2 = r2_score(y_test, y_pred)\n",
    "    \n",
    "        # заполнение датафрейма оценками\n",
    "        df.loc[type(model).__name__] = [y_train.name[:-5],\n",
    "                                        best_param,\n",
    "                                        f\"{mse:.3f}\",\n",
    "                                        f\"{r2:.3f} \"]\n",
    "    \n",
    "    return df"
   ]
  },
  {
   "cell_type": "code",
   "execution_count": 9,
   "id": "d820f945",
   "metadata": {},
   "outputs": [],
   "source": [
    "\n",
    "# Стратегия перекрестной проверки\n",
    "cv = RepeatedKFold(n_splits=10, n_repeats=2, random_state=0)\n"
   ]
  },
  {
   "cell_type": "markdown",
   "id": "f3d45c34",
   "metadata": {},
   "source": [
    "  "
   ]
  },
  {
   "cell_type": "markdown",
   "id": "46538338",
   "metadata": {},
   "source": [
    "### Подготовка данных"
   ]
  },
  {
   "cell_type": "code",
   "execution_count": 10,
   "id": "2b0a793f",
   "metadata": {},
   "outputs": [
    {
     "data": {
      "text/plain": [
       "Index(['Количество отвердителя, м.%', 'Содержание эпоксидных групп, %',\n",
       "       'Температура вспышки, С', 'Потребление смолы, г/м2',\n",
       "       'Угол нашивки, град', 'Шаг нашивки', 'Плотность нашивки',\n",
       "       'Плотность, кг/м3', 'Поверхностная плотность, г/м2',\n",
       "       'Модуль упругости, ГПа', 'Соотношение матрица-наполнитель',\n",
       "       'Модуль упругости при растяжении, ГПа',\n",
       "       'Прочность при растяжении, МПа'],\n",
       "      dtype='object')"
      ]
     },
     "execution_count": 10,
     "metadata": {},
     "output_type": "execute_result"
    }
   ],
   "source": [
    "data = pd.read_csv('../data/processed.csv')    # директория не исправлена\n",
    "data.columns"
   ]
  },
  {
   "cell_type": "code",
   "execution_count": 11,
   "id": "2694b356",
   "metadata": {},
   "outputs": [
    {
     "data": {
      "text/plain": [
       "11"
      ]
     },
     "execution_count": 11,
     "metadata": {},
     "output_type": "execute_result"
    }
   ],
   "source": [
    "module = data['Модуль упругости при растяжении, ГПа']   # целевая переменная\n",
    "strength = data['Прочность при растяжении, МПа']        # целевая переменная\n",
    "\n",
    "X = data.drop(columns=\n",
    "              ['Модуль упругости при растяжении, ГПа',  # признаки\n",
    "               'Прочность при растяжении, МПа'])\n",
    "len(X.columns)"
   ]
  },
  {
   "cell_type": "code",
   "execution_count": 12,
   "id": "1972bbde",
   "metadata": {},
   "outputs": [
    {
     "name": "stdout",
     "output_type": "stream",
     "text": [
      "(655, 11) (655,) (655,)\n",
      "(281, 11) (281,) (281,)\n"
     ]
    }
   ],
   "source": [
    "# Разбиваем на train и test\n",
    "\n",
    "X_train, X_test,                    \\\n",
    "y_module_train, y_module_test,      \\\n",
    "y_strength_train, y_strength_test = \\\n",
    "train_test_split(\n",
    "                 X, module, strength, test_size=0.3, random_state=0\n",
    "                )\n",
    "\n",
    "print(X_train.shape, y_module_train.shape, y_strength_train.shape)\n",
    "print(X_test.shape, y_module_test.shape, y_strength_test.shape)"
   ]
  },
  {
   "cell_type": "markdown",
   "id": "a3f0feab",
   "metadata": {},
   "source": [
    "  "
   ]
  },
  {
   "cell_type": "markdown",
   "id": "2b2e743c",
   "metadata": {},
   "source": [
    "<font color=blue size=4>**Прогноз модуля упругости при растяжении**</font>  \n",
    "переменная `module`"
   ]
  },
  {
   "cell_type": "markdown",
   "id": "f4242b2c",
   "metadata": {},
   "source": [
    "Метрики оценивания:\n",
    "- MSE - mean squared error - среднеквадратическая ошибка  \n",
    "- R<sup>2</sup> - коэффициент детерминации"
   ]
  },
  {
   "cell_type": "code",
   "execution_count": 13,
   "id": "80708128",
   "metadata": {},
   "outputs": [],
   "source": [
    "\n",
    "# Датафрейм для записи MSE и R2\n",
    "df_module = create_df()\n",
    "\n",
    "# Пустой словарь для перечня моделей и их параметров\n",
    "models_dict_module = {}\n"
   ]
  },
  {
   "cell_type": "markdown",
   "id": "a9dd65b5",
   "metadata": {},
   "source": [
    "#### Градиентный бустинг  XGBoost\n",
    "https://neerc.ifmo.ru/wiki/index.php?title=XGBoost"
   ]
  },
  {
   "cell_type": "raw",
   "id": "10e234b8",
   "metadata": {},
   "source": [
    "# легкие параметры\n",
    "\n",
    "param_xgb = {\n",
    "              'n_estimators': [10, 50],\n",
    "              'max_depth': [3, 5],\n",
    "              'learning_rate': [0.1],\n",
    "              'n_jobs': [-1]\n",
    "             }"
   ]
  },
  {
   "cell_type": "code",
   "execution_count": 14,
   "id": "4b933c99",
   "metadata": {},
   "outputs": [],
   "source": [
    "param_xgb = {\n",
    "              'booster': ['gbtree', 'dart'],            # dart - c прорежеванием\n",
    "              'n_estimators': [10, 50, 100, 500],       # число деревьев\n",
    "              'max_depth': [3, 5, 7, 10],               # максимальная глубина дерева\n",
    "              'learning_rate': [0.01, 0.02, 0.1, 0.3],\n",
    "              'subsample': [0.5, 0.7, 1.0],             # доля обучающих образцов\n",
    "              'colsample_bytree': [0.5, 0.7, 1.0],      # доля обучающих признаков\n",
    "              'n_jobs': [-1]\n",
    "             }"
   ]
  },
  {
   "cell_type": "markdown",
   "id": "fbbf145e",
   "metadata": {},
   "source": [
    "Используем среднеквадратическую ошибку MSE в качестве функции потерь, в xgboost - squarederror задана по умолчанию. Оптимизация модели заключается в нахождении такого набора параметров модели, при котором среднее значение квадратов разностей между фактическими и прогнозируемыми значениями будет минимальным."
   ]
  },
  {
   "cell_type": "code",
   "execution_count": 15,
   "id": "6478bcff",
   "metadata": {},
   "outputs": [
    {
     "name": "stdout",
     "output_type": "stream",
     "text": [
      "Fitting 20 folds for each of 1152 candidates, totalling 23040 fits\n",
      "\n",
      "                 Параметры лучшей модели XGBRegressor\n",
      "booster                                          dart\n",
      "colsample_bytree                                  0.5\n",
      "learning_rate                                    0.02\n",
      "max_depth                                          10\n",
      "n_estimators                                       10\n",
      "n_jobs                                             -1\n",
      "subsample                                         0.7\n"
     ]
    }
   ],
   "source": [
    "\n",
    "xgb = XGBRegressor(random_state=0)   # tree_method=\"gpu_hist\"\n",
    "\n",
    "# Функция подбора гиперпараметров\n",
    "best_param_xgb = tune_model(xgb, param_xgb)\n"
   ]
  },
  {
   "cell_type": "code",
   "execution_count": 16,
   "id": "159229e4",
   "metadata": {},
   "outputs": [
    {
     "name": "stdout",
     "output_type": "stream",
     "text": [
      "Оценка XGBRegressor на обучающей выборке\n",
      "Mean MSE: 0.0391 ± 0.0065\n",
      "Mean R^2: -0.0111 ± 0.021\n"
     ]
    }
   ],
   "source": [
    "\n",
    "# Создание модели с лучшими параметрами\n",
    "best_xgb = XGBRegressor(random_state=0, **best_param_xgb)\n",
    "\n",
    "# Функция, рассчитывающая метрики MSE и R2 \n",
    "score_module(best_xgb, best_param_xgb)\n"
   ]
  },
  {
   "cell_type": "markdown",
   "id": "0323772e",
   "metadata": {},
   "source": [
    "#### Градиентный бустинг CatBoost"
   ]
  },
  {
   "cell_type": "raw",
   "id": "1e221155",
   "metadata": {},
   "source": [
    "# легкие параметры\n",
    "\n",
    "param_catboost = {           \n",
    "                  'l2_leaf_reg': [3, 10],\n",
    "                  'iterations': [4]\n",
    "                  }"
   ]
  },
  {
   "cell_type": "code",
   "execution_count": 17,
   "id": "53ce7d06",
   "metadata": {},
   "outputs": [],
   "source": [
    "param_catboost = {\n",
    "                 'learning_rate': [0.01, 0.1],\n",
    "                 'depth': [4, 6, 7, 10],         # глубина дерева решений\n",
    "                 'l2_leaf_reg': [0.1, 1, 10],    # коэффициент регуляризации L2\n",
    "                 'iterations': [10, 50, 100]     # количество итераций обучения\n",
    "                  }"
   ]
  },
  {
   "cell_type": "code",
   "execution_count": 18,
   "id": "be9f4040",
   "metadata": {},
   "outputs": [
    {
     "name": "stdout",
     "output_type": "stream",
     "text": [
      "Fitting 20 folds for each of 72 candidates, totalling 1440 fits\n",
      "\n",
      "               Параметры лучшей модели CatBoostRegressor\n",
      "depth                                              10.00\n",
      "iterations                                         10.00\n",
      "l2_leaf_reg                                        10.00\n",
      "learning_rate                                       0.01\n"
     ]
    }
   ],
   "source": [
    "\n",
    "# по умолчанию все ядра процессора\n",
    "# task_type=\"GPU\"\n",
    "\n",
    "catboost = CatBoostRegressor(random_state=0, logging_level='Silent')\n",
    "\n",
    "# Функция подбора гиперпараметров\n",
    "best_param_catboost = tune_model(catboost, param_catboost)\n"
   ]
  },
  {
   "cell_type": "code",
   "execution_count": 19,
   "id": "0fcc550f",
   "metadata": {},
   "outputs": [
    {
     "name": "stdout",
     "output_type": "stream",
     "text": [
      "Оценка CatBoostRegressor на обучающей выборке\n",
      "Mean MSE: 0.039 ± 0.0065\n",
      "Mean R^2: -0.0101 ± 0.0143\n"
     ]
    }
   ],
   "source": [
    "\n",
    "# Создание модели с лучшими параметрами\n",
    "best_catboost = CatBoostRegressor(random_state=0, **best_param_catboost)\n",
    "\n",
    "# Функция, рассчитывающая метрики MSE и R2 \n",
    "score_module(best_catboost, best_param_catboost)\n"
   ]
  },
  {
   "cell_type": "markdown",
   "id": "7463759e",
   "metadata": {},
   "source": [
    "#### Случайный лес"
   ]
  },
  {
   "cell_type": "raw",
   "id": "b88d5106",
   "metadata": {},
   "source": [
    "# легкие параметры\n",
    "\n",
    "param_forest = {\n",
    "                'max_depth': [2, 5],\n",
    "                'min_samples_split': [2, 4]\n",
    "                }"
   ]
  },
  {
   "cell_type": "code",
   "execution_count": 20,
   "id": "7b1fcf50",
   "metadata": {},
   "outputs": [],
   "source": [
    "param_forest = {\n",
    "                'n_estimators': [50, 100, 200],\n",
    "                'max_depth': [2, 3, 5, 7],\n",
    "                'min_samples_split': [2, 4, 8],\n",
    "                'min_samples_leaf': [1, 2, 4],\n",
    "               }"
   ]
  },
  {
   "cell_type": "code",
   "execution_count": 21,
   "id": "0b5d94d8",
   "metadata": {},
   "outputs": [
    {
     "name": "stdout",
     "output_type": "stream",
     "text": [
      "Fitting 20 folds for each of 108 candidates, totalling 2160 fits\n",
      "\n",
      "                   Параметры лучшей модели RandomForestRegressor\n",
      "max_depth                                                      2\n",
      "min_samples_leaf                                               1\n",
      "min_samples_split                                              2\n",
      "n_estimators                                                 200\n"
     ]
    }
   ],
   "source": [
    "\n",
    "forest = RandomForestRegressor(random_state=0)\n",
    "\n",
    "# Функция подбора гиперпараметров\n",
    "best_param_forest = tune_model(forest, param_forest)\n"
   ]
  },
  {
   "cell_type": "code",
   "execution_count": 22,
   "id": "9088ce33",
   "metadata": {},
   "outputs": [
    {
     "name": "stdout",
     "output_type": "stream",
     "text": [
      "Оценка RandomForestRegressor на обучающей выборке\n",
      "Mean MSE: 0.0396 ± 0.0065\n",
      "Mean R^2: -0.0251 ± 0.0256\n"
     ]
    }
   ],
   "source": [
    "\n",
    "# Создание модели с лучшими параметрами\n",
    "best_forest = RandomForestRegressor(random_state=0, **best_param_forest)\n",
    "\n",
    "# Функция, рассчитывающая метрики MSE и R2 \n",
    "score_module(best_forest, best_param_forest)\n"
   ]
  },
  {
   "cell_type": "markdown",
   "id": "994ac12a",
   "metadata": {},
   "source": [
    "#### Полиномиальная регрессия  \n",
    "Полиномиальная интерполяция с Ridge регрессией  \n",
    "https://scikit-learn.org/stable/auto_examples/linear_model/plot_polynomial_interpolation.html"
   ]
  },
  {
   "cell_type": "code",
   "execution_count": 23,
   "id": "efaba636",
   "metadata": {},
   "outputs": [],
   "source": [
    "param_poly = {\n",
    "              'polynomialfeatures__degree': range(1, 5),\n",
    "              'ridge__alpha': [0.001, 0.01, 0.1, 1, 10, 100]\n",
    "             }"
   ]
  },
  {
   "cell_type": "code",
   "execution_count": 24,
   "id": "96b06279",
   "metadata": {},
   "outputs": [
    {
     "name": "stdout",
     "output_type": "stream",
     "text": [
      "Fitting 20 folds for each of 24 candidates, totalling 480 fits\n",
      "\n",
      "                            Параметры лучшей модели Pipeline\n",
      "polynomialfeatures__degree                                 1\n",
      "ridge__alpha                                             100\n"
     ]
    }
   ],
   "source": [
    "\n",
    "poly = make_pipeline(PolynomialFeatures(), Ridge())\n",
    "\n",
    "# Функция подбора гиперпараметров\n",
    "best_param_poly = tune_model(poly, param_poly)\n"
   ]
  },
  {
   "cell_type": "code",
   "execution_count": 25,
   "id": "fdaf5bb0",
   "metadata": {},
   "outputs": [
    {
     "name": "stdout",
     "output_type": "stream",
     "text": [
      "Оценка Pipeline на обучающей выборке\n",
      "Mean MSE: 0.0391 ± 0.0065\n",
      "Mean R^2: -0.012 ± 0.0166\n"
     ]
    }
   ],
   "source": [
    "\n",
    "# Создание модели с лучшими параметрами\n",
    "best_poly = make_pipeline(\n",
    "            PolynomialFeatures(degree=best_param_poly['polynomialfeatures__degree']),\n",
    "            Ridge(alpha=best_param_poly['ridge__alpha']))\n",
    "\n",
    "# Функция, рассчитывающая метрики MSE и R2\n",
    "score_module(best_poly, best_param_poly)\n"
   ]
  },
  {
   "cell_type": "code",
   "execution_count": 26,
   "id": "bd572d29",
   "metadata": {
    "scrolled": false
   },
   "outputs": [
    {
     "data": {
      "text/plain": [
       "{'XGBRegressor': {'model': XGBRegressor(base_score=None, booster='dart', callbacks=None,\n",
       "               colsample_bylevel=None, colsample_bynode=None,\n",
       "               colsample_bytree=0.5, early_stopping_rounds=None,\n",
       "               enable_categorical=False, eval_metric=None, feature_types=None,\n",
       "               gamma=None, gpu_id=None, grow_policy=None, importance_type=None,\n",
       "               interaction_constraints=None, learning_rate=0.02, max_bin=None,\n",
       "               max_cat_threshold=None, max_cat_to_onehot=None,\n",
       "               max_delta_step=None, max_depth=10, max_leaves=None,\n",
       "               min_child_weight=None, missing=nan, monotone_constraints=None,\n",
       "               n_estimators=10, n_jobs=-1, num_parallel_tree=None, predictor=None,\n",
       "               random_state=0, ...),\n",
       "  'params': {'booster': 'dart',\n",
       "   'colsample_bytree': 0.5,\n",
       "   'learning_rate': 0.02,\n",
       "   'max_depth': 10,\n",
       "   'n_estimators': 10,\n",
       "   'n_jobs': -1,\n",
       "   'subsample': 0.7}},\n",
       " 'CatBoostRegressor': {'model': <catboost.core.CatBoostRegressor at 0x2b7a1ddc3a0>,\n",
       "  'params': {'depth': 10,\n",
       "   'iterations': 10,\n",
       "   'l2_leaf_reg': 10,\n",
       "   'learning_rate': 0.01}},\n",
       " 'RandomForestRegressor': {'model': RandomForestRegressor(max_depth=2, n_estimators=200, random_state=0),\n",
       "  'params': {'max_depth': 2,\n",
       "   'min_samples_leaf': 1,\n",
       "   'min_samples_split': 2,\n",
       "   'n_estimators': 200}},\n",
       " 'Pipeline': {'model': Pipeline(steps=[('polynomialfeatures', PolynomialFeatures(degree=1)),\n",
       "                  ('ridge', Ridge(alpha=100))]),\n",
       "  'params': {'polynomialfeatures__degree': 1, 'ridge__alpha': 100}}}"
      ]
     },
     "execution_count": 26,
     "metadata": {},
     "output_type": "execute_result"
    }
   ],
   "source": [
    "# Проверим словарь с моделями\n",
    "models_dict_module"
   ]
  },
  {
   "cell_type": "markdown",
   "id": "10678225",
   "metadata": {},
   "source": [
    "  "
   ]
  },
  {
   "cell_type": "markdown",
   "id": "f4e054e9",
   "metadata": {},
   "source": [
    "<font color=blue size=4>**Прогноз прочности при растяжении**</font>  \n",
    "переменная `strength`"
   ]
  },
  {
   "cell_type": "code",
   "execution_count": 27,
   "id": "6aeb7b20",
   "metadata": {},
   "outputs": [],
   "source": [
    "\n",
    "# Датафрейм для записи MSE и R2\n",
    "df_strength = create_df()\n",
    "\n",
    "# Пустой словарь для перечня моделей и их параметров\n",
    "models_dict_strength = {}\n"
   ]
  },
  {
   "cell_type": "markdown",
   "id": "7ed38b09",
   "metadata": {},
   "source": [
    "Воспользуемся теми же словарями с гиперпараметрами, что и для моделей для модуля упругости при растяжении  \n",
    "#### Градиентный бустинг  XGBoost"
   ]
  },
  {
   "cell_type": "code",
   "execution_count": 28,
   "id": "e6104d76",
   "metadata": {},
   "outputs": [
    {
     "name": "stdout",
     "output_type": "stream",
     "text": [
      "Fitting 20 folds for each of 1152 candidates, totalling 23040 fits\n",
      "\n",
      "                 Параметры лучшей модели XGBRegressor\n",
      "booster                                          dart\n",
      "colsample_bytree                                  0.5\n",
      "learning_rate                                    0.02\n",
      "max_depth                                          10\n",
      "n_estimators                                       10\n",
      "n_jobs                                             -1\n",
      "subsample                                         0.7\n"
     ]
    }
   ],
   "source": [
    "\n",
    "xgb_strength = XGBRegressor(random_state=0)   # tree_method=\"gpu_hist\"\n",
    "\n",
    "# Функция подбора гиперпараметров\n",
    "best_param_xgb_strength = tune_model(xgb_strength, param_xgb)\n"
   ]
  },
  {
   "cell_type": "code",
   "execution_count": 29,
   "id": "7cb5d2f6",
   "metadata": {},
   "outputs": [
    {
     "name": "stdout",
     "output_type": "stream",
     "text": [
      "Оценка XGBRegressor на обучающей выборке\n",
      "Mean MSE: 0.0351 ± 0.0047\n",
      "Mean R^2: -0.0248 ± 0.0337\n"
     ]
    }
   ],
   "source": [
    "\n",
    "# Создание модели с лучшими параметрами\n",
    "best_xgb_strength = XGBRegressor(random_state=0, **best_param_xgb_strength)\n",
    "\n",
    "# Функция, рассчитывающая метрики MSE и R2 \n",
    "score_strength(best_xgb_strength, best_param_xgb_strength)\n"
   ]
  },
  {
   "cell_type": "markdown",
   "id": "de1daea6",
   "metadata": {},
   "source": [
    "#### Градиентный бустинг CatBoost"
   ]
  },
  {
   "cell_type": "code",
   "execution_count": 30,
   "id": "07774004",
   "metadata": {},
   "outputs": [
    {
     "name": "stdout",
     "output_type": "stream",
     "text": [
      "Fitting 20 folds for each of 72 candidates, totalling 1440 fits\n",
      "\n",
      "               Параметры лучшей модели CatBoostRegressor\n",
      "depth                                              10.00\n",
      "iterations                                         10.00\n",
      "l2_leaf_reg                                        10.00\n",
      "learning_rate                                       0.01\n"
     ]
    }
   ],
   "source": [
    "\n",
    "catboost_strength = CatBoostRegressor(random_state=0, logging_level='Silent')\n",
    "\n",
    "# Функция подбора гиперпараметров\n",
    "best_param_catboost_strength = tune_model(catboost_strength, param_catboost)\n"
   ]
  },
  {
   "cell_type": "code",
   "execution_count": 31,
   "id": "c9120640",
   "metadata": {},
   "outputs": [
    {
     "name": "stdout",
     "output_type": "stream",
     "text": [
      "Оценка CatBoostRegressor на обучающей выборке\n",
      "Mean MSE: 0.0349 ± 0.0048\n",
      "Mean R^2: -0.0187 ± 0.0184\n"
     ]
    }
   ],
   "source": [
    "\n",
    "# Создание модели с лучшими параметрами\n",
    "best_catboost_strength = CatBoostRegressor(random_state=0, **best_param_catboost_strength)\n",
    "\n",
    "# Функция, рассчитывающая метрики MSE и R2 \n",
    "score_strength(best_catboost_strength, best_param_catboost_strength)\n"
   ]
  },
  {
   "cell_type": "markdown",
   "id": "2f39dc69",
   "metadata": {},
   "source": [
    "#### Случайный лес"
   ]
  },
  {
   "cell_type": "code",
   "execution_count": 32,
   "id": "72040a30",
   "metadata": {},
   "outputs": [
    {
     "name": "stdout",
     "output_type": "stream",
     "text": [
      "Fitting 20 folds for each of 108 candidates, totalling 2160 fits\n",
      "\n",
      "                   Параметры лучшей модели RandomForestRegressor\n",
      "max_depth                                                      2\n",
      "min_samples_leaf                                               1\n",
      "min_samples_split                                              2\n",
      "n_estimators                                                 200\n"
     ]
    }
   ],
   "source": [
    "\n",
    "forest_strength = RandomForestRegressor(random_state=0)\n",
    "\n",
    "# Функция подбора гиперпараметров\n",
    "best_param_forest_strength = tune_model(forest_strength, param_forest)\n"
   ]
  },
  {
   "cell_type": "code",
   "execution_count": 33,
   "id": "aacb4457",
   "metadata": {},
   "outputs": [
    {
     "name": "stdout",
     "output_type": "stream",
     "text": [
      "Оценка RandomForestRegressor на обучающей выборке\n",
      "Mean MSE: 0.0354 ± 0.0046\n",
      "Mean R^2: -0.0347 ± 0.0299\n"
     ]
    }
   ],
   "source": [
    "\n",
    "# Создание модели с лучшими параметрами\n",
    "best_forest_strength = RandomForestRegressor(random_state=0, **best_param_forest_strength)\n",
    "\n",
    "# Функция, рассчитывающая метрики MSE и R2 \n",
    "score_strength(best_forest_strength, best_param_forest_strength)\n"
   ]
  },
  {
   "cell_type": "markdown",
   "id": "d047b446",
   "metadata": {},
   "source": [
    "#### Полиномиальная регрессия  "
   ]
  },
  {
   "cell_type": "code",
   "execution_count": 34,
   "id": "7d7a716f",
   "metadata": {},
   "outputs": [
    {
     "name": "stdout",
     "output_type": "stream",
     "text": [
      "Fitting 20 folds for each of 24 candidates, totalling 480 fits\n",
      "\n",
      "                            Параметры лучшей модели Pipeline\n",
      "polynomialfeatures__degree                                 1\n",
      "ridge__alpha                                             100\n"
     ]
    }
   ],
   "source": [
    "\n",
    "poly_strength = make_pipeline(PolynomialFeatures(), Ridge())\n",
    "\n",
    "# Функция подбора гиперпараметров\n",
    "best_param_poly_strength = tune_model(poly_strength, param_poly)\n"
   ]
  },
  {
   "cell_type": "code",
   "execution_count": 35,
   "id": "1e3960bb",
   "metadata": {},
   "outputs": [
    {
     "name": "stdout",
     "output_type": "stream",
     "text": [
      "Оценка Pipeline на обучающей выборке\n",
      "Mean MSE: 0.035 ± 0.0048\n",
      "Mean R^2: -0.0196 ± 0.0202\n"
     ]
    }
   ],
   "source": [
    "\n",
    "# Создание модели с лучшими параметрами\n",
    "best_poly_strength = make_pipeline(\n",
    "                     PolynomialFeatures(\n",
    "                         degree=best_param_poly_strength['polynomialfeatures__degree']),\n",
    "                     Ridge(\n",
    "                         alpha=best_param_poly_strength['ridge__alpha']))\n",
    "\n",
    "# Функция, рассчитывающая метрики MSE и R2 \n",
    "score_strength(best_poly_strength, best_param_poly_strength)\n"
   ]
  },
  {
   "cell_type": "code",
   "execution_count": 36,
   "id": "610f6719",
   "metadata": {},
   "outputs": [
    {
     "data": {
      "text/plain": [
       "{'XGBRegressor': {'model': XGBRegressor(base_score=None, booster='dart', callbacks=None,\n",
       "               colsample_bylevel=None, colsample_bynode=None,\n",
       "               colsample_bytree=0.5, early_stopping_rounds=None,\n",
       "               enable_categorical=False, eval_metric=None, feature_types=None,\n",
       "               gamma=None, gpu_id=None, grow_policy=None, importance_type=None,\n",
       "               interaction_constraints=None, learning_rate=0.02, max_bin=None,\n",
       "               max_cat_threshold=None, max_cat_to_onehot=None,\n",
       "               max_delta_step=None, max_depth=10, max_leaves=None,\n",
       "               min_child_weight=None, missing=nan, monotone_constraints=None,\n",
       "               n_estimators=10, n_jobs=-1, num_parallel_tree=None, predictor=None,\n",
       "               random_state=0, ...),\n",
       "  'params': {'booster': 'dart',\n",
       "   'colsample_bytree': 0.5,\n",
       "   'learning_rate': 0.02,\n",
       "   'max_depth': 10,\n",
       "   'n_estimators': 10,\n",
       "   'n_jobs': -1,\n",
       "   'subsample': 0.7}},\n",
       " 'CatBoostRegressor': {'model': <catboost.core.CatBoostRegressor at 0x2b7a1d824a0>,\n",
       "  'params': {'depth': 10,\n",
       "   'iterations': 10,\n",
       "   'l2_leaf_reg': 10,\n",
       "   'learning_rate': 0.01}},\n",
       " 'RandomForestRegressor': {'model': RandomForestRegressor(max_depth=2, n_estimators=200, random_state=0),\n",
       "  'params': {'max_depth': 2,\n",
       "   'min_samples_leaf': 1,\n",
       "   'min_samples_split': 2,\n",
       "   'n_estimators': 200}},\n",
       " 'Pipeline': {'model': Pipeline(steps=[('polynomialfeatures', PolynomialFeatures(degree=1)),\n",
       "                  ('ridge', Ridge(alpha=100))]),\n",
       "  'params': {'polynomialfeatures__degree': 1, 'ridge__alpha': 100}}}"
      ]
     },
     "execution_count": 36,
     "metadata": {},
     "output_type": "execute_result"
    }
   ],
   "source": [
    "# Проверим словарь с моделями\n",
    "models_dict_strength"
   ]
  },
  {
   "cell_type": "markdown",
   "id": "aa335671",
   "metadata": {},
   "source": [
    "  "
   ]
  },
  {
   "cell_type": "markdown",
   "id": "439a6d1b",
   "metadata": {},
   "source": [
    "Сравнив точность моделей для двух прогнозируемых переменных (модуля упругости при растяжении и прочности при растяжении) на обучающей выборке, можно сделать предварительный вывод, что лучшей моделью является градиентный бустинг CatBoost для модуля упругости при растяжении. Рассчитанный коэффициент детерминации для CatBoost имеет максимальную величину -0.01.  \n",
    "При этом для всех моделей характерен отрицательный коэфиициент детерминации, а их среднеквадратическая ошибка близка. Отрицательный коэффициент детерминации говорит об отсутствии взаимосвязи в данных. Вследствие чего, ни одна модель не обладает высокой прогнозирующей способностью."
   ]
  },
  {
   "cell_type": "markdown",
   "id": "0f08e88d",
   "metadata": {},
   "source": [
    "**<p style=\"text-align: center;\">Сравнительные таблицы ошибок и коэффицентов детерминации</p>**  \n",
    "**<p style=\"text-align: center;\">различных моделей на обучающей выборке</p>**"
   ]
  },
  {
   "cell_type": "code",
   "execution_count": 37,
   "id": "048bc4b7",
   "metadata": {},
   "outputs": [
    {
     "data": {
      "text/html": [
       "<div>\n",
       "<style scoped>\n",
       "    .dataframe tbody tr th:only-of-type {\n",
       "        vertical-align: middle;\n",
       "    }\n",
       "\n",
       "    .dataframe tbody tr th {\n",
       "        vertical-align: top;\n",
       "    }\n",
       "\n",
       "    .dataframe thead th {\n",
       "        text-align: right;\n",
       "    }\n",
       "</style>\n",
       "<table border=\"1\" class=\"dataframe\">\n",
       "  <thead>\n",
       "    <tr style=\"text-align: right;\">\n",
       "      <th></th>\n",
       "      <th>Прогнозируемая переменная</th>\n",
       "      <th>Лучшие параметры</th>\n",
       "      <th>Среднеквадратическая ошибка (MSE)</th>\n",
       "      <th>Коэффициент детерминации (R^2)</th>\n",
       "    </tr>\n",
       "    <tr>\n",
       "      <th>Модель</th>\n",
       "      <th></th>\n",
       "      <th></th>\n",
       "      <th></th>\n",
       "      <th></th>\n",
       "    </tr>\n",
       "  </thead>\n",
       "  <tbody>\n",
       "    <tr>\n",
       "      <th>XGBRegressor</th>\n",
       "      <td>Модуль упругости при растяжении</td>\n",
       "      <td>{'booster': 'dart', 'colsample_bytree': 0.5, '...</td>\n",
       "      <td>0.039 ± 0.007</td>\n",
       "      <td>-0.011 ± 0.021</td>\n",
       "    </tr>\n",
       "    <tr>\n",
       "      <th>CatBoostRegressor</th>\n",
       "      <td>Модуль упругости при растяжении</td>\n",
       "      <td>{'depth': 10, 'iterations': 10, 'l2_leaf_reg':...</td>\n",
       "      <td>0.039 ± 0.006</td>\n",
       "      <td>-0.010 ± 0.014</td>\n",
       "    </tr>\n",
       "    <tr>\n",
       "      <th>RandomForestRegressor</th>\n",
       "      <td>Модуль упругости при растяжении</td>\n",
       "      <td>{'max_depth': 2, 'min_samples_leaf': 1, 'min_s...</td>\n",
       "      <td>0.040 ± 0.006</td>\n",
       "      <td>-0.025 ± 0.026</td>\n",
       "    </tr>\n",
       "    <tr>\n",
       "      <th>Pipeline</th>\n",
       "      <td>Модуль упругости при растяжении</td>\n",
       "      <td>{'polynomialfeatures__degree': 1, 'ridge__alph...</td>\n",
       "      <td>0.039 ± 0.006</td>\n",
       "      <td>-0.012 ± 0.017</td>\n",
       "    </tr>\n",
       "  </tbody>\n",
       "</table>\n",
       "</div>"
      ],
      "text/plain": [
       "                             Прогнозируемая переменная   \n",
       "Модель                                                   \n",
       "XGBRegressor           Модуль упругости при растяжении  \\\n",
       "CatBoostRegressor      Модуль упругости при растяжении   \n",
       "RandomForestRegressor  Модуль упругости при растяжении   \n",
       "Pipeline               Модуль упругости при растяжении   \n",
       "\n",
       "                                                        Лучшие параметры   \n",
       "Модель                                                                     \n",
       "XGBRegressor           {'booster': 'dart', 'colsample_bytree': 0.5, '...  \\\n",
       "CatBoostRegressor      {'depth': 10, 'iterations': 10, 'l2_leaf_reg':...   \n",
       "RandomForestRegressor  {'max_depth': 2, 'min_samples_leaf': 1, 'min_s...   \n",
       "Pipeline               {'polynomialfeatures__degree': 1, 'ridge__alph...   \n",
       "\n",
       "                      Среднеквадратическая ошибка (MSE)   \n",
       "Модель                                                    \n",
       "XGBRegressor                              0.039 ± 0.007  \\\n",
       "CatBoostRegressor                         0.039 ± 0.006   \n",
       "RandomForestRegressor                     0.040 ± 0.006   \n",
       "Pipeline                                  0.039 ± 0.006   \n",
       "\n",
       "                      Коэффициент детерминации (R^2)  \n",
       "Модель                                                \n",
       "XGBRegressor                          -0.011 ± 0.021  \n",
       "CatBoostRegressor                     -0.010 ± 0.014  \n",
       "RandomForestRegressor                 -0.025 ± 0.026  \n",
       "Pipeline                              -0.012 ± 0.017  "
      ]
     },
     "execution_count": 37,
     "metadata": {},
     "output_type": "execute_result"
    }
   ],
   "source": [
    "df_module"
   ]
  },
  {
   "cell_type": "code",
   "execution_count": 38,
   "id": "1d6f8b41",
   "metadata": {},
   "outputs": [
    {
     "data": {
      "text/html": [
       "<div>\n",
       "<style scoped>\n",
       "    .dataframe tbody tr th:only-of-type {\n",
       "        vertical-align: middle;\n",
       "    }\n",
       "\n",
       "    .dataframe tbody tr th {\n",
       "        vertical-align: top;\n",
       "    }\n",
       "\n",
       "    .dataframe thead th {\n",
       "        text-align: right;\n",
       "    }\n",
       "</style>\n",
       "<table border=\"1\" class=\"dataframe\">\n",
       "  <thead>\n",
       "    <tr style=\"text-align: right;\">\n",
       "      <th></th>\n",
       "      <th>Прогнозируемая переменная</th>\n",
       "      <th>Лучшие параметры</th>\n",
       "      <th>Среднеквадратическая ошибка (MSE)</th>\n",
       "      <th>Коэффициент детерминации (R^2)</th>\n",
       "    </tr>\n",
       "    <tr>\n",
       "      <th>Модель</th>\n",
       "      <th></th>\n",
       "      <th></th>\n",
       "      <th></th>\n",
       "      <th></th>\n",
       "    </tr>\n",
       "  </thead>\n",
       "  <tbody>\n",
       "    <tr>\n",
       "      <th>XGBRegressor</th>\n",
       "      <td>Прочность при растяжении</td>\n",
       "      <td>{'booster': 'dart', 'colsample_bytree': 0.5, '...</td>\n",
       "      <td>0.035 ± 0.005</td>\n",
       "      <td>-0.025 ± 0.034</td>\n",
       "    </tr>\n",
       "    <tr>\n",
       "      <th>CatBoostRegressor</th>\n",
       "      <td>Прочность при растяжении</td>\n",
       "      <td>{'depth': 10, 'iterations': 10, 'l2_leaf_reg':...</td>\n",
       "      <td>0.035 ± 0.005</td>\n",
       "      <td>-0.019 ± 0.018</td>\n",
       "    </tr>\n",
       "    <tr>\n",
       "      <th>RandomForestRegressor</th>\n",
       "      <td>Прочность при растяжении</td>\n",
       "      <td>{'max_depth': 2, 'min_samples_leaf': 1, 'min_s...</td>\n",
       "      <td>0.035 ± 0.005</td>\n",
       "      <td>-0.035 ± 0.030</td>\n",
       "    </tr>\n",
       "    <tr>\n",
       "      <th>Pipeline</th>\n",
       "      <td>Прочность при растяжении</td>\n",
       "      <td>{'polynomialfeatures__degree': 1, 'ridge__alph...</td>\n",
       "      <td>0.035 ± 0.005</td>\n",
       "      <td>-0.020 ± 0.020</td>\n",
       "    </tr>\n",
       "  </tbody>\n",
       "</table>\n",
       "</div>"
      ],
      "text/plain": [
       "                      Прогнозируемая переменная   \n",
       "Модель                                            \n",
       "XGBRegressor           Прочность при растяжении  \\\n",
       "CatBoostRegressor      Прочность при растяжении   \n",
       "RandomForestRegressor  Прочность при растяжении   \n",
       "Pipeline               Прочность при растяжении   \n",
       "\n",
       "                                                        Лучшие параметры   \n",
       "Модель                                                                     \n",
       "XGBRegressor           {'booster': 'dart', 'colsample_bytree': 0.5, '...  \\\n",
       "CatBoostRegressor      {'depth': 10, 'iterations': 10, 'l2_leaf_reg':...   \n",
       "RandomForestRegressor  {'max_depth': 2, 'min_samples_leaf': 1, 'min_s...   \n",
       "Pipeline               {'polynomialfeatures__degree': 1, 'ridge__alph...   \n",
       "\n",
       "                      Среднеквадратическая ошибка (MSE)   \n",
       "Модель                                                    \n",
       "XGBRegressor                              0.035 ± 0.005  \\\n",
       "CatBoostRegressor                         0.035 ± 0.005   \n",
       "RandomForestRegressor                     0.035 ± 0.005   \n",
       "Pipeline                                  0.035 ± 0.005   \n",
       "\n",
       "                      Коэффициент детерминации (R^2)  \n",
       "Модель                                                \n",
       "XGBRegressor                          -0.025 ± 0.034  \n",
       "CatBoostRegressor                     -0.019 ± 0.018  \n",
       "RandomForestRegressor                 -0.035 ± 0.030  \n",
       "Pipeline                              -0.020 ± 0.020  "
      ]
     },
     "execution_count": 38,
     "metadata": {},
     "output_type": "execute_result"
    }
   ],
   "source": [
    "df_strength"
   ]
  },
  {
   "cell_type": "markdown",
   "id": "635424a8",
   "metadata": {},
   "source": [
    "<font size=2>*Примечание*. Pipeline - комбинация полиномиальной интерполяции и Ridge-регрессии</font>"
   ]
  },
  {
   "cell_type": "markdown",
   "id": "57bf9501",
   "metadata": {},
   "source": [
    "  "
   ]
  },
  {
   "cell_type": "markdown",
   "id": "d66fc002",
   "metadata": {},
   "source": [
    "## Итоговое тестирование моделей"
   ]
  },
  {
   "cell_type": "markdown",
   "id": "29f9e91d",
   "metadata": {},
   "source": [
    "Модели будут извлекаться из двух словарей:  \n",
    "-`models_dict_module` - для модуля упругости при растяжении  \n",
    "-`models_dict_strength` - для прочности при растяжении"
   ]
  },
  {
   "cell_type": "code",
   "execution_count": 39,
   "id": "dfc0905e",
   "metadata": {},
   "outputs": [
    {
     "name": "stdout",
     "output_type": "stream",
     "text": [
      "XGBRegressor :\n",
      "     model\n",
      "     params\n",
      "CatBoostRegressor :\n",
      "     model\n",
      "     params\n",
      "RandomForestRegressor :\n",
      "     model\n",
      "     params\n",
      "Pipeline :\n",
      "     model\n",
      "     params\n"
     ]
    }
   ],
   "source": [
    "# Структура вложенных ключей словаря с моделями\n",
    "\n",
    "for key,value in models_dict_module.items():\n",
    "    print(key, ':')\n",
    "\n",
    "    for key_in in value.keys():\n",
    "        print('    ', key_in)\n"
   ]
  },
  {
   "cell_type": "markdown",
   "id": "085fcd0d",
   "metadata": {},
   "source": [
    "Для удобства продублируем содержание функции test()"
   ]
  },
  {
   "cell_type": "code",
   "execution_count": 40,
   "id": "6d738918",
   "metadata": {},
   "outputs": [],
   "source": [
    "def test(models_dict, y_train, y_test):\n",
    "    '''\n",
    "    Функция оценки модели на тестовой выборке\n",
    "    \n",
    "    '''\n",
    "    \n",
    "    # пустой датафрейм\n",
    "    df = create_df()\n",
    "    \n",
    "    # для каждой модели в словаре моделей\n",
    "    for name, model_dict in models_dict.items():\n",
    "        # извлекаем модель\n",
    "        model = model_dict['model']\n",
    "        # извлекаем параметры\n",
    "        best_param = model_dict['params']\n",
    "        \n",
    "        # обучение модели на train-выборке и прогноз на test-выборке\n",
    "        model.fit(X_train, y_train)\n",
    "        y_pred = model.predict(X_test)\n",
    "        \n",
    "        # оценка качества прогнозов на тестовой выборке\n",
    "        mse = mean_squared_error(y_test, y_pred)\n",
    "        r2 = r2_score(y_test, y_pred)\n",
    "    \n",
    "        # заполнение датафрейма оценками\n",
    "        df.loc[type(model).__name__] = [y_train.name[:-5],\n",
    "                                        best_param,\n",
    "                                        f\"{mse:.3f}\",\n",
    "                                        f\"{r2:.3f} \"]\n",
    "    \n",
    "    return df"
   ]
  },
  {
   "cell_type": "code",
   "execution_count": 41,
   "id": "b9d7ed5d",
   "metadata": {},
   "outputs": [
    {
     "name": "stdout",
     "output_type": "stream",
     "text": [
      "0:\tlearn: 0.1971927\ttotal: 38.8ms\tremaining: 349ms\n",
      "1:\tlearn: 0.1970200\ttotal: 74.2ms\tremaining: 297ms\n",
      "2:\tlearn: 0.1968502\ttotal: 109ms\tremaining: 255ms\n",
      "3:\tlearn: 0.1967549\ttotal: 145ms\tremaining: 218ms\n",
      "4:\tlearn: 0.1966087\ttotal: 181ms\tremaining: 181ms\n",
      "5:\tlearn: 0.1964463\ttotal: 217ms\tremaining: 145ms\n",
      "6:\tlearn: 0.1963010\ttotal: 252ms\tremaining: 108ms\n",
      "7:\tlearn: 0.1961681\ttotal: 291ms\tremaining: 72.7ms\n",
      "8:\tlearn: 0.1960122\ttotal: 328ms\tremaining: 36.4ms\n",
      "9:\tlearn: 0.1958682\ttotal: 363ms\tremaining: 0us\n",
      "0:\tlearn: 0.1864378\ttotal: 37.9ms\tremaining: 341ms\n",
      "1:\tlearn: 0.1862749\ttotal: 74.6ms\tremaining: 298ms\n",
      "2:\tlearn: 0.1861556\ttotal: 110ms\tremaining: 258ms\n",
      "3:\tlearn: 0.1859938\ttotal: 145ms\tremaining: 218ms\n",
      "4:\tlearn: 0.1858553\ttotal: 181ms\tremaining: 181ms\n",
      "5:\tlearn: 0.1857000\ttotal: 216ms\tremaining: 144ms\n",
      "6:\tlearn: 0.1855278\ttotal: 251ms\tremaining: 108ms\n",
      "7:\tlearn: 0.1853734\ttotal: 288ms\tremaining: 72.1ms\n",
      "8:\tlearn: 0.1852179\ttotal: 326ms\tremaining: 36.2ms\n",
      "9:\tlearn: 0.1850763\ttotal: 361ms\tremaining: 0us\n"
     ]
    }
   ],
   "source": [
    "\n",
    "# Вызов функции оценивания test()\n",
    "\n",
    "result_module = test(models_dict_module, y_module_train, y_module_test)\n",
    "result_strength = test(models_dict_strength, y_strength_train, y_strength_test)\n"
   ]
  },
  {
   "cell_type": "markdown",
   "id": "42971d49",
   "metadata": {},
   "source": [
    "**<p style=\"text-align: center;\">Сравнительные таблицы ошибок и коэффицентов детерминации</p>**  \n",
    "**<p style=\"text-align: center;\">различных моделей на тестовой выборке</p>**"
   ]
  },
  {
   "cell_type": "code",
   "execution_count": 42,
   "id": "b2fdd82e",
   "metadata": {},
   "outputs": [
    {
     "data": {
      "text/html": [
       "<div>\n",
       "<style scoped>\n",
       "    .dataframe tbody tr th:only-of-type {\n",
       "        vertical-align: middle;\n",
       "    }\n",
       "\n",
       "    .dataframe tbody tr th {\n",
       "        vertical-align: top;\n",
       "    }\n",
       "\n",
       "    .dataframe thead th {\n",
       "        text-align: right;\n",
       "    }\n",
       "</style>\n",
       "<table border=\"1\" class=\"dataframe\">\n",
       "  <thead>\n",
       "    <tr style=\"text-align: right;\">\n",
       "      <th></th>\n",
       "      <th>Прогнозируемая переменная</th>\n",
       "      <th>Лучшие параметры</th>\n",
       "      <th>Среднеквадратическая ошибка (MSE)</th>\n",
       "      <th>Коэффициент детерминации (R^2)</th>\n",
       "    </tr>\n",
       "    <tr>\n",
       "      <th>Модель</th>\n",
       "      <th></th>\n",
       "      <th></th>\n",
       "      <th></th>\n",
       "      <th></th>\n",
       "    </tr>\n",
       "  </thead>\n",
       "  <tbody>\n",
       "    <tr>\n",
       "      <th>XGBRegressor</th>\n",
       "      <td>Модуль упругости при растяжении</td>\n",
       "      <td>{'booster': 'dart', 'colsample_bytree': 0.5, '...</td>\n",
       "      <td>-0.030</td>\n",
       "      <td>0.006</td>\n",
       "    </tr>\n",
       "    <tr>\n",
       "      <th>CatBoostRegressor</th>\n",
       "      <td>Модуль упругости при растяжении</td>\n",
       "      <td>{'depth': 10, 'iterations': 10, 'l2_leaf_reg':...</td>\n",
       "      <td>-0.031</td>\n",
       "      <td>0.000</td>\n",
       "    </tr>\n",
       "    <tr>\n",
       "      <th>RandomForestRegressor</th>\n",
       "      <td>Модуль упругости при растяжении</td>\n",
       "      <td>{'max_depth': 2, 'min_samples_leaf': 1, 'min_s...</td>\n",
       "      <td>-0.031</td>\n",
       "      <td>-0.010</td>\n",
       "    </tr>\n",
       "    <tr>\n",
       "      <th>Pipeline</th>\n",
       "      <td>Модуль упругости при растяжении</td>\n",
       "      <td>{'polynomialfeatures__degree': 1, 'ridge__alph...</td>\n",
       "      <td>-0.031</td>\n",
       "      <td>-0.001</td>\n",
       "    </tr>\n",
       "  </tbody>\n",
       "</table>\n",
       "</div>"
      ],
      "text/plain": [
       "                             Прогнозируемая переменная   \n",
       "Модель                                                   \n",
       "XGBRegressor           Модуль упругости при растяжении  \\\n",
       "CatBoostRegressor      Модуль упругости при растяжении   \n",
       "RandomForestRegressor  Модуль упругости при растяжении   \n",
       "Pipeline               Модуль упругости при растяжении   \n",
       "\n",
       "                                                        Лучшие параметры   \n",
       "Модель                                                                     \n",
       "XGBRegressor           {'booster': 'dart', 'colsample_bytree': 0.5, '...  \\\n",
       "CatBoostRegressor      {'depth': 10, 'iterations': 10, 'l2_leaf_reg':...   \n",
       "RandomForestRegressor  {'max_depth': 2, 'min_samples_leaf': 1, 'min_s...   \n",
       "Pipeline               {'polynomialfeatures__degree': 1, 'ridge__alph...   \n",
       "\n",
       "                      Среднеквадратическая ошибка (MSE)   \n",
       "Модель                                                    \n",
       "XGBRegressor                                     -0.030  \\\n",
       "CatBoostRegressor                                -0.031   \n",
       "RandomForestRegressor                            -0.031   \n",
       "Pipeline                                         -0.031   \n",
       "\n",
       "                      Коэффициент детерминации (R^2)  \n",
       "Модель                                                \n",
       "XGBRegressor                                  0.006   \n",
       "CatBoostRegressor                             0.000   \n",
       "RandomForestRegressor                        -0.010   \n",
       "Pipeline                                     -0.001   "
      ]
     },
     "execution_count": 42,
     "metadata": {},
     "output_type": "execute_result"
    }
   ],
   "source": [
    "result_module"
   ]
  },
  {
   "cell_type": "code",
   "execution_count": 43,
   "id": "80039ebd",
   "metadata": {},
   "outputs": [
    {
     "data": {
      "text/html": [
       "<div>\n",
       "<style scoped>\n",
       "    .dataframe tbody tr th:only-of-type {\n",
       "        vertical-align: middle;\n",
       "    }\n",
       "\n",
       "    .dataframe tbody tr th {\n",
       "        vertical-align: top;\n",
       "    }\n",
       "\n",
       "    .dataframe thead th {\n",
       "        text-align: right;\n",
       "    }\n",
       "</style>\n",
       "<table border=\"1\" class=\"dataframe\">\n",
       "  <thead>\n",
       "    <tr style=\"text-align: right;\">\n",
       "      <th></th>\n",
       "      <th>Прогнозируемая переменная</th>\n",
       "      <th>Лучшие параметры</th>\n",
       "      <th>Среднеквадратическая ошибка (MSE)</th>\n",
       "      <th>Коэффициент детерминации (R^2)</th>\n",
       "    </tr>\n",
       "    <tr>\n",
       "      <th>Модель</th>\n",
       "      <th></th>\n",
       "      <th></th>\n",
       "      <th></th>\n",
       "      <th></th>\n",
       "    </tr>\n",
       "  </thead>\n",
       "  <tbody>\n",
       "    <tr>\n",
       "      <th>XGBRegressor</th>\n",
       "      <td>Прочность при растяжении</td>\n",
       "      <td>{'booster': 'dart', 'colsample_bytree': 0.5, '...</td>\n",
       "      <td>-0.035</td>\n",
       "      <td>0.005</td>\n",
       "    </tr>\n",
       "    <tr>\n",
       "      <th>CatBoostRegressor</th>\n",
       "      <td>Прочность при растяжении</td>\n",
       "      <td>{'depth': 10, 'iterations': 10, 'l2_leaf_reg':...</td>\n",
       "      <td>-0.036</td>\n",
       "      <td>-0.006</td>\n",
       "    </tr>\n",
       "    <tr>\n",
       "      <th>RandomForestRegressor</th>\n",
       "      <td>Прочность при растяжении</td>\n",
       "      <td>{'max_depth': 2, 'min_samples_leaf': 1, 'min_s...</td>\n",
       "      <td>-0.036</td>\n",
       "      <td>-0.005</td>\n",
       "    </tr>\n",
       "    <tr>\n",
       "      <th>Pipeline</th>\n",
       "      <td>Прочность при растяжении</td>\n",
       "      <td>{'polynomialfeatures__degree': 1, 'ridge__alph...</td>\n",
       "      <td>-0.036</td>\n",
       "      <td>-0.005</td>\n",
       "    </tr>\n",
       "  </tbody>\n",
       "</table>\n",
       "</div>"
      ],
      "text/plain": [
       "                      Прогнозируемая переменная   \n",
       "Модель                                            \n",
       "XGBRegressor           Прочность при растяжении  \\\n",
       "CatBoostRegressor      Прочность при растяжении   \n",
       "RandomForestRegressor  Прочность при растяжении   \n",
       "Pipeline               Прочность при растяжении   \n",
       "\n",
       "                                                        Лучшие параметры   \n",
       "Модель                                                                     \n",
       "XGBRegressor           {'booster': 'dart', 'colsample_bytree': 0.5, '...  \\\n",
       "CatBoostRegressor      {'depth': 10, 'iterations': 10, 'l2_leaf_reg':...   \n",
       "RandomForestRegressor  {'max_depth': 2, 'min_samples_leaf': 1, 'min_s...   \n",
       "Pipeline               {'polynomialfeatures__degree': 1, 'ridge__alph...   \n",
       "\n",
       "                      Среднеквадратическая ошибка (MSE)   \n",
       "Модель                                                    \n",
       "XGBRegressor                                     -0.035  \\\n",
       "CatBoostRegressor                                -0.036   \n",
       "RandomForestRegressor                            -0.036   \n",
       "Pipeline                                         -0.036   \n",
       "\n",
       "                      Коэффициент детерминации (R^2)  \n",
       "Модель                                                \n",
       "XGBRegressor                                  0.005   \n",
       "CatBoostRegressor                            -0.006   \n",
       "RandomForestRegressor                        -0.005   \n",
       "Pipeline                                     -0.005   "
      ]
     },
     "execution_count": 43,
     "metadata": {},
     "output_type": "execute_result"
    }
   ],
   "source": [
    "result_strength"
   ]
  },
  {
   "cell_type": "markdown",
   "id": "0d7caa53",
   "metadata": {},
   "source": [
    "<font size=2>*Примечание*. Pipeline - комбинация полиномиальной интерполяции и Ridge-регрессии</font>"
   ]
  },
  {
   "cell_type": "markdown",
   "id": "1dfe58ff",
   "metadata": {},
   "source": [
    "  "
   ]
  },
  {
   "cell_type": "markdown",
   "id": "bd48201b",
   "metadata": {},
   "source": [
    "**<p style=\"text-align: center;\">Выбор лучшей ML-модели</p>**  \n",
    "  \n",
    "| Тип выборки | Лучшая модель | Переменная | MSE | R<sup>2</sup> |  \n",
    "| --- | --- | --- | --- | --- |    \n",
    "| **train** | CatBoostRegressor | Модуль упругости при растяжении | 0.039 | -0.010 |  \n",
    "| **test** | XGBRegressor | Модуль упругости при растяжении | 0.030 | 0.006 |  \n",
    "  \n"
   ]
  },
  {
   "cell_type": "markdown",
   "id": "f28236b1",
   "metadata": {},
   "source": [
    "Таким образом лучшей моделью является градиентный бустинг XGBRegressor для прогноза Модуля упругости при растяжении c параметрами ниже."
   ]
  },
  {
   "cell_type": "code",
   "execution_count": 44,
   "id": "def963ff",
   "metadata": {},
   "outputs": [
    {
     "data": {
      "text/html": [
       "<div>\n",
       "<style scoped>\n",
       "    .dataframe tbody tr th:only-of-type {\n",
       "        vertical-align: middle;\n",
       "    }\n",
       "\n",
       "    .dataframe tbody tr th {\n",
       "        vertical-align: top;\n",
       "    }\n",
       "\n",
       "    .dataframe thead th {\n",
       "        text-align: right;\n",
       "    }\n",
       "</style>\n",
       "<table border=\"1\" class=\"dataframe\">\n",
       "  <thead>\n",
       "    <tr style=\"text-align: right;\">\n",
       "      <th></th>\n",
       "      <th>Параметры лучшей модели XGBRegressor</th>\n",
       "    </tr>\n",
       "  </thead>\n",
       "  <tbody>\n",
       "    <tr>\n",
       "      <th>booster</th>\n",
       "      <td>dart</td>\n",
       "    </tr>\n",
       "    <tr>\n",
       "      <th>colsample_bytree</th>\n",
       "      <td>0.5</td>\n",
       "    </tr>\n",
       "    <tr>\n",
       "      <th>learning_rate</th>\n",
       "      <td>0.02</td>\n",
       "    </tr>\n",
       "    <tr>\n",
       "      <th>max_depth</th>\n",
       "      <td>10</td>\n",
       "    </tr>\n",
       "    <tr>\n",
       "      <th>n_estimators</th>\n",
       "      <td>10</td>\n",
       "    </tr>\n",
       "    <tr>\n",
       "      <th>n_jobs</th>\n",
       "      <td>-1</td>\n",
       "    </tr>\n",
       "    <tr>\n",
       "      <th>subsample</th>\n",
       "      <td>0.7</td>\n",
       "    </tr>\n",
       "  </tbody>\n",
       "</table>\n",
       "</div>"
      ],
      "text/plain": [
       "                 Параметры лучшей модели XGBRegressor\n",
       "booster                                          dart\n",
       "colsample_bytree                                  0.5\n",
       "learning_rate                                    0.02\n",
       "max_depth                                          10\n",
       "n_estimators                                       10\n",
       "n_jobs                                             -1\n",
       "subsample                                         0.7"
      ]
     },
     "execution_count": 44,
     "metadata": {},
     "output_type": "execute_result"
    }
   ],
   "source": [
    "pd.DataFrame(best_param_xgb, index=['Параметры лучшей модели XGBRegressor']).T"
   ]
  },
  {
   "cell_type": "markdown",
   "id": "d5ec9749",
   "metadata": {},
   "source": [
    "  "
   ]
  },
  {
   "cell_type": "code",
   "execution_count": 46,
   "id": "fb7486fe",
   "metadata": {},
   "outputs": [],
   "source": [
    "\n",
    "# Запись результатов в файлы - директории не исправлены\n",
    "\n",
    "# Словари\n",
    "\n",
    "with open('evaluation/models_dict_module.pickle', 'wb') as f_module:\n",
    "    pickle.dump(models_dict_module, f_module)\n",
    "\n",
    "\n",
    "with open('evaluation/models_dict_strength.pickle', 'wb') as f_strength:\n",
    "    pickle.dump(models_dict_strength, f_strength)\n",
    "\n",
    "# параметры лучшей модели XGBRegressor\n",
    "with open('evaluation/best_param_xgb.pickle', 'wb') as f:\n",
    "    pickle.dump(best_param_xgb, f)\n",
    "\n",
    "\n",
    "# Таблицы\n",
    "\n",
    "df_module.to_excel('evaluation/оценки модуля на train.xlsx')\n",
    "df_strength.to_excel('evaluation/оценки прочности на train.xlsx')\n",
    "\n",
    "result_module.to_excel('evaluation/оценки модуля на test.xlsx')\n",
    "result_strength.to_excel('evaluation/оценки прочности на test.xlsx')\n"
   ]
  },
  {
   "cell_type": "code",
   "execution_count": null,
   "id": "9bb09739",
   "metadata": {},
   "outputs": [],
   "source": []
  },
  {
   "cell_type": "code",
   "execution_count": null,
   "id": "4939929c",
   "metadata": {},
   "outputs": [],
   "source": [
    "# inverse_transform ?"
   ]
  },
  {
   "cell_type": "markdown",
   "id": "b855d6e5",
   "metadata": {},
   "source": [
    "Features importance"
   ]
  },
  {
   "cell_type": "code",
   "execution_count": null,
   "id": "0d8c22a1",
   "metadata": {},
   "outputs": [],
   "source": []
  }
 ],
 "metadata": {
  "kernelspec": {
   "display_name": "Python 3 (ipykernel)",
   "language": "python",
   "name": "python3"
  },
  "language_info": {
   "codemirror_mode": {
    "name": "ipython",
    "version": 3
   },
   "file_extension": ".py",
   "mimetype": "text/x-python",
   "name": "python",
   "nbconvert_exporter": "python",
   "pygments_lexer": "ipython3",
   "version": "3.10.5"
  }
 },
 "nbformat": 4,
 "nbformat_minor": 5
}
