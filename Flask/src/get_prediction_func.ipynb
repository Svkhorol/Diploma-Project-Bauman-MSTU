{
 "cells": [
  {
   "cell_type": "markdown",
   "id": "d148636b",
   "metadata": {},
   "source": [
    "## Подготовка модели для web-приложения"
   ]
  },
  {
   "cell_type": "code",
   "execution_count": 1,
   "id": "eb28b4b8",
   "metadata": {},
   "outputs": [],
   "source": [
    "\n",
    "import numpy as np\n",
    "import pandas as pd\n",
    "import pickle\n",
    "\n",
    "from sklearn.preprocessing import MinMaxScaler\n",
    "from xgboost import XGBRegressor\n"
   ]
  },
  {
   "cell_type": "markdown",
   "id": "294a1533",
   "metadata": {},
   "source": [
    "  "
   ]
  },
  {
   "cell_type": "code",
   "execution_count": 2,
   "id": "2844ee43",
   "metadata": {},
   "outputs": [
    {
     "name": "stdout",
     "output_type": "stream",
     "text": [
      "(936, 13)\n"
     ]
    },
    {
     "data": {
      "text/html": [
       "<div>\n",
       "<style scoped>\n",
       "    .dataframe tbody tr th:only-of-type {\n",
       "        vertical-align: middle;\n",
       "    }\n",
       "\n",
       "    .dataframe tbody tr th {\n",
       "        vertical-align: top;\n",
       "    }\n",
       "\n",
       "    .dataframe thead th {\n",
       "        text-align: right;\n",
       "    }\n",
       "</style>\n",
       "<table border=\"1\" class=\"dataframe\">\n",
       "  <thead>\n",
       "    <tr style=\"text-align: right;\">\n",
       "      <th></th>\n",
       "      <th>Количество отвердителя, м.%</th>\n",
       "      <th>Содержание эпоксидных групп, %</th>\n",
       "      <th>Температура вспышки, С</th>\n",
       "      <th>Потребление смолы, г/м2</th>\n",
       "      <th>Угол нашивки, град</th>\n",
       "      <th>Шаг нашивки</th>\n",
       "      <th>Плотность нашивки</th>\n",
       "      <th>Плотность, кг/м3</th>\n",
       "      <th>Поверхностная плотность, г/м2</th>\n",
       "      <th>Модуль упругости, ГПа</th>\n",
       "      <th>Соотношение матрица-наполнитель</th>\n",
       "      <th>Модуль упругости при растяжении, ГПа</th>\n",
       "      <th>Прочность при растяжении, МПа</th>\n",
       "    </tr>\n",
       "  </thead>\n",
       "  <tbody>\n",
       "    <tr>\n",
       "      <th>0</th>\n",
       "      <td>50.00</td>\n",
       "      <td>23.750000</td>\n",
       "      <td>284.615385</td>\n",
       "      <td>220.0</td>\n",
       "      <td>0</td>\n",
       "      <td>4.0</td>\n",
       "      <td>60.0</td>\n",
       "      <td>2030.0</td>\n",
       "      <td>210.0</td>\n",
       "      <td>738.736842</td>\n",
       "      <td>1.857143</td>\n",
       "      <td>70.0</td>\n",
       "      <td>3000.0</td>\n",
       "    </tr>\n",
       "    <tr>\n",
       "      <th>1</th>\n",
       "      <td>129.00</td>\n",
       "      <td>21.250000</td>\n",
       "      <td>300.000000</td>\n",
       "      <td>220.0</td>\n",
       "      <td>0</td>\n",
       "      <td>5.0</td>\n",
       "      <td>47.0</td>\n",
       "      <td>2030.0</td>\n",
       "      <td>210.0</td>\n",
       "      <td>738.736842</td>\n",
       "      <td>1.857143</td>\n",
       "      <td>70.0</td>\n",
       "      <td>3000.0</td>\n",
       "    </tr>\n",
       "    <tr>\n",
       "      <th>2</th>\n",
       "      <td>111.86</td>\n",
       "      <td>22.267857</td>\n",
       "      <td>284.615385</td>\n",
       "      <td>220.0</td>\n",
       "      <td>0</td>\n",
       "      <td>5.0</td>\n",
       "      <td>57.0</td>\n",
       "      <td>2030.0</td>\n",
       "      <td>210.0</td>\n",
       "      <td>753.000000</td>\n",
       "      <td>2.771331</td>\n",
       "      <td>70.0</td>\n",
       "      <td>3000.0</td>\n",
       "    </tr>\n",
       "    <tr>\n",
       "      <th>3</th>\n",
       "      <td>111.86</td>\n",
       "      <td>22.267857</td>\n",
       "      <td>284.615385</td>\n",
       "      <td>220.0</td>\n",
       "      <td>0</td>\n",
       "      <td>5.0</td>\n",
       "      <td>60.0</td>\n",
       "      <td>2000.0</td>\n",
       "      <td>210.0</td>\n",
       "      <td>748.000000</td>\n",
       "      <td>2.767918</td>\n",
       "      <td>70.0</td>\n",
       "      <td>3000.0</td>\n",
       "    </tr>\n",
       "    <tr>\n",
       "      <th>4</th>\n",
       "      <td>111.86</td>\n",
       "      <td>22.267857</td>\n",
       "      <td>284.615385</td>\n",
       "      <td>220.0</td>\n",
       "      <td>0</td>\n",
       "      <td>5.0</td>\n",
       "      <td>70.0</td>\n",
       "      <td>1910.0</td>\n",
       "      <td>210.0</td>\n",
       "      <td>807.000000</td>\n",
       "      <td>2.569620</td>\n",
       "      <td>70.0</td>\n",
       "      <td>3000.0</td>\n",
       "    </tr>\n",
       "  </tbody>\n",
       "</table>\n",
       "</div>"
      ],
      "text/plain": [
       "   Количество отвердителя, м.%  Содержание эпоксидных групп, %   \n",
       "0                        50.00                       23.750000  \\\n",
       "1                       129.00                       21.250000   \n",
       "2                       111.86                       22.267857   \n",
       "3                       111.86                       22.267857   \n",
       "4                       111.86                       22.267857   \n",
       "\n",
       "   Температура вспышки, С  Потребление смолы, г/м2  Угол нашивки, град   \n",
       "0              284.615385                    220.0                   0  \\\n",
       "1              300.000000                    220.0                   0   \n",
       "2              284.615385                    220.0                   0   \n",
       "3              284.615385                    220.0                   0   \n",
       "4              284.615385                    220.0                   0   \n",
       "\n",
       "   Шаг нашивки  Плотность нашивки  Плотность, кг/м3   \n",
       "0          4.0               60.0            2030.0  \\\n",
       "1          5.0               47.0            2030.0   \n",
       "2          5.0               57.0            2030.0   \n",
       "3          5.0               60.0            2000.0   \n",
       "4          5.0               70.0            1910.0   \n",
       "\n",
       "   Поверхностная плотность, г/м2  Модуль упругости, ГПа   \n",
       "0                          210.0             738.736842  \\\n",
       "1                          210.0             738.736842   \n",
       "2                          210.0             753.000000   \n",
       "3                          210.0             748.000000   \n",
       "4                          210.0             807.000000   \n",
       "\n",
       "   Соотношение матрица-наполнитель  Модуль упругости при растяжении, ГПа   \n",
       "0                         1.857143                                  70.0  \\\n",
       "1                         1.857143                                  70.0   \n",
       "2                         2.771331                                  70.0   \n",
       "3                         2.767918                                  70.0   \n",
       "4                         2.569620                                  70.0   \n",
       "\n",
       "   Прочность при растяжении, МПа  \n",
       "0                         3000.0  \n",
       "1                         3000.0  \n",
       "2                         3000.0  \n",
       "3                         3000.0  \n",
       "4                         3000.0  "
      ]
     },
     "execution_count": 2,
     "metadata": {},
     "output_type": "execute_result"
    }
   ],
   "source": [
    "# Загружаем очищенные от выбросов данные\n",
    "df = pd.read_csv('../../data/clean.csv')\n",
    "print(df.shape)\n",
    "df.head()"
   ]
  },
  {
   "cell_type": "code",
   "execution_count": 66,
   "id": "976bdeb4",
   "metadata": {},
   "outputs": [
    {
     "data": {
      "text/plain": [
       "Index(['Количество отвердителя, м.%', 'Содержание эпоксидных групп, %',\n",
       "       'Температура вспышки, С', 'Потребление смолы, г/м2',\n",
       "       'Угол нашивки, град', 'Шаг нашивки', 'Плотность нашивки',\n",
       "       'Плотность, кг/м3', 'Поверхностная плотность, г/м2',\n",
       "       'Модуль упругости, ГПа', 'Соотношение матрица-наполнитель'],\n",
       "      dtype='object')"
      ]
     },
     "execution_count": 66,
     "metadata": {},
     "output_type": "execute_result"
    }
   ],
   "source": [
    "# Разделяем X и y\n",
    "\n",
    "y = df['Модуль упругости при растяжении, ГПа']\n",
    "\n",
    "X = df.drop(columns=['Модуль упругости при растяжении, ГПа',\n",
    "                     'Прочность при растяжении, МПа'])\n",
    "X.shape"
   ]
  },
  {
   "cell_type": "code",
   "execution_count": 32,
   "id": "ec7d0a7a",
   "metadata": {},
   "outputs": [],
   "source": [
    "# Переводим в массив, в нужную размерность\n",
    "\n",
    "X = np.array(X)\n",
    "y = np.array(y)\n",
    "\n",
    "y = y.reshape(-1, 1)"
   ]
  },
  {
   "cell_type": "code",
   "execution_count": 33,
   "id": "8e733fe0",
   "metadata": {},
   "outputs": [],
   "source": [
    "# Масштабируем\n",
    "\n",
    "scaler_X = MinMaxScaler()\n",
    "X_scl = scaler_X.fit_transform(X)\n",
    "\n",
    "scaler_y = MinMaxScaler()\n",
    "y_scl = scaler_y.fit_transform(y)"
   ]
  },
  {
   "cell_type": "code",
   "execution_count": 34,
   "id": "0ce6672c",
   "metadata": {},
   "outputs": [
    {
     "data": {
      "text/plain": [
       "{'booster': 'dart',\n",
       " 'colsample_bytree': 0.5,\n",
       " 'learning_rate': 0.02,\n",
       " 'max_depth': 10,\n",
       " 'n_estimators': 10,\n",
       " 'n_jobs': -1,\n",
       " 'subsample': 0.7}"
      ]
     },
     "execution_count": 34,
     "metadata": {},
     "output_type": "execute_result"
    }
   ],
   "source": [
    "# Загружаем гиперпараметры для модели\n",
    "\n",
    "best_param_xgb = pickle.load(open('../../notebooks/evaluation/best_param_xgb.pickle', 'rb'))\n",
    "best_param_xgb"
   ]
  },
  {
   "cell_type": "code",
   "execution_count": 35,
   "id": "6195fe17",
   "metadata": {},
   "outputs": [
    {
     "data": {
      "text/html": [
       "<style>#sk-container-id-3 {color: black;background-color: white;}#sk-container-id-3 pre{padding: 0;}#sk-container-id-3 div.sk-toggleable {background-color: white;}#sk-container-id-3 label.sk-toggleable__label {cursor: pointer;display: block;width: 100%;margin-bottom: 0;padding: 0.3em;box-sizing: border-box;text-align: center;}#sk-container-id-3 label.sk-toggleable__label-arrow:before {content: \"▸\";float: left;margin-right: 0.25em;color: #696969;}#sk-container-id-3 label.sk-toggleable__label-arrow:hover:before {color: black;}#sk-container-id-3 div.sk-estimator:hover label.sk-toggleable__label-arrow:before {color: black;}#sk-container-id-3 div.sk-toggleable__content {max-height: 0;max-width: 0;overflow: hidden;text-align: left;background-color: #f0f8ff;}#sk-container-id-3 div.sk-toggleable__content pre {margin: 0.2em;color: black;border-radius: 0.25em;background-color: #f0f8ff;}#sk-container-id-3 input.sk-toggleable__control:checked~div.sk-toggleable__content {max-height: 200px;max-width: 100%;overflow: auto;}#sk-container-id-3 input.sk-toggleable__control:checked~label.sk-toggleable__label-arrow:before {content: \"▾\";}#sk-container-id-3 div.sk-estimator input.sk-toggleable__control:checked~label.sk-toggleable__label {background-color: #d4ebff;}#sk-container-id-3 div.sk-label input.sk-toggleable__control:checked~label.sk-toggleable__label {background-color: #d4ebff;}#sk-container-id-3 input.sk-hidden--visually {border: 0;clip: rect(1px 1px 1px 1px);clip: rect(1px, 1px, 1px, 1px);height: 1px;margin: -1px;overflow: hidden;padding: 0;position: absolute;width: 1px;}#sk-container-id-3 div.sk-estimator {font-family: monospace;background-color: #f0f8ff;border: 1px dotted black;border-radius: 0.25em;box-sizing: border-box;margin-bottom: 0.5em;}#sk-container-id-3 div.sk-estimator:hover {background-color: #d4ebff;}#sk-container-id-3 div.sk-parallel-item::after {content: \"\";width: 100%;border-bottom: 1px solid gray;flex-grow: 1;}#sk-container-id-3 div.sk-label:hover label.sk-toggleable__label {background-color: #d4ebff;}#sk-container-id-3 div.sk-serial::before {content: \"\";position: absolute;border-left: 1px solid gray;box-sizing: border-box;top: 0;bottom: 0;left: 50%;z-index: 0;}#sk-container-id-3 div.sk-serial {display: flex;flex-direction: column;align-items: center;background-color: white;padding-right: 0.2em;padding-left: 0.2em;position: relative;}#sk-container-id-3 div.sk-item {position: relative;z-index: 1;}#sk-container-id-3 div.sk-parallel {display: flex;align-items: stretch;justify-content: center;background-color: white;position: relative;}#sk-container-id-3 div.sk-item::before, #sk-container-id-3 div.sk-parallel-item::before {content: \"\";position: absolute;border-left: 1px solid gray;box-sizing: border-box;top: 0;bottom: 0;left: 50%;z-index: -1;}#sk-container-id-3 div.sk-parallel-item {display: flex;flex-direction: column;z-index: 1;position: relative;background-color: white;}#sk-container-id-3 div.sk-parallel-item:first-child::after {align-self: flex-end;width: 50%;}#sk-container-id-3 div.sk-parallel-item:last-child::after {align-self: flex-start;width: 50%;}#sk-container-id-3 div.sk-parallel-item:only-child::after {width: 0;}#sk-container-id-3 div.sk-dashed-wrapped {border: 1px dashed gray;margin: 0 0.4em 0.5em 0.4em;box-sizing: border-box;padding-bottom: 0.4em;background-color: white;}#sk-container-id-3 div.sk-label label {font-family: monospace;font-weight: bold;display: inline-block;line-height: 1.2em;}#sk-container-id-3 div.sk-label-container {text-align: center;}#sk-container-id-3 div.sk-container {/* jupyter's `normalize.less` sets `[hidden] { display: none; }` but bootstrap.min.css set `[hidden] { display: none !important; }` so we also need the `!important` here to be able to override the default hidden behavior on the sphinx rendered scikit-learn.org. See: https://github.com/scikit-learn/scikit-learn/issues/21755 */display: inline-block !important;position: relative;}#sk-container-id-3 div.sk-text-repr-fallback {display: none;}</style><div id=\"sk-container-id-3\" class=\"sk-top-container\"><div class=\"sk-text-repr-fallback\"><pre>XGBRegressor(base_score=None, booster=&#x27;dart&#x27;, callbacks=None,\n",
       "             colsample_bylevel=None, colsample_bynode=None,\n",
       "             colsample_bytree=0.5, early_stopping_rounds=None,\n",
       "             enable_categorical=False, eval_metric=None, feature_types=None,\n",
       "             gamma=None, gpu_id=None, grow_policy=None, importance_type=None,\n",
       "             interaction_constraints=None, learning_rate=0.02, max_bin=None,\n",
       "             max_cat_threshold=None, max_cat_to_onehot=None,\n",
       "             max_delta_step=None, max_depth=10, max_leaves=None,\n",
       "             min_child_weight=None, missing=nan, monotone_constraints=None,\n",
       "             n_estimators=10, n_jobs=-1, num_parallel_tree=None, predictor=None,\n",
       "             random_state=0, ...)</pre><b>In a Jupyter environment, please rerun this cell to show the HTML representation or trust the notebook. <br />On GitHub, the HTML representation is unable to render, please try loading this page with nbviewer.org.</b></div><div class=\"sk-container\" hidden><div class=\"sk-item\"><div class=\"sk-estimator sk-toggleable\"><input class=\"sk-toggleable__control sk-hidden--visually\" id=\"sk-estimator-id-3\" type=\"checkbox\" checked><label for=\"sk-estimator-id-3\" class=\"sk-toggleable__label sk-toggleable__label-arrow\">XGBRegressor</label><div class=\"sk-toggleable__content\"><pre>XGBRegressor(base_score=None, booster=&#x27;dart&#x27;, callbacks=None,\n",
       "             colsample_bylevel=None, colsample_bynode=None,\n",
       "             colsample_bytree=0.5, early_stopping_rounds=None,\n",
       "             enable_categorical=False, eval_metric=None, feature_types=None,\n",
       "             gamma=None, gpu_id=None, grow_policy=None, importance_type=None,\n",
       "             interaction_constraints=None, learning_rate=0.02, max_bin=None,\n",
       "             max_cat_threshold=None, max_cat_to_onehot=None,\n",
       "             max_delta_step=None, max_depth=10, max_leaves=None,\n",
       "             min_child_weight=None, missing=nan, monotone_constraints=None,\n",
       "             n_estimators=10, n_jobs=-1, num_parallel_tree=None, predictor=None,\n",
       "             random_state=0, ...)</pre></div></div></div></div></div>"
      ],
      "text/plain": [
       "XGBRegressor(base_score=None, booster='dart', callbacks=None,\n",
       "             colsample_bylevel=None, colsample_bynode=None,\n",
       "             colsample_bytree=0.5, early_stopping_rounds=None,\n",
       "             enable_categorical=False, eval_metric=None, feature_types=None,\n",
       "             gamma=None, gpu_id=None, grow_policy=None, importance_type=None,\n",
       "             interaction_constraints=None, learning_rate=0.02, max_bin=None,\n",
       "             max_cat_threshold=None, max_cat_to_onehot=None,\n",
       "             max_delta_step=None, max_depth=10, max_leaves=None,\n",
       "             min_child_weight=None, missing=nan, monotone_constraints=None,\n",
       "             n_estimators=10, n_jobs=-1, num_parallel_tree=None, predictor=None,\n",
       "             random_state=0, ...)"
      ]
     },
     "execution_count": 35,
     "metadata": {},
     "output_type": "execute_result"
    }
   ],
   "source": [
    "# Создаем и обучаем модель\n",
    "\n",
    "best_xgb = XGBRegressor(random_state=0, **best_param_xgb)\n",
    "best_xgb.fit(X_scl, y_scl)"
   ]
  },
  {
   "cell_type": "code",
   "execution_count": 36,
   "id": "d89f4a3e",
   "metadata": {},
   "outputs": [
    {
     "data": {
      "text/plain": [
       "array([5.00000000e+01, 2.37500000e+01, 2.84615385e+02, 2.20000000e+02,\n",
       "       0.00000000e+00, 4.00000000e+00, 6.00000000e+01, 2.03000000e+03,\n",
       "       2.10000000e+02, 7.38736842e+02, 1.85714286e+00])"
      ]
     },
     "execution_count": 36,
     "metadata": {},
     "output_type": "execute_result"
    }
   ],
   "source": [
    "# Подготовка входного значения для предсказания\n",
    "\n",
    "X_test = X[0]\n",
    "X_test"
   ]
  },
  {
   "cell_type": "code",
   "execution_count": 37,
   "id": "b7ad2d83",
   "metadata": {},
   "outputs": [
    {
     "data": {
      "text/plain": [
       "array([[5.00000000e+01, 2.37500000e+01, 2.84615385e+02, 2.20000000e+02,\n",
       "        0.00000000e+00, 4.00000000e+00, 6.00000000e+01, 2.03000000e+03,\n",
       "        2.10000000e+02, 7.38736842e+02, 1.85714286e+00]])"
      ]
     },
     "execution_count": 37,
     "metadata": {},
     "output_type": "execute_result"
    }
   ],
   "source": [
    "X_test.reshape(1, -1)"
   ]
  },
  {
   "cell_type": "code",
   "execution_count": 38,
   "id": "632b82d0",
   "metadata": {},
   "outputs": [
    {
     "data": {
      "text/plain": [
       "array([[0.07915272, 0.60743528, 0.50916426, 0.52922146, 0.        ,\n",
       "        0.28933398, 0.55715613, 0.65109743, 0.16223008, 0.44706097,\n",
       "        0.27476816]])"
      ]
     },
     "execution_count": 38,
     "metadata": {},
     "output_type": "execute_result"
    }
   ],
   "source": [
    "# Масштабирование входного значения\n",
    "\n",
    "X_test_scl = scaler_X.transform(X_test.reshape(1, -1))\n",
    "X_test_scl"
   ]
  },
  {
   "cell_type": "code",
   "execution_count": 39,
   "id": "e94c41f1",
   "metadata": {},
   "outputs": [
    {
     "data": {
      "text/plain": [
       "array([0.4867716], dtype=float32)"
      ]
     },
     "execution_count": 39,
     "metadata": {},
     "output_type": "execute_result"
    }
   ],
   "source": [
    "# Предсказание\n",
    "\n",
    "y_pred_scl = best_xgb.predict(X_test_scl)\n",
    "y_pred_scl"
   ]
  },
  {
   "cell_type": "code",
   "execution_count": 40,
   "id": "d28ac7b2",
   "metadata": {},
   "outputs": [
    {
     "data": {
      "text/plain": [
       "array([[73.275375]], dtype=float32)"
      ]
     },
     "execution_count": 40,
     "metadata": {},
     "output_type": "execute_result"
    }
   ],
   "source": [
    "# Обратное масштабирование прогноза\n",
    "\n",
    "y_pred = scaler_y.inverse_transform(y_pred_scl.reshape(-1, 1))\n",
    "y_pred"
   ]
  },
  {
   "cell_type": "markdown",
   "id": "fc28086b",
   "metadata": {},
   "source": [
    "  "
   ]
  },
  {
   "cell_type": "markdown",
   "id": "9dac685d",
   "metadata": {},
   "source": [
    "Сохранение модели и масштабаторов"
   ]
  },
  {
   "cell_type": "code",
   "execution_count": 43,
   "id": "99404c04",
   "metadata": {},
   "outputs": [],
   "source": [
    "# Обученная модель\n",
    "\n",
    "pickle.dump(best_xgb, open('../model/model_xgb.pkl', 'wb'))\n",
    "\n",
    "# Масштабатор X\n",
    "pickle.dump(scaler_X, open('../model/scaler_X.pkl', 'wb'))\n",
    "\n",
    "# Масштабатор y\n",
    "pickle.dump(scaler_y, open('../model/scaler_y.pkl', 'wb'))"
   ]
  },
  {
   "cell_type": "markdown",
   "id": "83592de4",
   "metadata": {},
   "source": [
    "  "
   ]
  },
  {
   "cell_type": "markdown",
   "id": "91305670",
   "metadata": {},
   "source": [
    "Функция для обработки данных и вычислений в приложении"
   ]
  },
  {
   "cell_type": "code",
   "execution_count": 63,
   "id": "e5baa2ea",
   "metadata": {},
   "outputs": [],
   "source": [
    "\n",
    "def get_prediction(values):\n",
    "    '''Функция для обработки данных и вычислений'''\n",
    "    \n",
    "    # загрузка модели\n",
    "    model = pickle.load(open('../model/model_xgb.pkl', 'rb'))\n",
    "    \n",
    "    # загрузка масштабаторов\n",
    "    scaler_X = pickle.load(open('../model/scaler_X.pkl', 'rb'))\n",
    "    scaler_y = pickle.load(open('../model/scaler_y.pkl', 'rb'))\n",
    "    \n",
    "    # масштабирование входных значений\n",
    "    X_scl = scaler_X.transform(values.reshape(1, -1))\n",
    "    \n",
    "    # прогноз\n",
    "    y_pred_scl = model.predict(X_scl)\n",
    "    \n",
    "    # обратное масштабирование прогноза\n",
    "    y_pred = scaler_y.inverse_transform(y_pred_scl.reshape(-1, 1))\n",
    "    y_pred = round(float(y_pred), 2)\n",
    "    \n",
    "    return y_pred\n",
    "    "
   ]
  },
  {
   "cell_type": "markdown",
   "id": "c57b0c38",
   "metadata": {},
   "source": [
    "Проверка работы функции"
   ]
  },
  {
   "cell_type": "code",
   "execution_count": 64,
   "id": "c79dcc1f",
   "metadata": {},
   "outputs": [
    {
     "data": {
      "text/plain": [
       "array([ 111.86      ,   22.26785714,  284.61538462,  220.        ,\n",
       "          0.        ,    5.        ,   57.        , 2030.        ,\n",
       "        210.        ,  753.        ,    2.77133106])"
      ]
     },
     "execution_count": 64,
     "metadata": {},
     "output_type": "execute_result"
    }
   ],
   "source": [
    "# входное значение для предсказания\n",
    "values = X[2]\n",
    "values"
   ]
  },
  {
   "cell_type": "code",
   "execution_count": 65,
   "id": "c78fae50",
   "metadata": {},
   "outputs": [
    {
     "data": {
      "text/plain": [
       "73.19"
      ]
     },
     "execution_count": 65,
     "metadata": {},
     "output_type": "execute_result"
    }
   ],
   "source": [
    "prediction = get_prediction(values)\n",
    "prediction"
   ]
  },
  {
   "cell_type": "markdown",
   "id": "df6f2b15",
   "metadata": {},
   "source": [
    "  "
   ]
  },
  {
   "cell_type": "markdown",
   "id": "57d9deeb",
   "metadata": {},
   "source": [
    "### [К содержанию](https://github.com/Svkhorol/Diploma-Project-Bauman-MSTU)"
   ]
  }
 ],
 "metadata": {
  "kernelspec": {
   "display_name": "Python 3 (ipykernel)",
   "language": "python",
   "name": "python3"
  },
  "language_info": {
   "codemirror_mode": {
    "name": "ipython",
    "version": 3
   },
   "file_extension": ".py",
   "mimetype": "text/x-python",
   "name": "python",
   "nbconvert_exporter": "python",
   "pygments_lexer": "ipython3",
   "version": "3.10.5"
  }
 },
 "nbformat": 4,
 "nbformat_minor": 5
}
